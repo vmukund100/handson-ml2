{
 "cells": [
  {
   "cell_type": "code",
   "execution_count": null,
   "metadata": {},
   "outputs": [],
   "source": [
    "# Python ≥3.5 is required\n",
    "import sys\n",
    "assert sys.version_info >= (3, 5)\n",
    "\n",
    "# Scikit-Learn ≥0.20 is required\n",
    "import sklearn\n",
    "assert sklearn.__version__ >= \"0.20\"\n",
    "\n",
    "try:\n",
    "    # %tensorflow_version only exists in Colab.\n",
    "    %tensorflow_version 2.x\n",
    "except Exception:\n",
    "    pass\n",
    "\n",
    "# TensorFlow ≥2.0 is required\n",
    "import tensorflow as tf\n",
    "assert tf.__version__ >= \"2.0\"\n",
    "\n",
    "# Common imports\n",
    "import numpy as np\n",
    "import os\n",
    "\n",
    "# to make this notebook's output stable across runs\n",
    "np.random.seed(42)\n",
    "\n",
    "# To plot pretty figures\n",
    "%matplotlib inline\n",
    "import matplotlib as mpl\n",
    "import matplotlib.pyplot as plt\n",
    "mpl.rc('axes', labelsize=14)\n",
    "mpl.rc('xtick', labelsize=12)\n",
    "mpl.rc('ytick', labelsize=12)\n",
    "\n",
    "# Where to save the figures\n",
    "PROJECT_ROOT_DIR = \".\"\n",
    "CHAPTER_ID = \"ann\"\n",
    "IMAGES_PATH = os.path.join(PROJECT_ROOT_DIR, \"images\", CHAPTER_ID)\n",
    "os.makedirs(IMAGES_PATH, exist_ok=True)\n",
    "\n",
    "def save_fig(fig_id, tight_layout=True, fig_extension=\"png\", resolution=300):\n",
    "    path = os.path.join(IMAGES_PATH, fig_id + \".\" + fig_extension)\n",
    "    print(\"Saving figure\", fig_id)\n",
    "    if tight_layout:\n",
    "        plt.tight_layout()\n",
    "    plt.savefig(path, format=fig_extension, dpi=resolution)"
   ]
  },
  {
   "cell_type": "code",
   "execution_count": 30,
   "metadata": {},
   "outputs": [
    {
     "data": {
      "text/plain": [
       "'2.5.0'"
      ]
     },
     "execution_count": 30,
     "metadata": {},
     "output_type": "execute_result"
    }
   ],
   "source": [
    "import tensorflow as tf\n",
    "from tensorflow import keras\n",
    "keras.__version__"
   ]
  },
  {
   "cell_type": "code",
   "execution_count": 3,
   "metadata": {},
   "outputs": [
    {
     "data": {
      "text/plain": [
       "'2.5.0'"
      ]
     },
     "execution_count": 3,
     "metadata": {},
     "output_type": "execute_result"
    }
   ],
   "source": [
    "tf.__version__"
   ]
  },
  {
   "cell_type": "markdown",
   "metadata": {},
   "source": [
    "#### Perceptrons"
   ]
  },
  {
   "cell_type": "markdown",
   "metadata": {},
   "source": [
    "Note: we set max_iter and tol explicitly to avoid warnings about the fact that their default value will change in future versions of Scikit-Learn."
   ]
  },
  {
   "cell_type": "code",
   "execution_count": 4,
   "metadata": {},
   "outputs": [],
   "source": [
    "import numpy as np\n",
    "from sklearn.datasets import load_iris\n",
    "from sklearn.linear_model import Perceptron\n",
    "\n",
    "iris = load_iris()\n",
    "X = iris.data[:, (2,3)]# petal length & width\n",
    "y = (iris.target==0).astype(np.int)\n",
    "\n",
    "per_clf = Perceptron(max_iter=1000, tol=1e-3, random_state=42)\n",
    "per_clf.fit(X,y)\n",
    "\n",
    "y_pred=per_clf.predict([[2, 0.5]])"
   ]
  },
  {
   "cell_type": "code",
   "execution_count": 5,
   "metadata": {},
   "outputs": [
    {
     "data": {
      "text/plain": [
       "array([1])"
      ]
     },
     "execution_count": 5,
     "metadata": {},
     "output_type": "execute_result"
    }
   ],
   "source": [
    "y_pred"
   ]
  },
  {
   "cell_type": "code",
   "execution_count": 6,
   "metadata": {},
   "outputs": [
    {
     "name": "stdout",
     "output_type": "stream",
     "text": [
      "Saving figure perceptron_iris_plot\n"
     ]
    },
    {
     "data": {
      "image/png": "[encoded data removed]",
      "text/plain": [
       "<Figure size 720x288 with 1 Axes>"
      ]
     },
     "metadata": {
      "needs_background": "light"
     },
     "output_type": "display_data"
    }
   ],
   "source": [
    "a = -per_clf.coef_[0][0]/ per_clf.coef_[0][1]\n",
    "b= -per_clf.intercept_/per_clf.coef_[0][1]\n",
    "\n",
    "axes=[0.5, 7, 0, 3]\n",
    "\n",
    "x0, x1= np.meshgrid(\n",
    "    np.linspace(axes[0], axes[1], 500).reshape(-1,1),\n",
    "    np.linspace(axes[2], axes[3], 200).reshape(-1,1),\n",
    "    )\n",
    "\n",
    "X_new = np.c_[x0.ravel(), x1.ravel()]\n",
    "y_predict = per_clf.predict(X_new)\n",
    "zz=y_predict.reshape(x0.shape)\n",
    "\n",
    "plt.figure(figsize=(10,4))\n",
    "plt.plot(X[y==0,0], X[y==0, 1], 'bs', label='Not Iris-Setosa')\n",
    "plt.plot(X[y==1,0], X[y==1, 1], 'y^', label='Iris-Setosa')\n",
    "plt.plot([axes[0], axes[1]], [a*axes[0] +b, a*axes[1]+b], 'k-', linewidth=3)\n",
    "from matplotlib.colors import ListedColormap\n",
    "custom_cmap = ListedColormap(['#9898ff', '#fafab0'])\n",
    "\n",
    "plt.contourf(x0, x1, zz, cmap=custom_cmap)\n",
    "plt.xlabel('Petal length', fontsize=14)\n",
    "plt.ylabel('Petal width', fontsize=14)\n",
    "plt.legend(loc = 'upper left', fontsize=14)\n",
    "plt.axis(axes)\n",
    "\n",
    "save_fig('perceptron_iris_plot')\n",
    "plt.show()\n"
   ]
  },
  {
   "cell_type": "markdown",
   "metadata": {},
   "source": [
    "##### Activation functions"
   ]
  },
  {
   "cell_type": "code",
   "execution_count": 7,
   "metadata": {},
   "outputs": [],
   "source": [
    "def sigmoid(z):\n",
    "    return 1/(1+np.exp(-z))\n",
    "def relu(z):\n",
    "    return np.maximum(0, z)\n",
    "def derivative(f, z, eps = 0.000001):\n",
    "    return (f(z+eps)-f(z-eps))/(2*eps)"
   ]
  },
  {
   "cell_type": "code",
   "execution_count": 8,
   "metadata": {},
   "outputs": [
    {
     "name": "stdout",
     "output_type": "stream",
     "text": [
      "Saving figure activation_functions_plot\n"
     ]
    },
    {
     "data": {
      "image/png": "[encoded data removed]",
      "text/plain": [
       "<Figure size 792x288 with 2 Axes>"
      ]
     },
     "metadata": {
      "needs_background": "light"
     },
     "output_type": "display_data"
    }
   ],
   "source": [
    "z = np.linspace(-5, 5, 200)\n",
    "plt.figure(figsize=(11,4))\n",
    "\n",
    "plt.subplot(121)\n",
    "plt.plot(z, np.sign(z), 'r-', linewidth=1, label='Step')\n",
    "plt.plot(z, sigmoid(z), 'g--', linewidth=2, label='Sigmoid')\n",
    "plt.plot(z, np.tanh(z), 'b--', linewidth=2, label='Tanh')\n",
    "plt.plot(z, relu(z), 'm-.', linewidth=2, label='ReLU')\n",
    "plt.grid(True)\n",
    "plt.legend(loc = 'center right', fontsize=14)\n",
    "plt.title('Activation functions', fontsize=14)\n",
    "plt.axis([-5, 5, -1.2, 1.2])\n",
    "\n",
    "plt.subplot(122)\n",
    "plt.plot(z, derivative(np.sign,z), 'r-', linewidth=1, label='Step')\n",
    "plt.plot(0,0, 'ro', markersize=5)\n",
    "plt.plot(0, 0, 'rx', markersize=10)\n",
    "plt.plot(z, derivative(sigmoid, z), 'g--', linewidth=2, label='Sigmoid')\n",
    "plt.plot(z, derivative(np.tanh, z), 'b--', linewidth=2, label='Tanh')\n",
    "plt.plot(z, derivative(relu,z), 'm-.', linewidth=2, label='ReLU')\n",
    "plt.grid(True)\n",
    "plt.title('derivatives', fontsize=14)\n",
    "plt.axis([-5, 5, -0.2, 1.2])\n",
    "\n",
    "save_fig('activation_functions_plot')\n",
    "plt.show()"
   ]
  },
  {
   "cell_type": "code",
   "execution_count": 9,
   "metadata": {},
   "outputs": [],
   "source": [
    "def heaviside(z):\n",
    "    return(z>=0).astype(z.dtype)\n",
    "\n",
    "def mlp_xor(x, x2, activation = heaviside):\n",
    "    return activation(-activation(x1 + x2 -1.5) + activation(x1 + x2 -0.5) -0.5)"
   ]
  },
  {
   "cell_type": "code",
   "execution_count": 10,
   "metadata": {},
   "outputs": [
    {
     "data": {
      "image/png": "[encoded data removed]",
      "text/plain": [
       "<Figure size 720x288 with 2 Axes>"
      ]
     },
     "metadata": {
      "needs_background": "light"
     },
     "output_type": "display_data"
    }
   ],
   "source": [
    "x1s = np.linspace(-0.2, 1.2, 100)\n",
    "x2s = np.linspace(-0.2, 1.2, 100)\n",
    "x1, x2 = np.meshgrid(x1s, x2s)\n",
    "\n",
    "z1 = mlp_xor(x1, x2, activation=heaviside)\n",
    "z2 = mlp_xor(x1, x2, activation = sigmoid)\n",
    "\n",
    "plt.figure(figsize=(10,4))\n",
    "\n",
    "plt.subplot(121)\n",
    "plt.contourf(x1, x2, z1)\n",
    "plt.plot([0,1], [0,1], 'gs', markersize=20)\n",
    "plt.plot([0,1], [1,0], 'y^', markersize=20)\n",
    "plt.title('Activation function: heaviside', fontsize=14)\n",
    "plt.grid(True)\n",
    "\n",
    "plt.subplot(122)\n",
    "plt.contourf(x1, x2, z2)\n",
    "plt.plot([0,1], [0,1], 'gs', markersize=20)\n",
    "plt.plot([0,1], [1,0], 'y^', markersize=20)\n",
    "plt.title('Activation function: sigmoid', fontsize=14)\n",
    "plt.grid(True)\n"
   ]
  },
  {
   "cell_type": "markdown",
   "metadata": {},
   "source": [
    "##### Building an Image Classifier"
   ]
  },
  {
   "cell_type": "code",
   "execution_count": 11,
   "metadata": {},
   "outputs": [],
   "source": [
    "import tensorflow as tf\n",
    "from tensorflow import keras"
   ]
  },
  {
   "cell_type": "code",
   "execution_count": 12,
   "metadata": {},
   "outputs": [],
   "source": [
    "fashion_mnist = keras.datasets.fashion_mnist\n",
    "(X_train_full, y_train_full), (X_test, y_test) = fashion_mnist.load_data()\n",
    "#every image is represented by 28X28 array rather than a 1D array of 784\n",
    "# each pixel intensities are represented as integers( 0 to 255) rther than floats"
   ]
  },
  {
   "cell_type": "code",
   "execution_count": 13,
   "metadata": {},
   "outputs": [
    {
     "data": {
      "text/plain": [
       "(60000, 28, 28)"
      ]
     },
     "execution_count": 13,
     "metadata": {},
     "output_type": "execute_result"
    }
   ],
   "source": [
    "X_train_full.shape"
   ]
  },
  {
   "cell_type": "code",
   "execution_count": 14,
   "metadata": {},
   "outputs": [
    {
     "data": {
      "text/plain": [
       "dtype('uint8')"
      ]
     },
     "execution_count": 14,
     "metadata": {},
     "output_type": "execute_result"
    }
   ],
   "source": [
    "X_train_full.dtype"
   ]
  },
  {
   "cell_type": "code",
   "execution_count": 15,
   "metadata": {},
   "outputs": [],
   "source": [
    "# creating validation set + scale intensity between 0 & 1 by dividing by 255 - converting to float\n",
    "X_valid, X_train = X_train_full[:5000] / 255., X_train_full[5000:] / 255.\n",
    "y_valid, y_train = y_train_full[:5000], y_train_full[5000:]\n",
    "X_test = X_test / 255."
   ]
  },
  {
   "cell_type": "code",
   "execution_count": 16,
   "metadata": {},
   "outputs": [
    {
     "data": {
      "image/png": "[encoded data removed]",
      "text/plain": [
       "<Figure size 432x288 with 1 Axes>"
      ]
     },
     "metadata": {
      "needs_background": "light"
     },
     "output_type": "display_data"
    }
   ],
   "source": [
    "plt.imshow(X_train[0], cmap='binary')\n",
    "plt.axis('off')\n",
    "plt.show()\n"
   ]
  },
  {
   "cell_type": "code",
   "execution_count": 17,
   "metadata": {},
   "outputs": [
    {
     "data": {
      "text/plain": [
       "array([4, 0, 7, ..., 3, 0, 5], dtype=uint8)"
      ]
     },
     "execution_count": 17,
     "metadata": {},
     "output_type": "execute_result"
    }
   ],
   "source": [
    "y_train"
   ]
  },
  {
   "cell_type": "code",
   "execution_count": 18,
   "metadata": {},
   "outputs": [],
   "source": [
    "class_names = [\"T-shirt/top\", \"Trouser\", \"Pullover\", \"Dress\", \"Coat\",\n",
    "               \"Sandal\", \"Shirt\", \"Sneaker\", \"Bag\", \"Ankle boot\"]"
   ]
  },
  {
   "cell_type": "code",
   "execution_count": 19,
   "metadata": {},
   "outputs": [
    {
     "data": {
      "text/plain": [
       "'Coat'"
      ]
     },
     "execution_count": 19,
     "metadata": {},
     "output_type": "execute_result"
    }
   ],
   "source": [
    "class_names[y_train[0]]"
   ]
  },
  {
   "cell_type": "code",
   "execution_count": 68,
   "metadata": {},
   "outputs": [
    {
     "data": {
      "text/plain": [
       "(5000, 28, 28)"
      ]
     },
     "execution_count": 68,
     "metadata": {},
     "output_type": "execute_result"
    }
   ],
   "source": [
    "X_valid.shape"
   ]
  },
  {
   "cell_type": "code",
   "execution_count": 69,
   "metadata": {},
   "outputs": [
    {
     "data": {
      "text/plain": [
       "(10000, 28, 28)"
      ]
     },
     "execution_count": 69,
     "metadata": {},
     "output_type": "execute_result"
    }
   ],
   "source": [
    "X_test.shape"
   ]
  },
  {
   "cell_type": "code",
   "execution_count": 70,
   "metadata": {},
   "outputs": [
    {
     "name": "stdout",
     "output_type": "stream",
     "text": [
      "Saving figure fashion_mnist_plot\n"
     ]
    },
    {
     "data": {
      "image/png": "[encoded data removed]",
      "text/plain": [
       "<Figure size 864x345.6 with 40 Axes>"
      ]
     },
     "metadata": {
      "needs_background": "light"
     },
     "output_type": "display_data"
    }
   ],
   "source": [
    "n_rows = 4\n",
    "n_cols = 10\n",
    "plt.figure(figsize=(n_cols * 1.2, n_rows * 1.2))\n",
    "for row in range(n_rows):\n",
    "    for col in range(n_cols):\n",
    "        index = n_cols * row + col\n",
    "        plt.subplot(n_rows, n_cols, index + 1)\n",
    "        plt.imshow(X_train[index], cmap=\"binary\", interpolation=\"nearest\")\n",
    "        plt.axis('off')\n",
    "        plt.title(class_names[y_train[index]], fontsize=12)\n",
    "plt.subplots_adjust(wspace=0.2, hspace=0.5)\n",
    "save_fig('fashion_mnist_plot', tight_layout=False)\n",
    "plt.show()"
   ]
  },
  {
   "cell_type": "markdown",
   "metadata": {},
   "source": [
    "##### Neural network\n",
    "MLP of two hidden layers"
   ]
  },
  {
   "cell_type": "code",
   "execution_count": 31,
   "metadata": {},
   "outputs": [],
   "source": [
    "model = keras.models.Sequential()\n",
    "model.add(keras.layers.Flatten(input_shape=[28,28]))\n",
    "model.add(keras.layers.Dense(300, activation='relu'))\n",
    "model.add(keras.layers.Dense(100, activation='relu'))\n",
    "model.add(keras.layers.Dense(10, activation='softmax'))"
   ]
  },
  {
   "cell_type": "code",
   "execution_count": 32,
   "metadata": {},
   "outputs": [],
   "source": [
    "keras.backend.clear_session()\n",
    "np.random.seed(42)\n",
    "tf.random.set_seed(42)"
   ]
  },
  {
   "cell_type": "code",
   "execution_count": 33,
   "metadata": {},
   "outputs": [],
   "source": [
    "model = keras.models.Sequential([\n",
    "    keras.layers.Flatten(input_shape=[28, 28]),\n",
    "    keras.layers.Dense(300, activation=\"relu\"),\n",
    "    keras.layers.Dense(100, activation=\"relu\"),\n",
    "    keras.layers.Dense(10, activation=\"softmax\")\n",
    "])"
   ]
  },
  {
   "cell_type": "code",
   "execution_count": 34,
   "metadata": {},
   "outputs": [
    {
     "data": {
      "text/plain": [
       "[<tensorflow.python.keras.layers.core.Flatten at 0x27e5a95ef08>,\n",
       " <tensorflow.python.keras.layers.core.Dense at 0x27e5a95f148>,\n",
       " <tensorflow.python.keras.layers.core.Dense at 0x27e5a95f608>,\n",
       " <tensorflow.python.keras.layers.core.Dense at 0x27e5a95fc48>]"
      ]
     },
     "execution_count": 34,
     "metadata": {},
     "output_type": "execute_result"
    }
   ],
   "source": [
    "model.layers"
   ]
  },
  {
   "cell_type": "code",
   "execution_count": 35,
   "metadata": {},
   "outputs": [
    {
     "name": "stdout",
     "output_type": "stream",
     "text": [
      "Model: \"sequential\"\n",
      "_________________________________________________________________\n",
      "Layer (type)                 Output Shape              Param #   \n",
      "=================================================================\n",
      "flatten (Flatten)            (None, 784)               0         \n",
      "_________________________________________________________________\n",
      "dense (Dense)                (None, 300)               235500    \n",
      "_________________________________________________________________\n",
      "dense_1 (Dense)              (None, 100)               30100     \n",
      "_________________________________________________________________\n",
      "dense_2 (Dense)              (None, 10)                1010      \n",
      "=================================================================\n",
      "Total params: 266,610\n",
      "Trainable params: 266,610\n",
      "Non-trainable params: 0\n",
      "_________________________________________________________________\n"
     ]
    }
   ],
   "source": [
    "model.summary()"
   ]
  },
  {
   "cell_type": "code",
   "execution_count": 36,
   "metadata": {},
   "outputs": [
    {
     "name": "stdout",
     "output_type": "stream",
     "text": [
      "('You must install pydot (`pip install pydot`) and install graphviz (see instructions at https://graphviz.gitlab.io/download/) ', 'for plot_model/model_to_dot to work.')\n"
     ]
    }
   ],
   "source": [
    "keras.utils.plot_model(model, 'my_fashion_mnist_model.png', show_shapes=True)"
   ]
  },
  {
   "cell_type": "code",
   "execution_count": 37,
   "metadata": {},
   "outputs": [
    {
     "data": {
      "text/plain": [
       "'dense'"
      ]
     },
     "execution_count": 37,
     "metadata": {},
     "output_type": "execute_result"
    }
   ],
   "source": [
    "hidden1 = model.layers[1]\n",
    "hidden1.name"
   ]
  },
  {
   "cell_type": "code",
   "execution_count": 38,
   "metadata": {},
   "outputs": [
    {
     "data": {
      "text/plain": [
       "True"
      ]
     },
     "execution_count": 38,
     "metadata": {},
     "output_type": "execute_result"
    }
   ],
   "source": [
    "model.get_layer('dense') is hidden1"
   ]
  },
  {
   "cell_type": "code",
   "execution_count": 40,
   "metadata": {},
   "outputs": [
    {
     "data": {
      "text/plain": [
       "array([[ 0.02448617, -0.00877795, -0.02189048, ..., -0.02766046,\n",
       "         0.03859074, -0.06889391],\n",
       "       [ 0.00476504, -0.03105379, -0.0586676 , ...,  0.00602964,\n",
       "        -0.02763776, -0.04165364],\n",
       "       [-0.06189284, -0.06901957,  0.07102345, ..., -0.04238207,\n",
       "         0.07121518, -0.07331658],\n",
       "       ...,\n",
       "       [-0.03048757,  0.02155137, -0.05400612, ..., -0.00113463,\n",
       "         0.00228987,  0.05581069],\n",
       "       [ 0.07061854, -0.06960931,  0.07038955, ..., -0.00384101,\n",
       "         0.00034875,  0.02878492],\n",
       "       [-0.06022581,  0.01577859, -0.02585464, ..., -0.00527829,\n",
       "         0.00272203, -0.06793761]], dtype=float32)"
      ]
     },
     "execution_count": 40,
     "metadata": {},
     "output_type": "execute_result"
    }
   ],
   "source": [
    "weights, biases = hidden1.get_weights()\n",
    "weights"
   ]
  },
  {
   "cell_type": "code",
   "execution_count": 41,
   "metadata": {},
   "outputs": [
    {
     "data": {
      "text/plain": [
       "(784, 300)"
      ]
     },
     "execution_count": 41,
     "metadata": {},
     "output_type": "execute_result"
    }
   ],
   "source": [
    "weights.shape"
   ]
  },
  {
   "cell_type": "code",
   "execution_count": 42,
   "metadata": {},
   "outputs": [
    {
     "data": {
      "text/plain": [
       "array([0., 0., 0., 0., 0., 0., 0., 0., 0., 0., 0., 0., 0., 0., 0., 0., 0.,\n",
       "       0., 0., 0., 0., 0., 0., 0., 0., 0., 0., 0., 0., 0., 0., 0., 0., 0.,\n",
       "       0., 0., 0., 0., 0., 0., 0., 0., 0., 0., 0., 0., 0., 0., 0., 0., 0.,\n",
       "       0., 0., 0., 0., 0., 0., 0., 0., 0., 0., 0., 0., 0., 0., 0., 0., 0.,\n",
       "       0., 0., 0., 0., 0., 0., 0., 0., 0., 0., 0., 0., 0., 0., 0., 0., 0.,\n",
       "       0., 0., 0., 0., 0., 0., 0., 0., 0., 0., 0., 0., 0., 0., 0., 0., 0.,\n",
       "       0., 0., 0., 0., 0., 0., 0., 0., 0., 0., 0., 0., 0., 0., 0., 0., 0.,\n",
       "       0., 0., 0., 0., 0., 0., 0., 0., 0., 0., 0., 0., 0., 0., 0., 0., 0.,\n",
       "       0., 0., 0., 0., 0., 0., 0., 0., 0., 0., 0., 0., 0., 0., 0., 0., 0.,\n",
       "       0., 0., 0., 0., 0., 0., 0., 0., 0., 0., 0., 0., 0., 0., 0., 0., 0.,\n",
       "       0., 0., 0., 0., 0., 0., 0., 0., 0., 0., 0., 0., 0., 0., 0., 0., 0.,\n",
       "       0., 0., 0., 0., 0., 0., 0., 0., 0., 0., 0., 0., 0., 0., 0., 0., 0.,\n",
       "       0., 0., 0., 0., 0., 0., 0., 0., 0., 0., 0., 0., 0., 0., 0., 0., 0.,\n",
       "       0., 0., 0., 0., 0., 0., 0., 0., 0., 0., 0., 0., 0., 0., 0., 0., 0.,\n",
       "       0., 0., 0., 0., 0., 0., 0., 0., 0., 0., 0., 0., 0., 0., 0., 0., 0.,\n",
       "       0., 0., 0., 0., 0., 0., 0., 0., 0., 0., 0., 0., 0., 0., 0., 0., 0.,\n",
       "       0., 0., 0., 0., 0., 0., 0., 0., 0., 0., 0., 0., 0., 0., 0., 0., 0.,\n",
       "       0., 0., 0., 0., 0., 0., 0., 0., 0., 0., 0.], dtype=float32)"
      ]
     },
     "execution_count": 42,
     "metadata": {},
     "output_type": "execute_result"
    }
   ],
   "source": [
    "biases"
   ]
  },
  {
   "cell_type": "code",
   "execution_count": 43,
   "metadata": {},
   "outputs": [
    {
     "data": {
      "text/plain": [
       "(300,)"
      ]
     },
     "execution_count": 43,
     "metadata": {},
     "output_type": "execute_result"
    }
   ],
   "source": [
    "biases.shape"
   ]
  },
  {
   "cell_type": "code",
   "execution_count": 44,
   "metadata": {},
   "outputs": [],
   "source": [
    "model.compile(loss = 'sparse_categorical_crossentropy', optimizer='sgd', metrics=['accuracy'])"
   ]
  },
  {
   "cell_type": "code",
   "execution_count": 45,
   "metadata": {},
   "outputs": [
    {
     "name": "stdout",
     "output_type": "stream",
     "text": [
      "Epoch 1/30\n",
      "1719/1719 [==============================] - 3s 2ms/step - loss: 0.7237 - accuracy: 0.7644 - val_loss: 0.5207 - val_accuracy: 0.8234\n",
      "Epoch 2/30\n",
      "1719/1719 [==============================] - 3s 2ms/step - loss: 0.4843 - accuracy: 0.8318 - val_loss: 0.4345 - val_accuracy: 0.8538\n",
      "Epoch 3/30\n",
      "1719/1719 [==============================] - 3s 2ms/step - loss: 0.4393 - accuracy: 0.8454 - val_loss: 0.5330 - val_accuracy: 0.7980\n",
      "Epoch 4/30\n",
      "1719/1719 [==============================] - 3s 2ms/step - loss: 0.4125 - accuracy: 0.8569 - val_loss: 0.3915 - val_accuracy: 0.8644\n",
      "Epoch 5/30\n",
      "1719/1719 [==============================] - 3s 2ms/step - loss: 0.3940 - accuracy: 0.8619 - val_loss: 0.3748 - val_accuracy: 0.8690\n",
      "Epoch 6/30\n",
      "1719/1719 [==============================] - 3s 2ms/step - loss: 0.3752 - accuracy: 0.8674 - val_loss: 0.3707 - val_accuracy: 0.8722\n",
      "Epoch 7/30\n",
      "1719/1719 [==============================] - 3s 2ms/step - loss: 0.3633 - accuracy: 0.8714 - val_loss: 0.3627 - val_accuracy: 0.8722\n",
      "Epoch 8/30\n",
      "1719/1719 [==============================] - 3s 2ms/step - loss: 0.3519 - accuracy: 0.8750 - val_loss: 0.3842 - val_accuracy: 0.8630\n",
      "Epoch 9/30\n",
      "1719/1719 [==============================] - 3s 2ms/step - loss: 0.3416 - accuracy: 0.8785 - val_loss: 0.3598 - val_accuracy: 0.8704\n",
      "Epoch 10/30\n",
      "1719/1719 [==============================] - 3s 2ms/step - loss: 0.3322 - accuracy: 0.8825 - val_loss: 0.3432 - val_accuracy: 0.8770\n",
      "Epoch 11/30\n",
      "1719/1719 [==============================] - 3s 2ms/step - loss: 0.3243 - accuracy: 0.8830 - val_loss: 0.3438 - val_accuracy: 0.8780\n",
      "Epoch 12/30\n",
      "1719/1719 [==============================] - 3s 2ms/step - loss: 0.3151 - accuracy: 0.8868 - val_loss: 0.3305 - val_accuracy: 0.8814\n",
      "Epoch 13/30\n",
      "1719/1719 [==============================] - 3s 2ms/step - loss: 0.3082 - accuracy: 0.8890 - val_loss: 0.3263 - val_accuracy: 0.8878\n",
      "Epoch 14/30\n",
      "1719/1719 [==============================] - 3s 2ms/step - loss: 0.3023 - accuracy: 0.8916 - val_loss: 0.3397 - val_accuracy: 0.8776\n",
      "Epoch 15/30\n",
      "1719/1719 [==============================] - 3s 2ms/step - loss: 0.2948 - accuracy: 0.8940 - val_loss: 0.3217 - val_accuracy: 0.8848\n",
      "Epoch 16/30\n",
      "1719/1719 [==============================] - 3s 2ms/step - loss: 0.2893 - accuracy: 0.8970 - val_loss: 0.3094 - val_accuracy: 0.8894\n",
      "Epoch 17/30\n",
      "1719/1719 [==============================] - 3s 2ms/step - loss: 0.2841 - accuracy: 0.8977 - val_loss: 0.3565 - val_accuracy: 0.8730\n",
      "Epoch 18/30\n",
      "1719/1719 [==============================] - 3s 2ms/step - loss: 0.2779 - accuracy: 0.9001 - val_loss: 0.3135 - val_accuracy: 0.8896\n",
      "Epoch 19/30\n",
      "1719/1719 [==============================] - 3s 2ms/step - loss: 0.2730 - accuracy: 0.9022 - val_loss: 0.3114 - val_accuracy: 0.8898\n",
      "Epoch 20/30\n",
      "1719/1719 [==============================] - 3s 2ms/step - loss: 0.2676 - accuracy: 0.9034 - val_loss: 0.3270 - val_accuracy: 0.8820\n",
      "Epoch 21/30\n",
      "1719/1719 [==============================] - 3s 2ms/step - loss: 0.2626 - accuracy: 0.9056 - val_loss: 0.3058 - val_accuracy: 0.8924\n",
      "Epoch 22/30\n",
      "1719/1719 [==============================] - 3s 2ms/step - loss: 0.2578 - accuracy: 0.9075 - val_loss: 0.2971 - val_accuracy: 0.8968\n",
      "Epoch 23/30\n",
      "1719/1719 [==============================] - 3s 2ms/step - loss: 0.2537 - accuracy: 0.9080 - val_loss: 0.2980 - val_accuracy: 0.8922\n",
      "Epoch 24/30\n",
      "1719/1719 [==============================] - 3s 2ms/step - loss: 0.2487 - accuracy: 0.9104 - val_loss: 0.3082 - val_accuracy: 0.8880\n",
      "Epoch 25/30\n",
      "1719/1719 [==============================] - 3s 2ms/step - loss: 0.2444 - accuracy: 0.9124 - val_loss: 0.2983 - val_accuracy: 0.8942\n",
      "Epoch 26/30\n",
      "1719/1719 [==============================] - 3s 2ms/step - loss: 0.2408 - accuracy: 0.9135 - val_loss: 0.3061 - val_accuracy: 0.8896\n",
      "Epoch 27/30\n",
      "1719/1719 [==============================] - 3s 2ms/step - loss: 0.2365 - accuracy: 0.9154 - val_loss: 0.3042 - val_accuracy: 0.8944\n",
      "Epoch 28/30\n",
      "1719/1719 [==============================] - 3s 2ms/step - loss: 0.2329 - accuracy: 0.9164 - val_loss: 0.2996 - val_accuracy: 0.8920\n",
      "Epoch 29/30\n",
      "1719/1719 [==============================] - 3s 2ms/step - loss: 0.2285 - accuracy: 0.9182 - val_loss: 0.3059 - val_accuracy: 0.8908\n",
      "Epoch 30/30\n",
      "1719/1719 [==============================] - 3s 2ms/step - loss: 0.2253 - accuracy: 0.9193 - val_loss: 0.3027 - val_accuracy: 0.8920\n"
     ]
    }
   ],
   "source": [
    "history = model.fit(X_train, y_train, epochs=30, validation_data=(X_valid, y_valid))"
   ]
  },
  {
   "cell_type": "code",
   "execution_count": 46,
   "metadata": {},
   "outputs": [
    {
     "data": {
      "text/plain": [
       "{'verbose': 1, 'epochs': 30, 'steps': 1719}"
      ]
     },
     "execution_count": 46,
     "metadata": {},
     "output_type": "execute_result"
    }
   ],
   "source": [
    "history.params"
   ]
  },
  {
   "cell_type": "code",
   "execution_count": 47,
   "metadata": {},
   "outputs": [
    {
     "data": {
      "text/plain": [
       "{'loss': [0.7236780524253845,\n",
       "  0.4843233525753021,\n",
       "  0.43925395607948303,\n",
       "  0.41249433159828186,\n",
       "  0.39395850896835327,\n",
       "  0.37522026896476746,\n",
       "  0.36334460973739624,\n",
       "  0.35189977288246155,\n",
       "  0.3415890038013458,\n",
       "  0.33219200372695923,\n",
       "  0.32431620359420776,\n",
       "  0.31506234407424927,\n",
       "  0.30816128849983215,\n",
       "  0.3023137152194977,\n",
       "  0.29484379291534424,\n",
       "  0.289277583360672,\n",
       "  0.2841065526008606,\n",
       "  0.277920126914978,\n",
       "  0.27297961711883545,\n",
       "  0.26764771342277527,\n",
       "  0.26259559392929077,\n",
       "  0.2577607333660126,\n",
       "  0.253675252199173,\n",
       "  0.24865274131298065,\n",
       "  0.24440625309944153,\n",
       "  0.24075055122375488,\n",
       "  0.23647968471050262,\n",
       "  0.23291146755218506,\n",
       "  0.22853097319602966,\n",
       "  0.22528870403766632],\n",
       " 'accuracy': [0.7644181847572327,\n",
       "  0.8317636251449585,\n",
       "  0.8453817963600159,\n",
       "  0.8568727374076843,\n",
       "  0.8618909120559692,\n",
       "  0.8673818111419678,\n",
       "  0.871399998664856,\n",
       "  0.875,\n",
       "  0.8785272836685181,\n",
       "  0.8825091123580933,\n",
       "  0.8830181956291199,\n",
       "  0.8867999911308289,\n",
       "  0.889018177986145,\n",
       "  0.8916181921958923,\n",
       "  0.893963634967804,\n",
       "  0.8969636559486389,\n",
       "  0.8976545333862305,\n",
       "  0.9000909328460693,\n",
       "  0.9021818041801453,\n",
       "  0.9034000039100647,\n",
       "  0.9055818319320679,\n",
       "  0.9075272679328918,\n",
       "  0.907981812953949,\n",
       "  0.9104363918304443,\n",
       "  0.9124363660812378,\n",
       "  0.9134727120399475,\n",
       "  0.915363609790802,\n",
       "  0.9163636565208435,\n",
       "  0.918181836605072,\n",
       "  0.9192909002304077],\n",
       " 'val_loss': [0.5206756591796875,\n",
       "  0.43450361490249634,\n",
       "  0.5330292582511902,\n",
       "  0.391543447971344,\n",
       "  0.374805212020874,\n",
       "  0.3706672489643097,\n",
       "  0.36266204714775085,\n",
       "  0.38417407870292664,\n",
       "  0.35976341366767883,\n",
       "  0.34315529465675354,\n",
       "  0.34380123019218445,\n",
       "  0.3304961919784546,\n",
       "  0.32629290223121643,\n",
       "  0.3397334814071655,\n",
       "  0.32173413038253784,\n",
       "  0.3094216287136078,\n",
       "  0.3565293252468109,\n",
       "  0.31350135803222656,\n",
       "  0.3113585114479065,\n",
       "  0.32696688175201416,\n",
       "  0.3057759702205658,\n",
       "  0.29714417457580566,\n",
       "  0.29797956347465515,\n",
       "  0.30816563963890076,\n",
       "  0.2983236014842987,\n",
       "  0.306073397397995,\n",
       "  0.30421584844589233,\n",
       "  0.29962167143821716,\n",
       "  0.30589476227760315,\n",
       "  0.302684485912323],\n",
       " 'val_accuracy': [0.8234000205993652,\n",
       "  0.8537999987602234,\n",
       "  0.7979999780654907,\n",
       "  0.8644000291824341,\n",
       "  0.8690000176429749,\n",
       "  0.8722000122070312,\n",
       "  0.8722000122070312,\n",
       "  0.8629999756813049,\n",
       "  0.8704000115394592,\n",
       "  0.8769999742507935,\n",
       "  0.878000020980835,\n",
       "  0.8813999891281128,\n",
       "  0.8877999782562256,\n",
       "  0.8776000142097473,\n",
       "  0.8848000168800354,\n",
       "  0.8894000053405762,\n",
       "  0.8730000257492065,\n",
       "  0.8895999789237976,\n",
       "  0.8898000121116638,\n",
       "  0.8820000290870667,\n",
       "  0.8924000263214111,\n",
       "  0.8967999815940857,\n",
       "  0.8921999931335449,\n",
       "  0.8880000114440918,\n",
       "  0.8942000269889832,\n",
       "  0.8895999789237976,\n",
       "  0.8944000005722046,\n",
       "  0.8920000195503235,\n",
       "  0.8907999992370605,\n",
       "  0.8920000195503235]}"
      ]
     },
     "execution_count": 47,
     "metadata": {},
     "output_type": "execute_result"
    }
   ],
   "source": [
    "history.history"
   ]
  },
  {
   "cell_type": "code",
   "execution_count": 49,
   "metadata": {},
   "outputs": [
    {
     "data": {
      "image/png": "[encoded data removed]",
      "text/plain": [
       "<Figure size 576x360 with 1 Axes>"
      ]
     },
     "metadata": {
      "needs_background": "light"
     },
     "output_type": "display_data"
    }
   ],
   "source": [
    "import pandas as pd\n",
    "import matplotlib.pyplot as plt\n",
    "pd.DataFrame(history.history).plot(figsize=(8,5))\n",
    "plt.grid(True)\n",
    "plt.gca().set_ylim(0, 1)\n",
    "plt.show()"
   ]
  },
  {
   "cell_type": "code",
   "execution_count": 50,
   "metadata": {},
   "outputs": [
    {
     "name": "stdout",
     "output_type": "stream",
     "text": [
      "313/313 [==============================] - 0s 1ms/step - loss: 0.3361 - accuracy: 0.8834\n"
     ]
    },
    {
     "data": {
      "text/plain": [
       "[0.3360535800457001, 0.883400022983551]"
      ]
     },
     "execution_count": 50,
     "metadata": {},
     "output_type": "execute_result"
    }
   ],
   "source": [
    "model.evaluate(X_test, y_test)"
   ]
  },
  {
   "cell_type": "code",
   "execution_count": 51,
   "metadata": {},
   "outputs": [
    {
     "data": {
      "text/plain": [
       "array([[0.  , 0.  , 0.  , 0.  , 0.  , 0.01, 0.  , 0.03, 0.  , 0.96],\n",
       "       [0.  , 0.  , 0.99, 0.  , 0.01, 0.  , 0.  , 0.  , 0.  , 0.  ],\n",
       "       [0.  , 1.  , 0.  , 0.  , 0.  , 0.  , 0.  , 0.  , 0.  , 0.  ]],\n",
       "      dtype=float32)"
      ]
     },
     "execution_count": 51,
     "metadata": {},
     "output_type": "execute_result"
    }
   ],
   "source": [
    "X_new = X_test[:3]\n",
    "y_proba = model.predict(X_new)\n",
    "y_proba.round(2)"
   ]
  },
  {
   "cell_type": "code",
   "execution_count": 52,
   "metadata": {},
   "outputs": [
    {
     "name": "stderr",
     "output_type": "stream",
     "text": [
      "C:\\Users\\vinym\\anaconda3\\lib\\site-packages\\tensorflow\\python\\keras\\engine\\sequential.py:455: UserWarning: `model.predict_classes()` is deprecated and will be removed after 2021-01-01. Please use instead:* `np.argmax(model.predict(x), axis=-1)`,   if your model does multi-class classification   (e.g. if it uses a `softmax` last-layer activation).* `(model.predict(x) > 0.5).astype(\"int32\")`,   if your model does binary classification   (e.g. if it uses a `sigmoid` last-layer activation).\n",
      "  warnings.warn('`model.predict_classes()` is deprecated and '\n"
     ]
    },
    {
     "data": {
      "text/plain": [
       "array([9, 2, 1], dtype=int64)"
      ]
     },
     "execution_count": 52,
     "metadata": {},
     "output_type": "execute_result"
    }
   ],
   "source": [
    "y_pred=model.predict_classes(X_new)\n",
    "y_pred"
   ]
  },
  {
   "cell_type": "code",
   "execution_count": 54,
   "metadata": {},
   "outputs": [
    {
     "data": {
      "text/plain": [
       "array([9, 2, 1], dtype=int64)"
      ]
     },
     "execution_count": 54,
     "metadata": {},
     "output_type": "execute_result"
    }
   ],
   "source": [
    "y_pred = np.argmax(model.predict(X_new), axis =-1)\n",
    "y_pred"
   ]
  },
  {
   "cell_type": "code",
   "execution_count": 55,
   "metadata": {},
   "outputs": [
    {
     "data": {
      "text/plain": [
       "array(['Ankle boot', 'Pullover', 'Trouser'], dtype='<U11')"
      ]
     },
     "execution_count": 55,
     "metadata": {},
     "output_type": "execute_result"
    }
   ],
   "source": [
    "np.array(class_names)[y_pred]"
   ]
  },
  {
   "cell_type": "code",
   "execution_count": 56,
   "metadata": {},
   "outputs": [
    {
     "data": {
      "text/plain": [
       "array([9, 2, 1], dtype=uint8)"
      ]
     },
     "execution_count": 56,
     "metadata": {},
     "output_type": "execute_result"
    }
   ],
   "source": [
    "y_new=y_test[:3]\n",
    "y_new"
   ]
  },
  {
   "cell_type": "code",
   "execution_count": 58,
   "metadata": {},
   "outputs": [
    {
     "name": "stdout",
     "output_type": "stream",
     "text": [
      "Saving figure fashion_mnist_images_plot\n"
     ]
    },
    {
     "data": {
      "image/png": "[encoded data removed]",
      "text/plain": [
       "<Figure size 518.4x172.8 with 3 Axes>"
      ]
     },
     "metadata": {
      "needs_background": "light"
     },
     "output_type": "display_data"
    }
   ],
   "source": [
    "plt.figure(figsize=(7.2, 2.4))\n",
    "for index, image in enumerate(X_new):\n",
    "    plt.subplot(1,3, index+1)\n",
    "    plt.imshow(image, cmap='binary', interpolation='nearest')\n",
    "    plt.axis('off')\n",
    "    plt.title(class_names[y_test[index]], fontsize=12)\n",
    "    \n",
    "plt.subplots_adjust(wspace=0.2, hspace=0.5)\n",
    "save_fig('fashion_mnist_images_plot', tight_layout=False)\n",
    "plt.show()\n"
   ]
  },
  {
   "cell_type": "markdown",
   "metadata": {},
   "source": [
    "##### Regression MLP - with California housing dataset - Sequential API"
   ]
  },
  {
   "cell_type": "code",
   "execution_count": 64,
   "metadata": {},
   "outputs": [],
   "source": [
    "from sklearn.datasets import fetch_california_housing\n",
    "from sklearn.model_selection import train_test_split\n",
    "from sklearn.preprocessing import StandardScaler"
   ]
  },
  {
   "cell_type": "code",
   "execution_count": 65,
   "metadata": {},
   "outputs": [],
   "source": [
    "housing = fetch_california_housing()\n",
    "X_train_full, X_test, y_train_full, y_test = train_test_split(housing.data, housing.target, random_state =42)\n",
    "X_train, X_valid, y_train, y_valid = train_test_split(X_train_full, y_train_full, random_state =42)"
   ]
  },
  {
   "cell_type": "code",
   "execution_count": 66,
   "metadata": {},
   "outputs": [],
   "source": [
    "scaler = StandardScaler()\n",
    "X_train  = scaler.fit_transform(X_train)\n",
    "X_valid = scaler.transform(X_valid)\n",
    "X_test=scaler.transform(X_test)"
   ]
  },
  {
   "cell_type": "code",
   "execution_count": 67,
   "metadata": {},
   "outputs": [],
   "source": [
    "np.random.seed(42)\n",
    "tf.random.set_seed(42)"
   ]
  },
  {
   "cell_type": "code",
   "execution_count": 71,
   "metadata": {},
   "outputs": [
    {
     "name": "stdout",
     "output_type": "stream",
     "text": [
      "Epoch 1/20\n",
      "363/363 [==============================] - 1s 1ms/step - loss: 1.8737 - val_loss: 0.7688\n",
      "Epoch 2/20\n",
      "363/363 [==============================] - 0s 883us/step - loss: 0.6360 - val_loss: 0.6091\n",
      "Epoch 3/20\n",
      "363/363 [==============================] - 0s 814us/step - loss: 0.5649 - val_loss: 0.5705\n",
      "Epoch 4/20\n",
      "363/363 [==============================] - 0s 830us/step - loss: 0.5354 - val_loss: 0.5174\n",
      "Epoch 5/20\n",
      "363/363 [==============================] - 0s 840us/step - loss: 0.5143 - val_loss: 0.4895\n",
      "Epoch 6/20\n",
      "363/363 [==============================] - 0s 820us/step - loss: 0.4965 - val_loss: 0.4710\n",
      "Epoch 7/20\n",
      "363/363 [==============================] - 0s 822us/step - loss: 0.4821 - val_loss: 0.4634\n",
      "Epoch 8/20\n",
      "363/363 [==============================] - 0s 772us/step - loss: 0.4702 - val_loss: 0.4442\n",
      "Epoch 9/20\n",
      "363/363 [==============================] - 0s 966us/step - loss: 0.4602 - val_loss: 0.4338\n",
      "Epoch 10/20\n",
      "363/363 [==============================] - 0s 839us/step - loss: 0.4519 - val_loss: 0.4252\n",
      "Epoch 11/20\n",
      "363/363 [==============================] - 0s 829us/step - loss: 0.4452 - val_loss: 0.4184\n",
      "Epoch 12/20\n",
      "363/363 [==============================] - 0s 881us/step - loss: 0.4393 - val_loss: 0.4120\n",
      "Epoch 13/20\n",
      "363/363 [==============================] - 0s 827us/step - loss: 0.4343 - val_loss: 0.4080\n",
      "Epoch 14/20\n",
      "363/363 [==============================] - 0s 830us/step - loss: 0.4301 - val_loss: 0.4031\n",
      "Epoch 15/20\n",
      "363/363 [==============================] - 0s 873us/step - loss: 0.4264 - val_loss: 0.4012\n",
      "Epoch 16/20\n",
      "363/363 [==============================] - 0s 917us/step - loss: 0.4232 - val_loss: 0.3968\n",
      "Epoch 17/20\n",
      "363/363 [==============================] - 0s 823us/step - loss: 0.4206 - val_loss: 0.3991\n",
      "Epoch 18/20\n",
      "363/363 [==============================] - 0s 840us/step - loss: 0.4181 - val_loss: 0.4001\n",
      "Epoch 19/20\n",
      "363/363 [==============================] - 0s 833us/step - loss: 0.4159 - val_loss: 0.3943\n",
      "Epoch 20/20\n",
      "363/363 [==============================] - 0s 878us/step - loss: 0.4140 - val_loss: 0.4025\n",
      "162/162 [==============================] - 0s 607us/step - loss: 0.4100\n"
     ]
    }
   ],
   "source": [
    "model = keras.models.Sequential([\n",
    "    keras.layers.Dense(30, activation='relu', input_shape=X_train.shape[1:]),\n",
    "    keras.layers.Dense(1)])\n",
    "\n",
    "model.compile(loss='mean_squared_error', optimizer=keras.optimizers.SGD(lr=1e-3))\n",
    "history=model.fit(X_train, y_train, epochs=20, validation_data=(X_valid, y_valid))\n",
    "mse_test=model.evaluate(X_test, y_test)\n",
    "X_new = X_test[:3]\n",
    "y_pred = model.predict(X_new)"
   ]
  },
  {
   "cell_type": "code",
   "execution_count": 73,
   "metadata": {},
   "outputs": [
    {
     "data": {
      "image/png": "[encoded data removed]",
      "text/plain": [
       "<Figure size 432x288 with 1 Axes>"
      ]
     },
     "metadata": {
      "needs_background": "light"
     },
     "output_type": "display_data"
    }
   ],
   "source": [
    "plt.plot(pd.DataFrame(history.history))\n",
    "plt.grid(True)\n",
    "plt.gca().set_ylim(0,1)\n",
    "plt.show()"
   ]
  },
  {
   "cell_type": "code",
   "execution_count": 74,
   "metadata": {},
   "outputs": [
    {
     "data": {
      "text/plain": [
       "array([[0.58685887],\n",
       "       [1.7166928 ],\n",
       "       [3.4294915 ]], dtype=float32)"
      ]
     },
     "execution_count": 74,
     "metadata": {},
     "output_type": "execute_result"
    }
   ],
   "source": [
    "y_pred"
   ]
  },
  {
   "cell_type": "markdown",
   "metadata": {},
   "source": [
    "###### Functional API - Neural network - 3 different architecture\n",
    "###### See figure 10-14"
   ]
  },
  {
   "cell_type": "code",
   "execution_count": 77,
   "metadata": {},
   "outputs": [],
   "source": [
    "np.random.seed(42)\n",
    "tf.random.set_seed(42)"
   ]
  },
  {
   "cell_type": "code",
   "execution_count": 80,
   "metadata": {},
   "outputs": [],
   "source": [
    "input_ = keras.layers.Input(shape=X_train.shape[1:])\n",
    "hidden1 = keras.layers.Dense(30, activation='relu')(input_)\n",
    "hidden2 = keras.layers.Dense(30, activation='relu')(hidden1)\n",
    "concat=keras.layers.concatenate([input_, hidden2])\n",
    "output=keras.layers.Dense(1)(concat)\n",
    "model=keras.models.Model(inputs=[input_], outputs=[output])"
   ]
  },
  {
   "cell_type": "code",
   "execution_count": 81,
   "metadata": {},
   "outputs": [
    {
     "name": "stdout",
     "output_type": "stream",
     "text": [
      "Model: \"model\"\n",
      "__________________________________________________________________________________________________\n",
      "Layer (type)                    Output Shape         Param #     Connected to                     \n",
      "==================================================================================================\n",
      "input_3 (InputLayer)            [(None, 8)]          0                                            \n",
      "__________________________________________________________________________________________________\n",
      "dense_12 (Dense)                (None, 30)           270         input_3[0][0]                    \n",
      "__________________________________________________________________________________________________\n",
      "dense_13 (Dense)                (None, 30)           930         dense_12[0][0]                   \n",
      "__________________________________________________________________________________________________\n",
      "concatenate_1 (Concatenate)     (None, 38)           0           input_3[0][0]                    \n",
      "                                                                 dense_13[0][0]                   \n",
      "__________________________________________________________________________________________________\n",
      "dense_14 (Dense)                (None, 1)            39          concatenate_1[0][0]              \n",
      "==================================================================================================\n",
      "Total params: 1,239\n",
      "Trainable params: 1,239\n",
      "Non-trainable params: 0\n",
      "__________________________________________________________________________________________________\n"
     ]
    }
   ],
   "source": [
    "model.summary()"
   ]
  },
  {
   "cell_type": "code",
   "execution_count": 86,
   "metadata": {},
   "outputs": [
    {
     "name": "stdout",
     "output_type": "stream",
     "text": [
      "Epoch 1/20\n",
      "363/363 [==============================] - 1s 1ms/step - loss: 0.3710 - val_loss: 0.3721\n",
      "Epoch 2/20\n",
      "363/363 [==============================] - 0s 918us/step - loss: 0.3700 - val_loss: 0.4372\n",
      "Epoch 3/20\n",
      "363/363 [==============================] - 0s 930us/step - loss: 0.3692 - val_loss: 0.4056\n",
      "Epoch 4/20\n",
      "363/363 [==============================] - 0s 887us/step - loss: 0.3680 - val_loss: 0.3777\n",
      "Epoch 5/20\n",
      "363/363 [==============================] - 0s 875us/step - loss: 0.3675 - val_loss: 0.3728\n",
      "Epoch 6/20\n",
      "363/363 [==============================] - 0s 921us/step - loss: 0.3663 - val_loss: 0.3962\n",
      "Epoch 7/20\n",
      "363/363 [==============================] - 0s 943us/step - loss: 0.3658 - val_loss: 0.3729\n",
      "Epoch 8/20\n",
      "363/363 [==============================] - 0s 1ms/step - loss: 0.3649 - val_loss: 0.3579\n",
      "Epoch 9/20\n",
      "363/363 [==============================] - 0s 942us/step - loss: 0.3640 - val_loss: 0.3884\n",
      "Epoch 10/20\n",
      "363/363 [==============================] - 0s 1ms/step - loss: 0.3633 - val_loss: 0.3942\n",
      "Epoch 11/20\n",
      "363/363 [==============================] - 0s 883us/step - loss: 0.3627 - val_loss: 0.3469\n",
      "Epoch 12/20\n",
      "363/363 [==============================] - 0s 897us/step - loss: 0.3617 - val_loss: 0.4210\n",
      "Epoch 13/20\n",
      "363/363 [==============================] - 0s 811us/step - loss: 0.3612 - val_loss: 0.3765\n",
      "Epoch 14/20\n",
      "363/363 [==============================] - 0s 984us/step - loss: 0.3604 - val_loss: 0.3525\n",
      "Epoch 15/20\n",
      "363/363 [==============================] - 0s 753us/step - loss: 0.3597 - val_loss: 0.3837\n",
      "Epoch 16/20\n",
      "363/363 [==============================] - 0s 742us/step - loss: 0.3590 - val_loss: 0.3434\n",
      "Epoch 17/20\n",
      "363/363 [==============================] - 0s 911us/step - loss: 0.3583 - val_loss: 0.3975\n",
      "Epoch 18/20\n",
      "363/363 [==============================] - 0s 769us/step - loss: 0.3581 - val_loss: 0.3741\n",
      "Epoch 19/20\n",
      "363/363 [==============================] - 0s 741us/step - loss: 0.3571 - val_loss: 0.3637\n",
      "Epoch 20/20\n",
      "363/363 [==============================] - 0s 726us/step - loss: 0.3565 - val_loss: 0.4175\n",
      "162/162 [==============================] - 0s 526us/step - loss: 0.3541\n"
     ]
    }
   ],
   "source": [
    "model.compile(loss='mean_squared_error', optimizer=keras.optimizers.SGD(learning_rate=1e-3))\n",
    "history=model.fit(X_train, y_train, epochs=20, validation_data=(X_valid, y_valid))\n",
    "mse_test=model.evaluate(X_test, y_test)"
   ]
  },
  {
   "cell_type": "code",
   "execution_count": 87,
   "metadata": {},
   "outputs": [
    {
     "data": {
      "text/plain": [
       "array([[0.7678968],\n",
       "       [1.7078471],\n",
       "       [4.008856 ]], dtype=float32)"
      ]
     },
     "execution_count": 87,
     "metadata": {},
     "output_type": "execute_result"
    }
   ],
   "source": [
    "y_pred = model.predict(X_new)\n",
    "y_pred"
   ]
  },
  {
   "cell_type": "markdown",
   "metadata": {},
   "source": [
    "###### See figure 10-15: What if you want to send different subsets of input features through the wide or deep paths? We will send 5 features (features 0 to 4), and 6 through the deep path (features 2 to 7). Note that 3 features will go through both (features 2, 3 and 4)."
   ]
  },
  {
   "cell_type": "code",
   "execution_count": 115,
   "metadata": {},
   "outputs": [],
   "source": [
    "np.random.seed(42)\n",
    "tf.random.set_seed(42)\n",
    "\n",
    "input_a = keras.layers.Input(shape=[5], name='wide_input')\n",
    "input_b = keras.layers.Input(shape=[6], name='deep_input')\n",
    "hidden1=keras.layers.Dense(30, activation='relu')(input_b)\n",
    "hidden2=keras.layers.Dense(30, activation='relu')(hidden1)\n",
    "concat = keras.layers.concatenate([input_a, hidden2])\n",
    "output = keras.layers.Dense(1, name='output')(concat)\n",
    "model2=keras.Model(inputs =[input_a, input_b], outputs=[output])"
   ]
  },
  {
   "cell_type": "code",
   "execution_count": 116,
   "metadata": {},
   "outputs": [
    {
     "name": "stdout",
     "output_type": "stream",
     "text": [
      "Model: \"model_7\"\n",
      "__________________________________________________________________________________________________\n",
      "Layer (type)                    Output Shape         Param #     Connected to                     \n",
      "==================================================================================================\n",
      "deep_input (InputLayer)         [(None, 6)]          0                                            \n",
      "__________________________________________________________________________________________________\n",
      "dense_32 (Dense)                (None, 30)           210         deep_input[0][0]                 \n",
      "__________________________________________________________________________________________________\n",
      "wide_input (InputLayer)         [(None, 5)]          0                                            \n",
      "__________________________________________________________________________________________________\n",
      "dense_33 (Dense)                (None, 30)           930         dense_32[0][0]                   \n",
      "__________________________________________________________________________________________________\n",
      "concatenate_8 (Concatenate)     (None, 35)           0           wide_input[0][0]                 \n",
      "                                                                 dense_33[0][0]                   \n",
      "__________________________________________________________________________________________________\n",
      "output (Dense)                  (None, 1)            36          concatenate_8[0][0]              \n",
      "==================================================================================================\n",
      "Total params: 1,176\n",
      "Trainable params: 1,176\n",
      "Non-trainable params: 0\n",
      "__________________________________________________________________________________________________\n"
     ]
    }
   ],
   "source": [
    "model2.summary()"
   ]
  },
  {
   "cell_type": "code",
   "execution_count": 117,
   "metadata": {},
   "outputs": [
    {
     "name": "stdout",
     "output_type": "stream",
     "text": [
      "Epoch 1/20\n",
      "363/363 [==============================] - 1s 1ms/step - loss: 1.8145 - val_loss: 0.8072\n",
      "Epoch 2/20\n",
      "363/363 [==============================] - 0s 993us/step - loss: 0.6771 - val_loss: 0.6658\n",
      "Epoch 3/20\n",
      "363/363 [==============================] - 0s 972us/step - loss: 0.5979 - val_loss: 0.5687\n",
      "Epoch 4/20\n",
      "363/363 [==============================] - 0s 976us/step - loss: 0.5584 - val_loss: 0.5296\n",
      "Epoch 5/20\n",
      "363/363 [==============================] - 0s 967us/step - loss: 0.5334 - val_loss: 0.4993\n",
      "Epoch 6/20\n",
      "363/363 [==============================] - 0s 965us/step - loss: 0.5120 - val_loss: 0.4811\n",
      "Epoch 7/20\n",
      "363/363 [==============================] - 0s 967us/step - loss: 0.4970 - val_loss: 0.4696\n",
      "Epoch 8/20\n",
      "363/363 [==============================] - 0s 973us/step - loss: 0.4843 - val_loss: 0.4496\n",
      "Epoch 9/20\n",
      "363/363 [==============================] - 0s 1ms/step - loss: 0.4730 - val_loss: 0.4404\n",
      "Epoch 10/20\n",
      "363/363 [==============================] - 0s 1ms/step - loss: 0.4644 - val_loss: 0.4315\n",
      "Epoch 11/20\n",
      "363/363 [==============================] - 0s 1ms/step - loss: 0.4570 - val_loss: 0.4268\n",
      "Epoch 12/20\n",
      "363/363 [==============================] - 0s 1ms/step - loss: 0.4510 - val_loss: 0.4166\n",
      "Epoch 13/20\n",
      "363/363 [==============================] - 0s 1ms/step - loss: 0.4462 - val_loss: 0.4125\n",
      "Epoch 14/20\n",
      "363/363 [==============================] - 0s 1ms/step - loss: 0.4421 - val_loss: 0.4074\n",
      "Epoch 15/20\n",
      "363/363 [==============================] - 0s 1ms/step - loss: 0.4385 - val_loss: 0.4044\n",
      "Epoch 16/20\n",
      "363/363 [==============================] - 0s 971us/step - loss: 0.4356 - val_loss: 0.4007\n",
      "Epoch 17/20\n",
      "363/363 [==============================] - 0s 1ms/step - loss: 0.4322 - val_loss: 0.4013\n",
      "Epoch 18/20\n",
      "363/363 [==============================] - 0s 1ms/step - loss: 0.4305 - val_loss: 0.3987\n",
      "Epoch 19/20\n",
      "363/363 [==============================] - 0s 1ms/step - loss: 0.4274 - val_loss: 0.3934\n",
      "Epoch 20/20\n",
      "363/363 [==============================] - 0s 978us/step - loss: 0.4261 - val_loss: 0.4204\n",
      "162/162 [==============================] - 0s 738us/step - loss: 0.4219\n"
     ]
    }
   ],
   "source": [
    "model2.compile(loss='mse', optimizer=keras.optimizers.SGD(lr=1e-3))\n",
    "X_train_A, X_train_B = X_train[:, :5], X_train[:, 2:]\n",
    "X_valid_A, X_valid_B = X_valid[:, :5], X_valid[:, 2:]\n",
    "X_test_A, X_test_B = X_test[:, :5], X_test[:, 2:]\n",
    "X_new_A, X_new_B= X_test_A[:3], X_test_B[:3]\n",
    "\n",
    "history = model2.fit((X_train_A, X_train_B), y_train, epochs=20, validation_data =((X_valid_A, X_valid_B), y_valid))\n",
    "mse_test = model2.evaluate((X_test_A, X_test_B), y_test)\n",
    "y_pred = model2.predict((X_new_A, X_new_B))"
   ]
  },
  {
   "cell_type": "code",
   "execution_count": 118,
   "metadata": {},
   "outputs": [
    {
     "data": {
      "text/plain": [
       "array([[0.30591232],\n",
       "       [1.9540672 ],\n",
       "       [3.4426107 ]], dtype=float32)"
      ]
     },
     "execution_count": 118,
     "metadata": {},
     "output_type": "execute_result"
    }
   ],
   "source": [
    "y_pred2 = model2.predict((X_new_a, X_new_b))\n",
    "y_pred2"
   ]
  },
  {
   "cell_type": "markdown",
   "metadata": {},
   "source": [
    "######  See figure 10-16: Adding an auxiliary output for regularization: use case for multiple outputs"
   ]
  },
  {
   "cell_type": "code",
   "execution_count": 119,
   "metadata": {},
   "outputs": [],
   "source": [
    "np.random.seed(42)\n",
    "tf.random.set_seed(42)\n",
    "\n",
    "input_A = keras.layers.Input(shape=[5], name=\"wide_input\")\n",
    "input_B = keras.layers.Input(shape=[6], name=\"deep_input\")\n",
    "hidden1 = keras.layers.Dense(30, activation=\"relu\")(input_B)\n",
    "hidden2 = keras.layers.Dense(30, activation=\"relu\")(hidden1)\n",
    "concat = keras.layers.concatenate([input_A, hidden2])\n",
    "output = keras.layers.Dense(1, name=\"main_output\")(concat)\n",
    "aux_output = keras.layers.Dense(1, name=\"aux_output\")(hidden2)\n",
    "model3 = keras.models.Model(inputs=[input_A, input_B],\n",
    "                           outputs=[output, aux_output])"
   ]
  },
  {
   "cell_type": "code",
   "execution_count": 120,
   "metadata": {},
   "outputs": [
    {
     "name": "stdout",
     "output_type": "stream",
     "text": [
      "Model: \"model_8\"\n",
      "__________________________________________________________________________________________________\n",
      "Layer (type)                    Output Shape         Param #     Connected to                     \n",
      "==================================================================================================\n",
      "deep_input (InputLayer)         [(None, 6)]          0                                            \n",
      "__________________________________________________________________________________________________\n",
      "dense_34 (Dense)                (None, 30)           210         deep_input[0][0]                 \n",
      "__________________________________________________________________________________________________\n",
      "wide_input (InputLayer)         [(None, 5)]          0                                            \n",
      "__________________________________________________________________________________________________\n",
      "dense_35 (Dense)                (None, 30)           930         dense_34[0][0]                   \n",
      "__________________________________________________________________________________________________\n",
      "concatenate_9 (Concatenate)     (None, 35)           0           wide_input[0][0]                 \n",
      "                                                                 dense_35[0][0]                   \n",
      "__________________________________________________________________________________________________\n",
      "main_output (Dense)             (None, 1)            36          concatenate_9[0][0]              \n",
      "__________________________________________________________________________________________________\n",
      "aux_output (Dense)              (None, 1)            31          dense_35[0][0]                   \n",
      "==================================================================================================\n",
      "Total params: 1,207\n",
      "Trainable params: 1,207\n",
      "Non-trainable params: 0\n",
      "__________________________________________________________________________________________________\n"
     ]
    }
   ],
   "source": [
    "model3.summary()"
   ]
  },
  {
   "cell_type": "code",
   "execution_count": 121,
   "metadata": {},
   "outputs": [],
   "source": [
    "model3.compile(loss=[\"mse\", \"mse\"], loss_weights=[0.9, 0.1], optimizer=keras.optimizers.SGD(lr=1e-3))"
   ]
  },
  {
   "cell_type": "code",
   "execution_count": 122,
   "metadata": {},
   "outputs": [
    {
     "name": "stdout",
     "output_type": "stream",
     "text": [
      "Epoch 1/20\n",
      "363/363 [==============================] - 1s 2ms/step - loss: 2.1365 - main_output_loss: 1.9196 - aux_output_loss: 4.0890 - val_loss: 1.6233 - val_main_output_loss: 0.8468 - val_aux_output_loss: 8.6117\n",
      "Epoch 2/20\n",
      "363/363 [==============================] - 0s 1ms/step - loss: 0.8905 - main_output_loss: 0.6969 - aux_output_loss: 2.6326 - val_loss: 1.5163 - val_main_output_loss: 0.6836 - val_aux_output_loss: 9.0109\n",
      "Epoch 3/20\n",
      "363/363 [==============================] - 0s 1ms/step - loss: 0.7429 - main_output_loss: 0.6088 - aux_output_loss: 1.9499 - val_loss: 1.4639 - val_main_output_loss: 0.6229 - val_aux_output_loss: 9.0326\n",
      "Epoch 4/20\n",
      "363/363 [==============================] - 0s 1ms/step - loss: 0.6771 - main_output_loss: 0.5691 - aux_output_loss: 1.6485 - val_loss: 1.3388 - val_main_output_loss: 0.5481 - val_aux_output_loss: 8.4552\n",
      "Epoch 5/20\n",
      "363/363 [==============================] - 0s 1ms/step - loss: 0.6381 - main_output_loss: 0.5434 - aux_output_loss: 1.4911 - val_loss: 1.2177 - val_main_output_loss: 0.5194 - val_aux_output_loss: 7.5030\n",
      "Epoch 6/20\n",
      "363/363 [==============================] - 0s 1ms/step - loss: 0.6079 - main_output_loss: 0.5207 - aux_output_loss: 1.3923 - val_loss: 1.0935 - val_main_output_loss: 0.5106 - val_aux_output_loss: 6.3396\n",
      "Epoch 7/20\n",
      "363/363 [==============================] - 0s 1ms/step - loss: 0.5853 - main_output_loss: 0.5040 - aux_output_loss: 1.3175 - val_loss: 0.9918 - val_main_output_loss: 0.5115 - val_aux_output_loss: 5.3151\n",
      "Epoch 8/20\n",
      "363/363 [==============================] - 0s 1ms/step - loss: 0.5666 - main_output_loss: 0.4898 - aux_output_loss: 1.2572 - val_loss: 0.8733 - val_main_output_loss: 0.4733 - val_aux_output_loss: 4.4740\n",
      "Epoch 9/20\n",
      "363/363 [==============================] - 0s 1ms/step - loss: 0.5504 - main_output_loss: 0.4771 - aux_output_loss: 1.2101 - val_loss: 0.7832 - val_main_output_loss: 0.4555 - val_aux_output_loss: 3.7323\n",
      "Epoch 10/20\n",
      "363/363 [==============================] - 0s 1ms/step - loss: 0.5373 - main_output_loss: 0.4671 - aux_output_loss: 1.1695 - val_loss: 0.7170 - val_main_output_loss: 0.4604 - val_aux_output_loss: 3.0262\n",
      "Epoch 11/20\n",
      "363/363 [==============================] - 0s 1ms/step - loss: 0.5266 - main_output_loss: 0.4591 - aux_output_loss: 1.1344 - val_loss: 0.6510 - val_main_output_loss: 0.4293 - val_aux_output_loss: 2.6468\n",
      "Epoch 12/20\n",
      "363/363 [==============================] - 0s 1ms/step - loss: 0.5173 - main_output_loss: 0.4520 - aux_output_loss: 1.1048 - val_loss: 0.6051 - val_main_output_loss: 0.4310 - val_aux_output_loss: 2.1722\n",
      "Epoch 13/20\n",
      "363/363 [==============================] - 0s 1ms/step - loss: 0.5095 - main_output_loss: 0.4465 - aux_output_loss: 1.0765 - val_loss: 0.5644 - val_main_output_loss: 0.4161 - val_aux_output_loss: 1.8992\n",
      "Epoch 14/20\n",
      "363/363 [==============================] - 0s 1ms/step - loss: 0.5027 - main_output_loss: 0.4417 - aux_output_loss: 1.0511 - val_loss: 0.5354 - val_main_output_loss: 0.4119 - val_aux_output_loss: 1.6466\n",
      "Epoch 15/20\n",
      "363/363 [==============================] - 0s 1ms/step - loss: 0.4967 - main_output_loss: 0.4376 - aux_output_loss: 1.0280 - val_loss: 0.5124 - val_main_output_loss: 0.4047 - val_aux_output_loss: 1.4812\n",
      "Epoch 16/20\n",
      "363/363 [==============================] - 0s 1ms/step - loss: 0.4916 - main_output_loss: 0.4343 - aux_output_loss: 1.0070 - val_loss: 0.4934 - val_main_output_loss: 0.4034 - val_aux_output_loss: 1.3035\n",
      "Epoch 17/20\n",
      "363/363 [==============================] - 0s 1ms/step - loss: 0.4867 - main_output_loss: 0.4311 - aux_output_loss: 0.9872 - val_loss: 0.4801 - val_main_output_loss: 0.3984 - val_aux_output_loss: 1.2150\n",
      "Epoch 18/20\n",
      "363/363 [==============================] - 0s 1ms/step - loss: 0.4829 - main_output_loss: 0.4289 - aux_output_loss: 0.9686 - val_loss: 0.4694 - val_main_output_loss: 0.3962 - val_aux_output_loss: 1.1279\n",
      "Epoch 19/20\n",
      "363/363 [==============================] - 0s 1ms/step - loss: 0.4785 - main_output_loss: 0.4260 - aux_output_loss: 0.9510 - val_loss: 0.4580 - val_main_output_loss: 0.3936 - val_aux_output_loss: 1.0372\n",
      "Epoch 20/20\n",
      "363/363 [==============================] - 0s 1ms/step - loss: 0.4756 - main_output_loss: 0.4246 - aux_output_loss: 0.9344 - val_loss: 0.4655 - val_main_output_loss: 0.4048 - val_aux_output_loss: 1.0118\n"
     ]
    }
   ],
   "source": [
    "history = model3.fit([X_train_A, X_train_B], [y_train, y_train], epochs=20,\n",
    "                    validation_data=([X_valid_A, X_valid_B], [y_valid, y_valid]))"
   ]
  },
  {
   "cell_type": "code",
   "execution_count": 123,
   "metadata": {},
   "outputs": [
    {
     "data": {
      "text/plain": [
       "[array([[0.26762432],\n",
       "        [1.980763  ],\n",
       "        [3.3396285 ]], dtype=float32),\n",
       " array([[0.9593649],\n",
       "        [1.9240992],\n",
       "        [2.5152812]], dtype=float32)]"
      ]
     },
     "execution_count": 123,
     "metadata": {},
     "output_type": "execute_result"
    }
   ],
   "source": [
    "y_pred3 = model3.predict((X_new_a, X_new_b))\n",
    "y_pred3"
   ]
  },
  {
   "cell_type": "markdown",
   "metadata": {},
   "source": [
    "###### Subclassing API to build dynamic models with Keras"
   ]
  },
  {
   "cell_type": "code",
   "execution_count": 132,
   "metadata": {},
   "outputs": [],
   "source": [
    "class WideAndDeepModel(keras.models.Model):\n",
    "    def __init__(self, units=30, activation=\"relu\", **kwargs):\n",
    "        super().__init__(**kwargs)\n",
    "        self.hidden1 = keras.layers.Dense(units, activation=activation)\n",
    "        self.hidden2 = keras.layers.Dense(units, activation=activation)\n",
    "        self.main_output = keras.layers.Dense(1)\n",
    "        self.aux_output = keras.layers.Dense(1)\n",
    "        \n",
    "    def call(self, inputs):\n",
    "        input_A, input_B = inputs\n",
    "        hidden1 = self.hidden1(input_B)\n",
    "        hidden2 = self.hidden2(hidden1)\n",
    "        concat = keras.layers.concatenate([input_A, hidden2])\n",
    "        main_output = self.main_output(concat)\n",
    "        aux_output = self.aux_output(hidden2)\n",
    "        return main_output, aux_output\n",
    "\n",
    "model4 = WideAndDeepModel(30, activation=\"relu\")"
   ]
  },
  {
   "cell_type": "code",
   "execution_count": 133,
   "metadata": {},
   "outputs": [
    {
     "name": "stdout",
     "output_type": "stream",
     "text": [
      "Epoch 1/10\n",
      "363/363 [==============================] - 1s 1ms/step - loss: 2.4279 - output_1_loss: 2.1375 - output_2_loss: 5.0411 - val_loss: 1.4227 - val_output_1_loss: 1.0831 - val_output_2_loss: 4.4785\n",
      "Epoch 2/10\n",
      "363/363 [==============================] - 0s 1ms/step - loss: 1.0651 - output_1_loss: 0.8356 - output_2_loss: 3.1305 - val_loss: 1.0173 - val_output_1_loss: 0.7431 - val_output_2_loss: 3.4849\n",
      "Epoch 3/10\n",
      "363/363 [==============================] - 0s 1ms/step - loss: 0.8126 - output_1_loss: 0.6751 - output_2_loss: 2.0504 - val_loss: 0.8921 - val_output_1_loss: 0.6684 - val_output_2_loss: 2.9055\n",
      "Epoch 4/10\n",
      "363/363 [==============================] - 0s 1ms/step - loss: 0.7078 - output_1_loss: 0.6156 - output_2_loss: 1.5381 - val_loss: 0.7912 - val_output_1_loss: 0.6051 - val_output_2_loss: 2.4659\n",
      "Epoch 5/10\n",
      "363/363 [==============================] - 0s 1ms/step - loss: 0.6509 - output_1_loss: 0.5801 - output_2_loss: 1.2881 - val_loss: 0.7219 - val_output_1_loss: 0.5706 - val_output_2_loss: 2.0835\n",
      "Epoch 6/10\n",
      "363/363 [==============================] - 0s 1ms/step - loss: 0.6130 - output_1_loss: 0.5525 - output_2_loss: 1.1578 - val_loss: 0.6613 - val_output_1_loss: 0.5397 - val_output_2_loss: 1.7558\n",
      "Epoch 7/10\n",
      "363/363 [==============================] - 0s 1ms/step - loss: 0.5850 - output_1_loss: 0.5302 - output_2_loss: 1.0780 - val_loss: 0.6167 - val_output_1_loss: 0.5208 - val_output_2_loss: 1.4797\n",
      "Epoch 8/10\n",
      "363/363 [==============================] - 0s 1ms/step - loss: 0.5636 - output_1_loss: 0.5125 - output_2_loss: 1.0242 - val_loss: 0.5741 - val_output_1_loss: 0.4926 - val_output_2_loss: 1.3079\n",
      "Epoch 9/10\n",
      "363/363 [==============================] - 0s 1ms/step - loss: 0.5469 - output_1_loss: 0.4982 - output_2_loss: 0.9853 - val_loss: 0.5446 - val_output_1_loss: 0.4746 - val_output_2_loss: 1.1742\n",
      "Epoch 10/10\n",
      "363/363 [==============================] - 0s 1ms/step - loss: 0.5335 - output_1_loss: 0.4868 - output_2_loss: 0.9542 - val_loss: 0.5230 - val_output_1_loss: 0.4615 - val_output_2_loss: 1.0761\n",
      "162/162 [==============================] - 0s 850us/step - loss: 0.5172 - output_1_loss: 0.4717 - output_2_loss: 0.9267\n"
     ]
    }
   ],
   "source": [
    "model4.compile(loss=[\"mse\", \"mse\"], loss_weights=[0.9, 0.1], optimizer=keras.optimizers.SGD(lr=1e-3))\n",
    "history = model4.fit([X_train_A, X_train_B], [y_train, y_train], epochs=10, validation_data=([X_valid_A, X_valid_B], [y_valid, y_valid]))\n",
    "total_loss, main_loss, aux_loss = model4.evaluate((X_test_A, X_test_B), (y_test, y_test))\n",
    "y_pred_main, y_pred_aux = model4.predict((X_new_A, X_new_B))"
   ]
  },
  {
   "cell_type": "code",
   "execution_count": 134,
   "metadata": {},
   "outputs": [
    {
     "data": {
      "text/plain": [
       "(array([[0.38445035],\n",
       "        [1.58322   ],\n",
       "        [2.9508295 ]], dtype=float32),\n",
       " array([[1.0679609],\n",
       "        [1.7726775],\n",
       "        [2.2040095]], dtype=float32))"
      ]
     },
     "execution_count": 134,
     "metadata": {},
     "output_type": "execute_result"
    }
   ],
   "source": [
    "y_pred_main, y_pred_aux"
   ]
  },
  {
   "cell_type": "markdown",
   "metadata": {},
   "source": [
    "###### Saving & restoring"
   ]
  },
  {
   "cell_type": "code",
   "execution_count": 136,
   "metadata": {},
   "outputs": [],
   "source": [
    "np.random.seed(42)\n",
    "tf.random.set_seed(42)\n",
    "\n",
    "model5 = keras.models.Sequential([\n",
    "    keras.layers.Dense(30, activation='relu', input_shape=[8]),\n",
    "    keras.layers.Dense(30, activation='relu'),\n",
    "    keras.layers.Dense(1)\n",
    "    ])"
   ]
  },
  {
   "cell_type": "code",
   "execution_count": 139,
   "metadata": {},
   "outputs": [
    {
     "name": "stdout",
     "output_type": "stream",
     "text": [
      "Epoch 1/10\n",
      "363/363 [==============================] - 1s 1ms/step - loss: 1.8866 - val_loss: 0.7126\n",
      "Epoch 2/10\n",
      "363/363 [==============================] - 0s 897us/step - loss: 0.6577 - val_loss: 0.6880\n",
      "Epoch 3/10\n",
      "363/363 [==============================] - 0s 904us/step - loss: 0.5934 - val_loss: 0.5803\n",
      "Epoch 4/10\n",
      "363/363 [==============================] - 0s 1ms/step - loss: 0.5557 - val_loss: 0.5166\n",
      "Epoch 5/10\n",
      "363/363 [==============================] - 0s 870us/step - loss: 0.5272 - val_loss: 0.4895\n",
      "Epoch 6/10\n",
      "363/363 [==============================] - 0s 923us/step - loss: 0.5033 - val_loss: 0.4951\n",
      "Epoch 7/10\n",
      "363/363 [==============================] - 0s 1ms/step - loss: 0.4854 - val_loss: 0.4861\n",
      "Epoch 8/10\n",
      "363/363 [==============================] - 0s 894us/step - loss: 0.4709 - val_loss: 0.4554\n",
      "Epoch 9/10\n",
      "363/363 [==============================] - 0s 984us/step - loss: 0.4578 - val_loss: 0.4413\n",
      "Epoch 10/10\n",
      "363/363 [==============================] - 0s 1ms/step - loss: 0.4474 - val_loss: 0.4379\n",
      "162/162 [==============================] - 0s 519us/step - loss: 0.4382\n"
     ]
    }
   ],
   "source": [
    "model5.compile(loss='mse', optimizer=keras.optimizers.SGD(lr=1e-3))\n",
    "history=model5.fit(X_train, y_train, epochs=10, validation_data=(X_valid, y_valid))\n",
    "mse_test=model5.evaluate(X_test, y_test)"
   ]
  },
  {
   "cell_type": "code",
   "execution_count": 140,
   "metadata": {},
   "outputs": [],
   "source": [
    "model5.save('my_keras_model.h5')"
   ]
  },
  {
   "cell_type": "code",
   "execution_count": 141,
   "metadata": {},
   "outputs": [],
   "source": [
    "model6 = keras.models.load_model('my_keras_model.h5')"
   ]
  },
  {
   "cell_type": "code",
   "execution_count": 142,
   "metadata": {},
   "outputs": [
    {
     "data": {
      "text/plain": [
       "array([[0.5400236],\n",
       "       [1.6505971],\n",
       "       [3.0098243]], dtype=float32)"
      ]
     },
     "execution_count": 142,
     "metadata": {},
     "output_type": "execute_result"
    }
   ],
   "source": [
    "model6.predict(X_new)"
   ]
  },
  {
   "cell_type": "code",
   "execution_count": 143,
   "metadata": {},
   "outputs": [],
   "source": [
    "model6.save_weights('my_keras_weights.ckpt')"
   ]
  },
  {
   "cell_type": "code",
   "execution_count": 145,
   "metadata": {},
   "outputs": [
    {
     "data": {
      "text/plain": [
       "<tensorflow.python.training.tracking.util.CheckpointLoadStatus at 0x27e608c6748>"
      ]
     },
     "execution_count": 145,
     "metadata": {},
     "output_type": "execute_result"
    }
   ],
   "source": [
    "model6.load_weights('my_keras_weights.ckpt')"
   ]
  },
  {
   "cell_type": "markdown",
   "metadata": {},
   "source": [
    "###### Using callbacks during training"
   ]
  },
  {
   "cell_type": "code",
   "execution_count": 146,
   "metadata": {},
   "outputs": [],
   "source": [
    "keras.backend.clear_session()\n",
    "np.random.seed(42)\n",
    "tf.random.set_seed(42)"
   ]
  },
  {
   "cell_type": "code",
   "execution_count": 147,
   "metadata": {},
   "outputs": [],
   "source": [
    "model7=keras.models.Sequential([\n",
    "    keras.layers.Dense(30, activation='relu', input_shape=[8]),\n",
    "    keras.layers.Dense(30, activation='relu'),\n",
    "    keras.layers.Dense(1)\n",
    "    ])"
   ]
  },
  {
   "cell_type": "code",
   "execution_count": 148,
   "metadata": {},
   "outputs": [
    {
     "name": "stdout",
     "output_type": "stream",
     "text": [
      "Epoch 1/10\n",
      "363/363 [==============================] - 1s 1ms/step - loss: 1.8866 - val_loss: 0.7126\n",
      "Epoch 2/10\n",
      "363/363 [==============================] - 0s 1ms/step - loss: 0.6577 - val_loss: 0.6880\n",
      "Epoch 3/10\n",
      "363/363 [==============================] - 0s 1ms/step - loss: 0.5934 - val_loss: 0.5803\n",
      "Epoch 4/10\n",
      "363/363 [==============================] - 0s 1ms/step - loss: 0.5557 - val_loss: 0.5166\n",
      "Epoch 5/10\n",
      "363/363 [==============================] - 0s 916us/step - loss: 0.5272 - val_loss: 0.4895\n",
      "Epoch 6/10\n",
      "363/363 [==============================] - 0s 892us/step - loss: 0.5033 - val_loss: 0.4951\n",
      "Epoch 7/10\n",
      "363/363 [==============================] - 0s 918us/step - loss: 0.4854 - val_loss: 0.4861\n",
      "Epoch 8/10\n",
      "363/363 [==============================] - 0s 925us/step - loss: 0.4709 - val_loss: 0.4554\n",
      "Epoch 9/10\n",
      "363/363 [==============================] - 0s 1ms/step - loss: 0.4578 - val_loss: 0.4413\n",
      "Epoch 10/10\n",
      "363/363 [==============================] - 0s 938us/step - loss: 0.4474 - val_loss: 0.4379\n",
      "162/162 [==============================] - 0s 591us/step - loss: 0.4382\n"
     ]
    }
   ],
   "source": [
    "model7.compile(loss='mse', optimizer=keras.optimizers.SGD(lr=1e-3))\n",
    "checkpoint_cb = keras.callbacks.ModelCheckpoint('my_keras_model.h5', save_best_only=True)\n",
    "history=model7.fit(X_train, y_train, epochs=10, validation_data=(X_valid, y_valid), callbacks=[checkpoint_cb])\n",
    "model8 = keras.models.load_model('my_keras_model.h5') # rollback to best model7\n",
    "mse_test=model8.evaluate(X_test, y_test)"
   ]
  },
  {
   "cell_type": "code",
   "execution_count": 150,
   "metadata": {},
   "outputs": [
    {
     "name": "stdout",
     "output_type": "stream",
     "text": [
      "Epoch 1/100\n",
      "363/363 [==============================] - 1s 1ms/step - loss: 0.4393 - val_loss: 0.4110\n",
      "Epoch 2/100\n",
      "363/363 [==============================] - 0s 934us/step - loss: 0.4315 - val_loss: 0.4266\n",
      "Epoch 3/100\n",
      "363/363 [==============================] - 0s 969us/step - loss: 0.4259 - val_loss: 0.3996\n",
      "Epoch 4/100\n",
      "363/363 [==============================] - 1s 1ms/step - loss: 0.4201 - val_loss: 0.3939\n",
      "Epoch 5/100\n",
      "363/363 [==============================] - 0s 859us/step - loss: 0.4154 - val_loss: 0.3889\n",
      "Epoch 6/100\n",
      "363/363 [==============================] - 0s 992us/step - loss: 0.4111 - val_loss: 0.3866\n",
      "Epoch 7/100\n",
      "363/363 [==============================] - 0s 1ms/step - loss: 0.4074 - val_loss: 0.3860\n",
      "Epoch 8/100\n",
      "363/363 [==============================] - 0s 773us/step - loss: 0.4040 - val_loss: 0.3793\n",
      "Epoch 9/100\n",
      "363/363 [==============================] - 0s 894us/step - loss: 0.4008 - val_loss: 0.3746\n",
      "Epoch 10/100\n",
      "363/363 [==============================] - 0s 806us/step - loss: 0.3976 - val_loss: 0.3723\n",
      "Epoch 11/100\n",
      "363/363 [==============================] - 0s 1ms/step - loss: 0.3950 - val_loss: 0.3697\n",
      "Epoch 12/100\n",
      "363/363 [==============================] - 0s 835us/step - loss: 0.3923 - val_loss: 0.3669\n",
      "Epoch 13/100\n",
      "363/363 [==============================] - 0s 880us/step - loss: 0.3897 - val_loss: 0.3661\n",
      "Epoch 14/100\n",
      "363/363 [==============================] - 0s 924us/step - loss: 0.3874 - val_loss: 0.3631\n",
      "Epoch 15/100\n",
      "363/363 [==============================] - 0s 816us/step - loss: 0.3851 - val_loss: 0.3660\n",
      "Epoch 16/100\n",
      "363/363 [==============================] - 0s 900us/step - loss: 0.3829 - val_loss: 0.3625\n",
      "Epoch 17/100\n",
      "363/363 [==============================] - 0s 760us/step - loss: 0.3810 - val_loss: 0.3592\n",
      "Epoch 18/100\n",
      "363/363 [==============================] - 0s 754us/step - loss: 0.3788 - val_loss: 0.3563\n",
      "Epoch 19/100\n",
      "363/363 [==============================] - 0s 787us/step - loss: 0.3766 - val_loss: 0.3535\n",
      "Epoch 20/100\n",
      "363/363 [==============================] - 0s 795us/step - loss: 0.3750 - val_loss: 0.3709\n",
      "Epoch 21/100\n",
      "363/363 [==============================] - 0s 795us/step - loss: 0.3732 - val_loss: 0.3512\n",
      "Epoch 22/100\n",
      "363/363 [==============================] - 0s 853us/step - loss: 0.3715 - val_loss: 0.3700\n",
      "Epoch 23/100\n",
      "363/363 [==============================] - 0s 858us/step - loss: 0.3700 - val_loss: 0.3476\n",
      "Epoch 24/100\n",
      "363/363 [==============================] - 0s 781us/step - loss: 0.3685 - val_loss: 0.3561\n",
      "Epoch 25/100\n",
      "363/363 [==============================] - 0s 766us/step - loss: 0.3671 - val_loss: 0.3527\n",
      "Epoch 26/100\n",
      "363/363 [==============================] - 0s 774us/step - loss: 0.3658 - val_loss: 0.3701\n",
      "Epoch 27/100\n",
      "363/363 [==============================] - 0s 759us/step - loss: 0.3647 - val_loss: 0.3432\n",
      "Epoch 28/100\n",
      "363/363 [==============================] - 0s 777us/step - loss: 0.3635 - val_loss: 0.3592\n",
      "Epoch 29/100\n",
      "363/363 [==============================] - 0s 790us/step - loss: 0.3625 - val_loss: 0.3521\n",
      "Epoch 30/100\n",
      "363/363 [==============================] - 0s 770us/step - loss: 0.3613 - val_loss: 0.3626\n",
      "Epoch 31/100\n",
      "363/363 [==============================] - 0s 766us/step - loss: 0.3601 - val_loss: 0.3431\n",
      "Epoch 32/100\n",
      "363/363 [==============================] - 0s 741us/step - loss: 0.3589 - val_loss: 0.3765\n",
      "Epoch 33/100\n",
      "363/363 [==============================] - 0s 748us/step - loss: 0.3584 - val_loss: 0.3374\n",
      "Epoch 34/100\n",
      "363/363 [==============================] - 0s 750us/step - loss: 0.3572 - val_loss: 0.3407\n",
      "Epoch 35/100\n",
      "363/363 [==============================] - 0s 775us/step - loss: 0.3563 - val_loss: 0.3614\n",
      "Epoch 36/100\n",
      "363/363 [==============================] - 0s 798us/step - loss: 0.3555 - val_loss: 0.3348\n",
      "Epoch 37/100\n",
      "363/363 [==============================] - 0s 838us/step - loss: 0.3546 - val_loss: 0.3573\n",
      "Epoch 38/100\n",
      "363/363 [==============================] - 0s 733us/step - loss: 0.3538 - val_loss: 0.3367\n",
      "Epoch 39/100\n",
      "363/363 [==============================] - 0s 746us/step - loss: 0.3530 - val_loss: 0.3425\n",
      "Epoch 40/100\n",
      "363/363 [==============================] - 0s 774us/step - loss: 0.3523 - val_loss: 0.3368\n",
      "Epoch 41/100\n",
      "363/363 [==============================] - 0s 806us/step - loss: 0.3515 - val_loss: 0.3514\n",
      "Epoch 42/100\n",
      "363/363 [==============================] - 0s 791us/step - loss: 0.3511 - val_loss: 0.3426\n",
      "Epoch 43/100\n",
      "363/363 [==============================] - 0s 705us/step - loss: 0.3500 - val_loss: 0.3677\n",
      "Epoch 44/100\n",
      "363/363 [==============================] - 0s 733us/step - loss: 0.3496 - val_loss: 0.3563\n",
      "Epoch 45/100\n",
      "363/363 [==============================] - 0s 748us/step - loss: 0.3490 - val_loss: 0.3336\n",
      "Epoch 46/100\n",
      "363/363 [==============================] - 0s 762us/step - loss: 0.3481 - val_loss: 0.3455\n",
      "Epoch 47/100\n",
      "363/363 [==============================] - 0s 707us/step - loss: 0.3478 - val_loss: 0.3434\n",
      "Epoch 48/100\n",
      "363/363 [==============================] - 0s 747us/step - loss: 0.3471 - val_loss: 0.3657\n",
      "Epoch 49/100\n",
      "363/363 [==============================] - 0s 728us/step - loss: 0.3466 - val_loss: 0.3287\n",
      "Epoch 50/100\n",
      "363/363 [==============================] - 0s 760us/step - loss: 0.3460 - val_loss: 0.3267\n",
      "Epoch 51/100\n",
      "363/363 [==============================] - 0s 741us/step - loss: 0.3454 - val_loss: 0.3439\n",
      "Epoch 52/100\n",
      "363/363 [==============================] - 0s 739us/step - loss: 0.3449 - val_loss: 0.3262\n",
      "Epoch 53/100\n",
      "363/363 [==============================] - 0s 765us/step - loss: 0.3444 - val_loss: 0.3912\n",
      "Epoch 54/100\n",
      "363/363 [==============================] - 0s 747us/step - loss: 0.3439 - val_loss: 0.3275\n",
      "Epoch 55/100\n",
      "363/363 [==============================] - 0s 728us/step - loss: 0.3435 - val_loss: 0.3560\n",
      "Epoch 56/100\n",
      "363/363 [==============================] - 0s 717us/step - loss: 0.3430 - val_loss: 0.3237\n",
      "Epoch 57/100\n",
      "363/363 [==============================] - 0s 782us/step - loss: 0.3423 - val_loss: 0.3242\n",
      "Epoch 58/100\n",
      "363/363 [==============================] - 0s 742us/step - loss: 0.3419 - val_loss: 0.3765\n",
      "Epoch 59/100\n",
      "363/363 [==============================] - 0s 767us/step - loss: 0.3417 - val_loss: 0.3289\n",
      "Epoch 60/100\n",
      "363/363 [==============================] - 0s 756us/step - loss: 0.3410 - val_loss: 0.3501\n",
      "Epoch 61/100\n",
      "363/363 [==============================] - 0s 720us/step - loss: 0.3404 - val_loss: 0.3456\n",
      "Epoch 62/100\n",
      "363/363 [==============================] - 0s 788us/step - loss: 0.3402 - val_loss: 0.3446\n",
      "Epoch 63/100\n",
      "363/363 [==============================] - 0s 676us/step - loss: 0.3392 - val_loss: 0.3290\n",
      "Epoch 64/100\n",
      "363/363 [==============================] - 0s 718us/step - loss: 0.3393 - val_loss: 0.3217\n",
      "Epoch 65/100\n",
      "363/363 [==============================] - 0s 777us/step - loss: 0.3387 - val_loss: 0.3352\n",
      "Epoch 66/100\n",
      "363/363 [==============================] - 0s 713us/step - loss: 0.3383 - val_loss: 0.3232\n",
      "Epoch 67/100\n",
      "363/363 [==============================] - 0s 724us/step - loss: 0.3376 - val_loss: 0.3567\n",
      "Epoch 68/100\n",
      "363/363 [==============================] - 0s 756us/step - loss: 0.3374 - val_loss: 0.3256\n",
      "Epoch 69/100\n",
      "363/363 [==============================] - 0s 715us/step - loss: 0.3370 - val_loss: 0.3349\n",
      "Epoch 70/100\n",
      "363/363 [==============================] - 0s 730us/step - loss: 0.3365 - val_loss: 0.3559\n",
      "Epoch 71/100\n",
      "363/363 [==============================] - 0s 753us/step - loss: 0.3361 - val_loss: 0.3583\n",
      "Epoch 72/100\n",
      "363/363 [==============================] - 0s 725us/step - loss: 0.3357 - val_loss: 0.3287\n",
      "Epoch 73/100\n",
      "363/363 [==============================] - 0s 741us/step - loss: 0.3351 - val_loss: 0.3203\n",
      "Epoch 74/100\n",
      "363/363 [==============================] - 0s 718us/step - loss: 0.3350 - val_loss: 0.3841\n",
      "Epoch 75/100\n",
      "363/363 [==============================] - 0s 717us/step - loss: 0.3347 - val_loss: 0.3234\n",
      "Epoch 76/100\n",
      "363/363 [==============================] - 0s 756us/step - loss: 0.3342 - val_loss: 0.3476\n",
      "Epoch 77/100\n",
      "363/363 [==============================] - 0s 716us/step - loss: 0.3338 - val_loss: 0.3408\n",
      "Epoch 78/100\n",
      "363/363 [==============================] - 0s 762us/step - loss: 0.3335 - val_loss: 0.3462\n",
      "Epoch 79/100\n",
      "363/363 [==============================] - 0s 692us/step - loss: 0.3332 - val_loss: 0.3347\n"
     ]
    },
    {
     "name": "stdout",
     "output_type": "stream",
     "text": [
      "Epoch 80/100\n",
      "363/363 [==============================] - 0s 729us/step - loss: 0.3329 - val_loss: 0.3353\n",
      "Epoch 81/100\n",
      "363/363 [==============================] - 0s 725us/step - loss: 0.3324 - val_loss: 0.3276\n",
      "Epoch 82/100\n",
      "363/363 [==============================] - 0s 736us/step - loss: 0.3320 - val_loss: 0.3167\n",
      "Epoch 83/100\n",
      "363/363 [==============================] - 0s 760us/step - loss: 0.3317 - val_loss: 0.3281\n",
      "Epoch 84/100\n",
      "363/363 [==============================] - 0s 798us/step - loss: 0.3312 - val_loss: 0.3636\n",
      "Epoch 85/100\n",
      "363/363 [==============================] - 0s 733us/step - loss: 0.3310 - val_loss: 0.3175\n",
      "Epoch 86/100\n",
      "363/363 [==============================] - 0s 725us/step - loss: 0.3308 - val_loss: 0.3156\n",
      "Epoch 87/100\n",
      "363/363 [==============================] - 0s 764us/step - loss: 0.3305 - val_loss: 0.3532\n",
      "Epoch 88/100\n",
      "363/363 [==============================] - 0s 695us/step - loss: 0.3299 - val_loss: 0.3256\n",
      "Epoch 89/100\n",
      "363/363 [==============================] - 0s 742us/step - loss: 0.3294 - val_loss: 0.3630\n",
      "Epoch 90/100\n",
      "363/363 [==============================] - 0s 712us/step - loss: 0.3296 - val_loss: 0.3375\n",
      "Epoch 91/100\n",
      "363/363 [==============================] - 0s 700us/step - loss: 0.3291 - val_loss: 0.3212\n",
      "Epoch 92/100\n",
      "363/363 [==============================] - 0s 721us/step - loss: 0.3287 - val_loss: 0.3455\n",
      "Epoch 93/100\n",
      "363/363 [==============================] - 0s 750us/step - loss: 0.3285 - val_loss: 0.3159\n",
      "Epoch 94/100\n",
      "363/363 [==============================] - 0s 721us/step - loss: 0.3281 - val_loss: 0.3407\n",
      "Epoch 95/100\n",
      "363/363 [==============================] - 0s 729us/step - loss: 0.3277 - val_loss: 0.3382\n",
      "Epoch 96/100\n",
      "363/363 [==============================] - 0s 720us/step - loss: 0.3273 - val_loss: 0.3212\n",
      "162/162 [==============================] - 0s 667us/step - loss: 0.3310\n"
     ]
    }
   ],
   "source": [
    "model8.compile(loss='mse', optimizer=keras.optimizers.SGD(lr=1e-3))\n",
    "early_stopping_cb = keras.callbacks.EarlyStopping(patience=10, restore_best_weights=True)\n",
    "history=model8.fit(X_train, y_train, epochs=100, validation_data=(X_valid, y_valid), \n",
    "                   callbacks=[checkpoint_cb, early_stopping_cb])\n",
    "mse_test=model8.evaluate(X_test, y_test)"
   ]
  },
  {
   "cell_type": "code",
   "execution_count": 154,
   "metadata": {},
   "outputs": [],
   "source": [
    "class PrintValTrainRatioCallback(keras.callbacks.Callback):\n",
    "    def on_epoch_end(self, epoch, logs):\n",
    "        print(\"\\nval/train: {:.2f}\".format(logs[\"val_loss\"] / logs[\"loss\"]))"
   ]
  },
  {
   "cell_type": "code",
   "execution_count": 155,
   "metadata": {},
   "outputs": [
    {
     "name": "stdout",
     "output_type": "stream",
     "text": [
      "363/363 [==============================] - 0s 981us/step - loss: 0.3300 - val_loss: 0.3200\n",
      "\n",
      "val/train: 0.97\n"
     ]
    }
   ],
   "source": [
    "val_train_ratio_cb = PrintValTrainRatioCallback()\n",
    "history=model8.fit(X_train, y_train, epochs=1, validation_data=(X_valid, y_valid),\n",
    "                   callbacks=[val_train_ratio_cb])"
   ]
  },
  {
   "cell_type": "markdown",
   "metadata": {},
   "source": [
    "###### TensorBoard"
   ]
  },
  {
   "cell_type": "code",
   "execution_count": 156,
   "metadata": {},
   "outputs": [],
   "source": [
    "root_logdir=os.path.join(os.curdir, 'my_logs')"
   ]
  },
  {
   "cell_type": "code",
   "execution_count": 157,
   "metadata": {},
   "outputs": [
    {
     "data": {
      "text/plain": [
       "'.\\\\my_logs\\\\run_2021_08_18-08_49_35'"
      ]
     },
     "execution_count": 157,
     "metadata": {},
     "output_type": "execute_result"
    }
   ],
   "source": [
    "def get_run_logdir():\n",
    "    import time\n",
    "    run_id= time.strftime('run_%Y_%m_%d-%H_%M_%S')\n",
    "    return os.path.join(root_logdir, run_id)\n",
    "\n",
    "run_logdir=get_run_logdir()\n",
    "run_logdir"
   ]
  },
  {
   "cell_type": "code",
   "execution_count": 158,
   "metadata": {},
   "outputs": [],
   "source": [
    "keras.backend.clear_session()\n",
    "np.random.seed(42)\n",
    "tf.random.set_seed(42)"
   ]
  },
  {
   "cell_type": "code",
   "execution_count": 159,
   "metadata": {},
   "outputs": [],
   "source": [
    "model9 = keras.models.Sequential([\n",
    "    keras.layers.Dense(30, activation='relu', input_shape=[8]),\n",
    "    keras.layers.Dense(30, activation='relu'),\n",
    "    keras.layers.Dense(1)\n",
    "    ])"
   ]
  },
  {
   "cell_type": "code",
   "execution_count": 160,
   "metadata": {},
   "outputs": [],
   "source": [
    "model9.compile(loss='mse', optimizer=keras.optimizers.SGD(lr=1e-3))"
   ]
  },
  {
   "cell_type": "code",
   "execution_count": 162,
   "metadata": {},
   "outputs": [
    {
     "name": "stdout",
     "output_type": "stream",
     "text": [
      "Epoch 1/30\n",
      "363/363 [==============================] - 1s 1ms/step - loss: 1.8866 - val_loss: 0.7126\n",
      "Epoch 2/30\n",
      "363/363 [==============================] - 0s 1ms/step - loss: 0.6577 - val_loss: 0.6880\n",
      "Epoch 3/30\n",
      "363/363 [==============================] - 0s 952us/step - loss: 0.5934 - val_loss: 0.5803\n",
      "Epoch 4/30\n",
      "363/363 [==============================] - 0s 959us/step - loss: 0.5557 - val_loss: 0.5166\n",
      "Epoch 5/30\n",
      "363/363 [==============================] - 0s 1ms/step - loss: 0.5272 - val_loss: 0.4895\n",
      "Epoch 6/30\n",
      "363/363 [==============================] - 0s 1ms/step - loss: 0.5033 - val_loss: 0.4951\n",
      "Epoch 7/30\n",
      "363/363 [==============================] - 0s 1ms/step - loss: 0.4854 - val_loss: 0.4861\n",
      "Epoch 8/30\n",
      "363/363 [==============================] - 0s 936us/step - loss: 0.4709 - val_loss: 0.4554\n",
      "Epoch 9/30\n",
      "363/363 [==============================] - 0s 944us/step - loss: 0.4578 - val_loss: 0.4413\n",
      "Epoch 10/30\n",
      "363/363 [==============================] - 0s 969us/step - loss: 0.4474 - val_loss: 0.4379\n",
      "Epoch 11/30\n",
      "363/363 [==============================] - 0s 942us/step - loss: 0.4393 - val_loss: 0.4396\n",
      "Epoch 12/30\n",
      "363/363 [==============================] - 0s 929us/step - loss: 0.4318 - val_loss: 0.4507\n",
      "Epoch 13/30\n",
      "363/363 [==============================] - 0s 937us/step - loss: 0.4261 - val_loss: 0.3997\n",
      "Epoch 14/30\n",
      "363/363 [==============================] - 0s 928us/step - loss: 0.4202 - val_loss: 0.3956\n",
      "Epoch 15/30\n",
      "363/363 [==============================] - 0s 936us/step - loss: 0.4155 - val_loss: 0.3916\n",
      "Epoch 16/30\n",
      "363/363 [==============================] - 0s 939us/step - loss: 0.4112 - val_loss: 0.3937\n",
      "Epoch 17/30\n",
      "363/363 [==============================] - 0s 938us/step - loss: 0.4077 - val_loss: 0.3809\n",
      "Epoch 18/30\n",
      "363/363 [==============================] - 0s 961us/step - loss: 0.4040 - val_loss: 0.3793\n",
      "Epoch 19/30\n",
      "363/363 [==============================] - 0s 951us/step - loss: 0.4004 - val_loss: 0.3850\n",
      "Epoch 20/30\n",
      "363/363 [==============================] - 0s 947us/step - loss: 0.3980 - val_loss: 0.3809\n",
      "Epoch 21/30\n",
      "363/363 [==============================] - 0s 974us/step - loss: 0.3949 - val_loss: 0.3701\n",
      "Epoch 22/30\n",
      "363/363 [==============================] - 0s 966us/step - loss: 0.3924 - val_loss: 0.3781\n",
      "Epoch 23/30\n",
      "363/363 [==============================] - 0s 949us/step - loss: 0.3898 - val_loss: 0.3650\n",
      "Epoch 24/30\n",
      "363/363 [==============================] - 0s 926us/step - loss: 0.3874 - val_loss: 0.3655\n",
      "Epoch 25/30\n",
      "363/363 [==============================] - 0s 966us/step - loss: 0.3851 - val_loss: 0.3611\n",
      "Epoch 26/30\n",
      "363/363 [==============================] - 0s 969us/step - loss: 0.3829 - val_loss: 0.3626\n",
      "Epoch 27/30\n",
      "363/363 [==============================] - 0s 954us/step - loss: 0.3809 - val_loss: 0.3564\n",
      "Epoch 28/30\n",
      "363/363 [==============================] - 0s 947us/step - loss: 0.3788 - val_loss: 0.3579\n",
      "Epoch 29/30\n",
      "363/363 [==============================] - 0s 942us/step - loss: 0.3769 - val_loss: 0.3561\n",
      "Epoch 30/30\n",
      "363/363 [==============================] - 0s 956us/step - loss: 0.3750 - val_loss: 0.3548\n"
     ]
    }
   ],
   "source": [
    "tensorboard_cb= keras. callbacks.TensorBoard(run_logdir)\n",
    "history = model9.fit(X_train, y_train, epochs=30, validation_data=(X_valid, y_valid),\n",
    "                     callbacks=[checkpoint_cb, tensorboard_cb])"
   ]
  },
  {
   "cell_type": "code",
   "execution_count": 163,
   "metadata": {},
   "outputs": [
    {
     "data": {
      "text/html": [
       "\n",
       "      <iframe id=\"tensorboard-frame-6ff12725eb482a81\" width=\"100%\" height=\"800\" frameborder=\"0\">\n",
       "      </iframe>\n",
       "      <script>\n",
       "        (function() {\n",
       "          const frame = document.getElementById(\"tensorboard-frame-6ff12725eb482a81\");\n",
       "          const url = new URL(\"/\", window.location);\n",
       "          const port = 6006;\n",
       "          if (port) {\n",
       "            url.port = port;\n",
       "          }\n",
       "          frame.src = url;\n",
       "        })();\n",
       "      </script>\n",
       "    "
      ],
      "text/plain": [
       "<IPython.core.display.HTML object>"
      ]
     },
     "metadata": {},
     "output_type": "display_data"
    }
   ],
   "source": [
    "%load_ext tensorboard\n",
    "%tensorboard --logdir=./my_logs --port=6006\n"
   ]
  },
  {
   "cell_type": "code",
   "execution_count": 164,
   "metadata": {},
   "outputs": [
    {
     "data": {
      "text/plain": [
       "'.\\\\my_logs\\\\run_2021_08_18-12_53_35'"
      ]
     },
     "execution_count": 164,
     "metadata": {},
     "output_type": "execute_result"
    }
   ],
   "source": [
    "run_logdir2 = get_run_logdir()\n",
    "run_logdir2"
   ]
  },
  {
   "cell_type": "code",
   "execution_count": 166,
   "metadata": {},
   "outputs": [],
   "source": [
    "keras.backend. clear_session()\n",
    "np.random.seed(42)\n",
    "tf.random.set_seed(42)"
   ]
  },
  {
   "cell_type": "code",
   "execution_count": 167,
   "metadata": {},
   "outputs": [],
   "source": [
    "model10 = keras.models.Sequential([\n",
    "    keras.layers.Dense(30, activation='relu', input_shape=[8]),\n",
    "    keras.layers.Dense(30, activation='relu'),\n",
    "    keras.layers.Dense(1)\n",
    "    ])"
   ]
  },
  {
   "cell_type": "code",
   "execution_count": 174,
   "metadata": {},
   "outputs": [],
   "source": [
    "model10.compile(loss='mse', optimizer=keras.optimizers.SGD(lr=0.05))"
   ]
  },
  {
   "cell_type": "code",
   "execution_count": 175,
   "metadata": {},
   "outputs": [
    {
     "name": "stdout",
     "output_type": "stream",
     "text": [
      "Epoch 1/30\n",
      "363/363 [==============================] - 1s 2ms/step - loss: 0.5530 - val_loss: 302.8466\n",
      "Epoch 2/30\n",
      "363/363 [==============================] - 0s 1ms/step - loss: 63.6669 - val_loss: 0.9735\n",
      "Epoch 3/30\n",
      "363/363 [==============================] - 0s 961us/step - loss: 0.9411 - val_loss: 0.9599\n",
      "Epoch 4/30\n",
      "363/363 [==============================] - 0s 1ms/step - loss: 0.9197 - val_loss: 0.8464\n",
      "Epoch 5/30\n",
      "363/363 [==============================] - 0s 1ms/step - loss: 0.9819 - val_loss: 0.9281\n",
      "Epoch 6/30\n",
      "363/363 [==============================] - 0s 983us/step - loss: 0.9240 - val_loss: 0.9089\n",
      "Epoch 7/30\n",
      "363/363 [==============================] - 0s 972us/step - loss: 0.9179 - val_loss: 0.8815\n",
      "Epoch 8/30\n",
      "363/363 [==============================] - 0s 982us/step - loss: 0.8950 - val_loss: 0.9007\n",
      "Epoch 9/30\n",
      "363/363 [==============================] - 0s 981us/step - loss: 0.9150 - val_loss: 0.8734\n",
      "Epoch 10/30\n",
      "363/363 [==============================] - 0s 986us/step - loss: 0.8921 - val_loss: 0.8507\n",
      "Epoch 11/30\n",
      "363/363 [==============================] - 0s 1ms/step - loss: 0.9377 - val_loss: 0.8663\n",
      "Epoch 12/30\n",
      "363/363 [==============================] - 0s 1ms/step - loss: 0.8821 - val_loss: 0.8661\n",
      "Epoch 13/30\n",
      "363/363 [==============================] - 0s 1ms/step - loss: 0.8820 - val_loss: 0.8442\n",
      "Epoch 14/30\n",
      "363/363 [==============================] - 0s 1ms/step - loss: 0.8723 - val_loss: 0.8376\n",
      "Epoch 15/30\n",
      "363/363 [==============================] - 0s 1ms/step - loss: 2.0060 - val_loss: 0.8278\n",
      "Epoch 16/30\n",
      "363/363 [==============================] - 0s 889us/step - loss: 1.0323 - val_loss: 0.8264\n",
      "Epoch 17/30\n",
      "363/363 [==============================] - 0s 810us/step - loss: 0.8477 - val_loss: 0.8303\n",
      "Epoch 18/30\n",
      "363/363 [==============================] - 0s 802us/step - loss: 0.8441 - val_loss: 0.8028\n",
      "Epoch 19/30\n",
      "363/363 [==============================] - 0s 909us/step - loss: 0.8270 - val_loss: 0.8049\n",
      "Epoch 20/30\n",
      "363/363 [==============================] - 0s 864us/step - loss: 0.8190 - val_loss: 0.7881\n",
      "Epoch 21/30\n",
      "363/363 [==============================] - 0s 792us/step - loss: 0.8061 - val_loss: 0.8479\n",
      "Epoch 22/30\n",
      "363/363 [==============================] - 0s 1ms/step - loss: 0.7955 - val_loss: 0.7850\n",
      "Epoch 23/30\n",
      "363/363 [==============================] - 0s 790us/step - loss: 0.7825 - val_loss: 0.7543\n",
      "Epoch 24/30\n",
      "363/363 [==============================] - 0s 802us/step - loss: 0.7755 - val_loss: 0.7205\n",
      "Epoch 25/30\n",
      "363/363 [==============================] - 0s 792us/step - loss: 0.7554 - val_loss: 0.8237\n",
      "Epoch 26/30\n",
      "363/363 [==============================] - 0s 924us/step - loss: 0.8110 - val_loss: 0.7646\n",
      "Epoch 27/30\n",
      "363/363 [==============================] - 0s 877us/step - loss: 0.7860 - val_loss: 0.7630\n",
      "Epoch 28/30\n",
      "363/363 [==============================] - 0s 1ms/step - loss: 0.7753 - val_loss: 0.7558\n",
      "Epoch 29/30\n",
      "363/363 [==============================] - 0s 791us/step - loss: 0.7526 - val_loss: 2.6873\n",
      "Epoch 30/30\n",
      "363/363 [==============================] - 0s 1ms/step - loss: 0.7860 - val_loss: 0.7643\n"
     ]
    }
   ],
   "source": [
    "tensorboard_cb = keras.callbacks.TensorBoard(run_logdir2)\n",
    "history=model10.fit(X_train, y_train, epochs=30, \n",
    "                    validation_data=(X_valid, y_valid),\n",
    "                    callbacks=[checkpoint_cb, tensorboard_cb])"
   ]
  },
  {
   "cell_type": "code",
   "execution_count": 176,
   "metadata": {},
   "outputs": [
    {
     "name": "stdout",
     "output_type": "stream",
     "text": [
      "Help on function __init__ in module tensorflow.python.keras.callbacks:\n",
      "\n",
      "__init__(self, log_dir='logs', histogram_freq=0, write_graph=True, write_images=False, write_steps_per_second=False, update_freq='epoch', profile_batch=2, embeddings_freq=0, embeddings_metadata=None, **kwargs)\n",
      "    Initialize self.  See help(type(self)) for accurate signature.\n",
      "\n"
     ]
    }
   ],
   "source": [
    "help(keras.callbacks.TensorBoard.__init__)"
   ]
  },
  {
   "cell_type": "code",
   "execution_count": 177,
   "metadata": {},
   "outputs": [
    {
     "name": "stdout",
     "output_type": "stream",
     "text": [
      "The tensorboard extension is already loaded. To reload it, use:\n",
      "  %reload_ext tensorboard\n"
     ]
    },
    {
     "data": {
      "text/plain": [
       "Reusing TensorBoard on port 6006 (pid 11824), started 0:14:30 ago. (Use '!kill 11824' to kill it.)"
      ]
     },
     "metadata": {},
     "output_type": "display_data"
    },
    {
     "data": {
      "text/html": [
       "\n",
       "      <iframe id=\"tensorboard-frame-482710e0371dbfae\" width=\"100%\" height=\"800\" frameborder=\"0\">\n",
       "      </iframe>\n",
       "      <script>\n",
       "        (function() {\n",
       "          const frame = document.getElementById(\"tensorboard-frame-482710e0371dbfae\");\n",
       "          const url = new URL(\"/\", window.location);\n",
       "          const port = 6006;\n",
       "          if (port) {\n",
       "            url.port = port;\n",
       "          }\n",
       "          frame.src = url;\n",
       "        })();\n",
       "      </script>\n",
       "    "
      ],
      "text/plain": [
       "<IPython.core.display.HTML object>"
      ]
     },
     "metadata": {},
     "output_type": "display_data"
    }
   ],
   "source": [
    "%load_ext tensorboard\n",
    "%tensorboard --logdir=./my_logs --port=6006\n"
   ]
  },
  {
   "cell_type": "markdown",
   "metadata": {},
   "source": [
    "###### Hyperparameter Tuning"
   ]
  },
  {
   "cell_type": "code",
   "execution_count": 178,
   "metadata": {},
   "outputs": [],
   "source": [
    "keras.backend.clear_session()\n",
    "np.random.seed(42)\n",
    "tf.random.set_seed(42)"
   ]
  },
  {
   "cell_type": "code",
   "execution_count": 185,
   "metadata": {},
   "outputs": [],
   "source": [
    "def build_model(n_hidden=1, n_neurons=30, learning_rate=3e-3, input_shape=[8]):\n",
    "    model11=keras.models.Sequential()\n",
    "    model11.add(keras.layers.InputLayer(input_shape=input_shape))\n",
    "    for layer in range(n_hidden):\n",
    "        model11.add(keras.layers.Dense(n_neurons, activation = 'relu'))\n",
    "    model11.add(keras.layers.Dense(1))\n",
    "    optimizer=keras.optimizers.SGD(lr=learning_rate)\n",
    "    model11.compile(loss='mse', optimizer=optimizer)\n",
    "    return model11"
   ]
  },
  {
   "cell_type": "code",
   "execution_count": 186,
   "metadata": {},
   "outputs": [],
   "source": [
    "keras_reg = keras.wrappers.scikit_learn.KerasRegressor(build_model)"
   ]
  },
  {
   "cell_type": "code",
   "execution_count": 187,
   "metadata": {},
   "outputs": [
    {
     "name": "stdout",
     "output_type": "stream",
     "text": [
      "Epoch 1/100\n",
      "363/363 [==============================] - 1s 1ms/step - loss: 1.0896 - val_loss: 20.7721\n",
      "Epoch 2/100\n",
      "363/363 [==============================] - 0s 984us/step - loss: 0.7606 - val_loss: 5.0266\n",
      "Epoch 3/100\n",
      "363/363 [==============================] - 0s 954us/step - loss: 0.5456 - val_loss: 0.5490\n",
      "Epoch 4/100\n",
      "363/363 [==============================] - 0s 910us/step - loss: 0.4732 - val_loss: 0.4529\n",
      "Epoch 5/100\n",
      "363/363 [==============================] - 0s 936us/step - loss: 0.4503 - val_loss: 0.4188\n",
      "Epoch 6/100\n",
      "363/363 [==============================] - 0s 1ms/step - loss: 0.4338 - val_loss: 0.4129\n",
      "Epoch 7/100\n",
      "363/363 [==============================] - 0s 1ms/step - loss: 0.4241 - val_loss: 0.4004\n",
      "Epoch 8/100\n",
      "363/363 [==============================] - 0s 1ms/step - loss: 0.4168 - val_loss: 0.3944\n",
      "Epoch 9/100\n",
      "363/363 [==============================] - 0s 1ms/step - loss: 0.4108 - val_loss: 0.3961\n",
      "Epoch 10/100\n",
      "363/363 [==============================] - 0s 842us/step - loss: 0.4060 - val_loss: 0.4071\n",
      "Epoch 11/100\n",
      "363/363 [==============================] - 0s 731us/step - loss: 0.4021 - val_loss: 0.3855\n",
      "Epoch 12/100\n",
      "363/363 [==============================] - 0s 882us/step - loss: 0.3984 - val_loss: 0.4136\n",
      "Epoch 13/100\n",
      "363/363 [==============================] - 0s 970us/step - loss: 0.3951 - val_loss: 0.3997\n",
      "Epoch 14/100\n",
      "363/363 [==============================] - 0s 860us/step - loss: 0.3921 - val_loss: 0.3818\n",
      "Epoch 15/100\n",
      "363/363 [==============================] - 0s 804us/step - loss: 0.3894 - val_loss: 0.3829\n",
      "Epoch 16/100\n",
      "363/363 [==============================] - 0s 930us/step - loss: 0.3869 - val_loss: 0.3739\n",
      "Epoch 17/100\n",
      "363/363 [==============================] - 0s 743us/step - loss: 0.3848 - val_loss: 0.4022\n",
      "Epoch 18/100\n",
      "363/363 [==============================] - 0s 719us/step - loss: 0.3829 - val_loss: 0.3873\n",
      "Epoch 19/100\n",
      "363/363 [==============================] - 0s 862us/step - loss: 0.3807 - val_loss: 0.3768\n",
      "Epoch 20/100\n",
      "363/363 [==============================] - 0s 729us/step - loss: 0.3791 - val_loss: 0.4191\n",
      "Epoch 21/100\n",
      "363/363 [==============================] - 0s 731us/step - loss: 0.3774 - val_loss: 0.3927\n",
      "Epoch 22/100\n",
      "363/363 [==============================] - 0s 757us/step - loss: 0.3756 - val_loss: 0.4237\n",
      "Epoch 23/100\n",
      "363/363 [==============================] - 0s 753us/step - loss: 0.3742 - val_loss: 0.3523\n",
      "Epoch 24/100\n",
      "363/363 [==============================] - 0s 770us/step - loss: 0.3725 - val_loss: 0.3842\n",
      "Epoch 25/100\n",
      "363/363 [==============================] - 0s 755us/step - loss: 0.3710 - val_loss: 0.4162\n",
      "Epoch 26/100\n",
      "363/363 [==============================] - 0s 725us/step - loss: 0.3700 - val_loss: 0.3980\n",
      "Epoch 27/100\n",
      "363/363 [==============================] - 0s 729us/step - loss: 0.3691 - val_loss: 0.3473\n",
      "Epoch 28/100\n",
      "363/363 [==============================] - 0s 760us/step - loss: 0.3677 - val_loss: 0.3921\n",
      "Epoch 29/100\n",
      "363/363 [==============================] - 0s 782us/step - loss: 0.3670 - val_loss: 0.3566\n",
      "Epoch 30/100\n",
      "363/363 [==============================] - 0s 800us/step - loss: 0.3653 - val_loss: 0.4191\n",
      "Epoch 31/100\n",
      "363/363 [==============================] - 0s 875us/step - loss: 0.3647 - val_loss: 0.3722\n",
      "Epoch 32/100\n",
      "363/363 [==============================] - 0s 772us/step - loss: 0.3633 - val_loss: 0.3948\n",
      "Epoch 33/100\n",
      "363/363 [==============================] - 0s 842us/step - loss: 0.3632 - val_loss: 0.3423\n",
      "Epoch 34/100\n",
      "363/363 [==============================] - 0s 741us/step - loss: 0.3617 - val_loss: 0.3454\n",
      "Epoch 35/100\n",
      "363/363 [==============================] - 0s 730us/step - loss: 0.3610 - val_loss: 0.4068\n",
      "Epoch 36/100\n",
      "363/363 [==============================] - 0s 771us/step - loss: 0.3608 - val_loss: 0.3417\n",
      "Epoch 37/100\n",
      "363/363 [==============================] - 0s 741us/step - loss: 0.3596 - val_loss: 0.3787\n",
      "Epoch 38/100\n",
      "363/363 [==============================] - 0s 768us/step - loss: 0.3589 - val_loss: 0.3379\n",
      "Epoch 39/100\n",
      "363/363 [==============================] - 0s 732us/step - loss: 0.3582 - val_loss: 0.3419\n",
      "Epoch 40/100\n",
      "363/363 [==============================] - 0s 780us/step - loss: 0.3572 - val_loss: 0.3705\n",
      "Epoch 41/100\n",
      "363/363 [==============================] - 0s 740us/step - loss: 0.3570 - val_loss: 0.3660\n",
      "Epoch 42/100\n",
      "363/363 [==============================] - 0s 724us/step - loss: 0.3563 - val_loss: 0.3803\n",
      "Epoch 43/100\n",
      "363/363 [==============================] - 0s 761us/step - loss: 0.3552 - val_loss: 0.3766\n",
      "Epoch 44/100\n",
      "363/363 [==============================] - 0s 814us/step - loss: 0.3548 - val_loss: 0.3814\n",
      "Epoch 45/100\n",
      "363/363 [==============================] - 0s 736us/step - loss: 0.3543 - val_loss: 0.3326\n",
      "Epoch 46/100\n",
      "363/363 [==============================] - 0s 739us/step - loss: 0.3532 - val_loss: 0.3385\n",
      "Epoch 47/100\n",
      "363/363 [==============================] - 0s 981us/step - loss: 0.3527 - val_loss: 0.3657\n",
      "Epoch 48/100\n",
      "363/363 [==============================] - 0s 820us/step - loss: 0.3521 - val_loss: 0.3576\n",
      "Epoch 49/100\n",
      "363/363 [==============================] - 0s 730us/step - loss: 0.3525 - val_loss: 0.3358\n",
      "Epoch 50/100\n",
      "363/363 [==============================] - 0s 724us/step - loss: 0.3510 - val_loss: 0.3317\n",
      "Epoch 51/100\n",
      "363/363 [==============================] - 0s 763us/step - loss: 0.3504 - val_loss: 0.3564\n",
      "Epoch 52/100\n",
      "363/363 [==============================] - 0s 733us/step - loss: 0.3502 - val_loss: 0.3522\n",
      "Epoch 53/100\n",
      "363/363 [==============================] - 0s 741us/step - loss: 0.3496 - val_loss: 0.4581\n",
      "Epoch 54/100\n",
      "363/363 [==============================] - 0s 711us/step - loss: 0.3497 - val_loss: 0.3808\n",
      "Epoch 55/100\n",
      "363/363 [==============================] - 0s 701us/step - loss: 0.3490 - val_loss: 0.3539\n",
      "Epoch 56/100\n",
      "363/363 [==============================] - 0s 721us/step - loss: 0.3485 - val_loss: 0.3721\n",
      "Epoch 57/100\n",
      "363/363 [==============================] - 0s 699us/step - loss: 0.3479 - val_loss: 0.3336\n",
      "Epoch 58/100\n",
      "363/363 [==============================] - 0s 703us/step - loss: 0.3470 - val_loss: 0.4011\n",
      "Epoch 59/100\n",
      "363/363 [==============================] - 0s 781us/step - loss: 0.3475 - val_loss: 0.3263\n",
      "Epoch 60/100\n",
      "363/363 [==============================] - 0s 728us/step - loss: 0.3465 - val_loss: 0.3271\n",
      "Epoch 61/100\n",
      "363/363 [==============================] - 0s 707us/step - loss: 0.3452 - val_loss: 0.3348\n",
      "Epoch 62/100\n",
      "363/363 [==============================] - 0s 710us/step - loss: 0.3453 - val_loss: 0.3492\n",
      "Epoch 63/100\n",
      "363/363 [==============================] - 0s 731us/step - loss: 0.3444 - val_loss: 0.3401\n",
      "Epoch 64/100\n",
      "363/363 [==============================] - 0s 711us/step - loss: 0.3450 - val_loss: 0.3274\n",
      "Epoch 65/100\n",
      "363/363 [==============================] - 0s 707us/step - loss: 0.3437 - val_loss: 0.3296\n",
      "Epoch 66/100\n",
      "363/363 [==============================] - 0s 702us/step - loss: 0.3431 - val_loss: 0.3307\n",
      "Epoch 67/100\n",
      "363/363 [==============================] - 0s 743us/step - loss: 0.3428 - val_loss: 0.3252\n",
      "Epoch 68/100\n",
      "363/363 [==============================] - 0s 726us/step - loss: 0.3423 - val_loss: 0.3242\n",
      "Epoch 69/100\n",
      "363/363 [==============================] - 0s 728us/step - loss: 0.3419 - val_loss: 0.3254\n",
      "Epoch 70/100\n",
      "363/363 [==============================] - 0s 738us/step - loss: 0.3413 - val_loss: 0.3659\n",
      "Epoch 71/100\n",
      "363/363 [==============================] - 0s 713us/step - loss: 0.3414 - val_loss: 0.3379\n",
      "Epoch 72/100\n",
      "363/363 [==============================] - 0s 726us/step - loss: 0.3405 - val_loss: 0.3272\n",
      "Epoch 73/100\n",
      "363/363 [==============================] - 0s 713us/step - loss: 0.3399 - val_loss: 0.3242\n",
      "Epoch 74/100\n",
      "363/363 [==============================] - 0s 713us/step - loss: 0.3402 - val_loss: 0.3661\n",
      "Epoch 75/100\n",
      "363/363 [==============================] - 0s 745us/step - loss: 0.3397 - val_loss: 0.3284\n",
      "Epoch 76/100\n",
      "363/363 [==============================] - 0s 704us/step - loss: 0.3394 - val_loss: 0.3243\n",
      "Epoch 77/100\n",
      "363/363 [==============================] - 0s 751us/step - loss: 0.3383 - val_loss: 0.3372\n",
      "Epoch 78/100\n",
      "363/363 [==============================] - 0s 731us/step - loss: 0.3384 - val_loss: 0.3366\n"
     ]
    },
    {
     "data": {
      "text/plain": [
       "<tensorflow.python.keras.callbacks.History at 0x27e5e2b4b48>"
      ]
     },
     "execution_count": 187,
     "metadata": {},
     "output_type": "execute_result"
    }
   ],
   "source": [
    "keras_reg.fit(X_train, y_train, epochs=100,\n",
    "              validation_data=(X_valid, y_valid),\n",
    "              callbacks=[keras.callbacks.EarlyStopping(patience=10)])"
   ]
  },
  {
   "cell_type": "code",
   "execution_count": 188,
   "metadata": {},
   "outputs": [
    {
     "name": "stdout",
     "output_type": "stream",
     "text": [
      "162/162 [==============================] - 0s 607us/step - loss: 0.3412\n"
     ]
    }
   ],
   "source": [
    "mse_test = keras_reg.score(X_test, y_test)"
   ]
  },
  {
   "cell_type": "code",
   "execution_count": 189,
   "metadata": {},
   "outputs": [],
   "source": [
    "y_pred11 = keras_reg.predict(X_new)"
   ]
  },
  {
   "cell_type": "code",
   "execution_count": 190,
   "metadata": {},
   "outputs": [
    {
     "data": {
      "text/plain": [
       "array([0.6514432, 1.6107497, 4.071351 ], dtype=float32)"
      ]
     },
     "execution_count": 190,
     "metadata": {},
     "output_type": "execute_result"
    }
   ],
   "source": [
    "y_pred11"
   ]
  },
  {
   "cell_type": "code",
   "execution_count": 192,
   "metadata": {},
   "outputs": [
    {
     "name": "stdout",
     "output_type": "stream",
     "text": [
      "Fitting 3 folds for each of 10 candidates, totalling 30 fits\n",
      "[CV] n_neurons=65, n_hidden=1, learning_rate=0.003895510903619824 ....\n"
     ]
    },
    {
     "name": "stderr",
     "output_type": "stream",
     "text": [
      "[Parallel(n_jobs=1)]: Using backend SequentialBackend with 1 concurrent workers.\n"
     ]
    },
    {
     "name": "stdout",
     "output_type": "stream",
     "text": [
      "Epoch 1/100\n",
      "242/242 [==============================] - 1s 1ms/step - loss: 1.2461 - val_loss: 25.5377\n",
      "Epoch 2/100\n",
      "242/242 [==============================] - 0s 1ms/step - loss: 0.9726 - val_loss: 13.1148\n",
      "Epoch 3/100\n",
      "242/242 [==============================] - 0s 1ms/step - loss: 0.7037 - val_loss: 0.5489\n",
      "Epoch 4/100\n",
      "242/242 [==============================] - 0s 991us/step - loss: 0.5162 - val_loss: 0.4882\n",
      "Epoch 5/100\n",
      "242/242 [==============================] - 0s 964us/step - loss: 0.4824 - val_loss: 0.4596\n",
      "Epoch 6/100\n",
      "242/242 [==============================] - 0s 973us/step - loss: 0.4589 - val_loss: 0.4391\n",
      "Epoch 7/100\n",
      "242/242 [==============================] - 0s 1ms/step - loss: 0.4435 - val_loss: 0.4181\n",
      "Epoch 8/100\n",
      "242/242 [==============================] - 0s 1ms/step - loss: 0.4329 - val_loss: 0.4129\n",
      "Epoch 9/100\n",
      "242/242 [==============================] - 0s 992us/step - loss: 0.4248 - val_loss: 0.4074\n",
      "Epoch 10/100\n",
      "242/242 [==============================] - 0s 1ms/step - loss: 0.4187 - val_loss: 0.3999\n",
      "Epoch 11/100\n",
      "242/242 [==============================] - 0s 1ms/step - loss: 0.4130 - val_loss: 0.3996\n",
      "Epoch 12/100\n",
      "242/242 [==============================] - 0s 1ms/step - loss: 0.4082 - val_loss: 0.3969\n",
      "Epoch 13/100\n",
      "242/242 [==============================] - 0s 1ms/step - loss: 0.4034 - val_loss: 0.3931\n",
      "Epoch 14/100\n",
      "242/242 [==============================] - 0s 1ms/step - loss: 0.4011 - val_loss: 0.3975\n",
      "Epoch 15/100\n",
      "242/242 [==============================] - 0s 1ms/step - loss: 0.3964 - val_loss: 0.3952\n",
      "Epoch 16/100\n",
      "242/242 [==============================] - 0s 1ms/step - loss: 0.3941 - val_loss: 0.3975\n",
      "Epoch 17/100\n",
      "242/242 [==============================] - 0s 1ms/step - loss: 0.3907 - val_loss: 0.4004\n",
      "Epoch 18/100\n",
      "242/242 [==============================] - 0s 1ms/step - loss: 0.3881 - val_loss: 0.3976\n",
      "Epoch 19/100\n",
      "242/242 [==============================] - 0s 1ms/step - loss: 0.3853 - val_loss: 0.4025\n",
      "Epoch 20/100\n",
      "242/242 [==============================] - 0s 1ms/step - loss: 0.3835 - val_loss: 0.3999\n",
      "Epoch 21/100\n",
      "242/242 [==============================] - 0s 1ms/step - loss: 0.3829 - val_loss: 0.4062\n",
      "Epoch 22/100\n",
      "242/242 [==============================] - 0s 996us/step - loss: 0.3790 - val_loss: 0.4023\n",
      "Epoch 23/100\n",
      "242/242 [==============================] - 0s 1ms/step - loss: 0.3780 - val_loss: 0.4212\n",
      "121/121 [==============================] - 0s 760us/step - loss: 0.4314\n",
      "[CV]  n_neurons=65, n_hidden=1, learning_rate=0.003895510903619824, total=   6.8s\n",
      "[CV] n_neurons=65, n_hidden=1, learning_rate=0.003895510903619824 ....\n",
      "Epoch 1/100\n"
     ]
    },
    {
     "name": "stderr",
     "output_type": "stream",
     "text": [
      "[Parallel(n_jobs=1)]: Done   1 out of   1 | elapsed:    6.7s remaining:    0.0s\n"
     ]
    },
    {
     "name": "stdout",
     "output_type": "stream",
     "text": [
      "242/242 [==============================] - 1s 2ms/step - loss: 1.1794 - val_loss: 9.5229\n",
      "Epoch 2/100\n",
      "242/242 [==============================] - 0s 1ms/step - loss: 0.6620 - val_loss: 2.3591\n",
      "Epoch 3/100\n",
      "242/242 [==============================] - 0s 1ms/step - loss: 0.5693 - val_loss: 0.7709\n",
      "Epoch 4/100\n",
      "242/242 [==============================] - 0s 1ms/step - loss: 0.5147 - val_loss: 0.4715\n",
      "Epoch 5/100\n",
      "242/242 [==============================] - 0s 1ms/step - loss: 0.4792 - val_loss: 0.4835\n",
      "Epoch 6/100\n",
      "242/242 [==============================] - 0s 1ms/step - loss: 0.4578 - val_loss: 0.4720\n",
      "Epoch 7/100\n",
      "242/242 [==============================] - 0s 1ms/step - loss: 0.4426 - val_loss: 0.4380\n",
      "Epoch 8/100\n",
      "242/242 [==============================] - 0s 984us/step - loss: 0.4302 - val_loss: 0.4098\n",
      "Epoch 9/100\n",
      "242/242 [==============================] - 0s 1ms/step - loss: 0.4202 - val_loss: 0.3986\n",
      "Epoch 10/100\n",
      "242/242 [==============================] - 0s 1ms/step - loss: 0.4139 - val_loss: 0.4030\n",
      "Epoch 11/100\n",
      "242/242 [==============================] - 0s 1ms/step - loss: 0.4070 - val_loss: 0.4225\n",
      "Epoch 12/100\n",
      "242/242 [==============================] - 0s 809us/step - loss: 0.4014 - val_loss: 0.4506\n",
      "Epoch 13/100\n",
      "242/242 [==============================] - 0s 779us/step - loss: 0.3976 - val_loss: 0.4857\n",
      "Epoch 14/100\n",
      "242/242 [==============================] - 0s 983us/step - loss: 0.3942 - val_loss: 0.5767\n",
      "Epoch 15/100\n",
      "242/242 [==============================] - 0s 926us/step - loss: 0.3906 - val_loss: 0.5785\n",
      "Epoch 16/100\n",
      "242/242 [==============================] - 0s 792us/step - loss: 0.3874 - val_loss: 0.6511\n",
      "Epoch 17/100\n",
      "242/242 [==============================] - 0s 761us/step - loss: 0.3847 - val_loss: 0.6549\n",
      "Epoch 18/100\n",
      "242/242 [==============================] - 0s 864us/step - loss: 0.3829 - val_loss: 0.6852\n",
      "Epoch 19/100\n",
      "242/242 [==============================] - 0s 895us/step - loss: 0.3799 - val_loss: 0.7014\n",
      "121/121 [==============================] - 0s 630us/step - loss: 0.3915\n",
      "[CV]  n_neurons=65, n_hidden=1, learning_rate=0.003895510903619824, total=   5.3s\n",
      "[CV] n_neurons=65, n_hidden=1, learning_rate=0.003895510903619824 ....\n",
      "Epoch 1/100\n",
      "242/242 [==============================] - 1s 1ms/step - loss: 1.1183 - val_loss: 15.9286\n",
      "Epoch 2/100\n",
      "242/242 [==============================] - 0s 812us/step - loss: 0.7086 - val_loss: 17.5191\n",
      "Epoch 3/100\n",
      "242/242 [==============================] - 0s 817us/step - loss: 0.6310 - val_loss: 2.2691\n",
      "Epoch 4/100\n",
      "242/242 [==============================] - 0s 889us/step - loss: 0.4911 - val_loss: 0.4247\n",
      "Epoch 5/100\n",
      "242/242 [==============================] - 0s 861us/step - loss: 0.4464 - val_loss: 0.4243\n",
      "Epoch 6/100\n",
      "242/242 [==============================] - 0s 887us/step - loss: 0.4338 - val_loss: 0.4325\n",
      "Epoch 7/100\n",
      "242/242 [==============================] - 0s 782us/step - loss: 0.4259 - val_loss: 0.4308\n",
      "Epoch 8/100\n",
      "242/242 [==============================] - 0s 839us/step - loss: 0.4196 - val_loss: 0.4107\n",
      "Epoch 9/100\n",
      "242/242 [==============================] - 0s 840us/step - loss: 0.4138 - val_loss: 0.4454\n",
      "Epoch 10/100\n",
      "242/242 [==============================] - 0s 841us/step - loss: 0.4117 - val_loss: 0.4138\n",
      "Epoch 11/100\n",
      "242/242 [==============================] - 0s 817us/step - loss: 0.4054 - val_loss: 0.4686\n",
      "Epoch 12/100\n",
      "242/242 [==============================] - 0s 823us/step - loss: 0.4020 - val_loss: 0.4281\n",
      "Epoch 13/100\n",
      "242/242 [==============================] - 0s 808us/step - loss: 0.3986 - val_loss: 0.4010\n",
      "Epoch 14/100\n",
      "242/242 [==============================] - 0s 828us/step - loss: 0.3959 - val_loss: 0.4558\n",
      "Epoch 15/100\n",
      "242/242 [==============================] - 0s 819us/step - loss: 0.3932 - val_loss: 0.4079\n",
      "Epoch 16/100\n",
      "242/242 [==============================] - 0s 751us/step - loss: 0.3900 - val_loss: 0.4481\n",
      "Epoch 17/100\n",
      "242/242 [==============================] - 0s 811us/step - loss: 0.3882 - val_loss: 0.3933\n",
      "Epoch 18/100\n",
      "242/242 [==============================] - 0s 788us/step - loss: 0.3862 - val_loss: 0.3994\n",
      "Epoch 19/100\n",
      "242/242 [==============================] - 0s 827us/step - loss: 0.3844 - val_loss: 0.4378\n",
      "Epoch 20/100\n",
      "242/242 [==============================] - 0s 807us/step - loss: 0.3825 - val_loss: 0.4137\n",
      "Epoch 21/100\n",
      "242/242 [==============================] - 0s 828us/step - loss: 0.3819 - val_loss: 0.4154\n",
      "Epoch 22/100\n",
      "242/242 [==============================] - 0s 807us/step - loss: 0.3800 - val_loss: 0.3944\n",
      "Epoch 23/100\n",
      "242/242 [==============================] - 0s 803us/step - loss: 0.3782 - val_loss: 0.3868\n",
      "Epoch 24/100\n",
      "242/242 [==============================] - 0s 793us/step - loss: 0.3770 - val_loss: 0.4278\n",
      "Epoch 25/100\n",
      "242/242 [==============================] - 0s 773us/step - loss: 0.3762 - val_loss: 0.3724\n",
      "Epoch 26/100\n",
      "242/242 [==============================] - 0s 829us/step - loss: 0.3741 - val_loss: 0.3727\n",
      "Epoch 27/100\n",
      "242/242 [==============================] - 0s 781us/step - loss: 0.3729 - val_loss: 0.4420\n",
      "Epoch 28/100\n",
      "242/242 [==============================] - 0s 825us/step - loss: 0.3719 - val_loss: 0.3764\n",
      "Epoch 29/100\n",
      "242/242 [==============================] - 0s 814us/step - loss: 0.3733 - val_loss: 0.4619\n",
      "Epoch 30/100\n",
      "242/242 [==============================] - 0s 800us/step - loss: 0.3712 - val_loss: 0.4064\n",
      "Epoch 31/100\n",
      "242/242 [==============================] - 0s 764us/step - loss: 0.3687 - val_loss: 0.3835\n",
      "Epoch 32/100\n",
      "242/242 [==============================] - 0s 775us/step - loss: 0.3670 - val_loss: 0.4716\n",
      "Epoch 33/100\n",
      "242/242 [==============================] - 0s 826us/step - loss: 0.3669 - val_loss: 0.4336\n",
      "Epoch 34/100\n",
      "242/242 [==============================] - 0s 800us/step - loss: 0.3653 - val_loss: 0.4345\n",
      "Epoch 35/100\n",
      "242/242 [==============================] - 0s 788us/step - loss: 0.3652 - val_loss: 0.3666\n",
      "Epoch 36/100\n",
      "242/242 [==============================] - 0s 782us/step - loss: 0.3632 - val_loss: 0.4161\n",
      "Epoch 37/100\n",
      "242/242 [==============================] - 0s 800us/step - loss: 0.3631 - val_loss: 0.3425\n",
      "Epoch 38/100\n",
      "242/242 [==============================] - 0s 774us/step - loss: 0.3621 - val_loss: 0.4737\n",
      "Epoch 39/100\n",
      "242/242 [==============================] - 0s 776us/step - loss: 0.3616 - val_loss: 0.3445\n",
      "Epoch 40/100\n",
      "242/242 [==============================] - 0s 801us/step - loss: 0.3601 - val_loss: 0.4196\n",
      "Epoch 41/100\n",
      "242/242 [==============================] - 0s 793us/step - loss: 0.3592 - val_loss: 0.3980\n",
      "Epoch 42/100\n",
      "242/242 [==============================] - 0s 819us/step - loss: 0.3587 - val_loss: 0.4375\n",
      "Epoch 43/100\n",
      "242/242 [==============================] - 0s 711us/step - loss: 0.3585 - val_loss: 0.3364\n",
      "Epoch 44/100\n",
      "242/242 [==============================] - 0s 783us/step - loss: 0.3571 - val_loss: 0.4302\n",
      "Epoch 45/100\n",
      "242/242 [==============================] - 0s 828us/step - loss: 0.3572 - val_loss: 0.3515\n",
      "Epoch 46/100\n",
      "242/242 [==============================] - 0s 808us/step - loss: 0.3557 - val_loss: 0.4703\n",
      "Epoch 47/100\n",
      "242/242 [==============================] - 0s 870us/step - loss: 0.3547 - val_loss: 0.3497\n",
      "Epoch 48/100\n",
      "242/242 [==============================] - 0s 747us/step - loss: 0.3549 - val_loss: 0.3600\n",
      "Epoch 49/100\n",
      "242/242 [==============================] - 0s 842us/step - loss: 0.3530 - val_loss: 0.4449\n",
      "Epoch 50/100\n",
      "242/242 [==============================] - 0s 807us/step - loss: 0.3526 - val_loss: 0.3743\n",
      "Epoch 51/100\n",
      "242/242 [==============================] - 0s 816us/step - loss: 0.3516 - val_loss: 0.4340\n",
      "Epoch 52/100\n",
      "242/242 [==============================] - 0s 830us/step - loss: 0.3519 - val_loss: 0.3780\n",
      "Epoch 53/100\n",
      "242/242 [==============================] - 0s 818us/step - loss: 0.3511 - val_loss: 0.3299\n",
      "Epoch 54/100\n",
      "242/242 [==============================] - 0s 788us/step - loss: 0.3500 - val_loss: 0.3395\n",
      "Epoch 55/100\n",
      "242/242 [==============================] - 0s 823us/step - loss: 0.3508 - val_loss: 0.3363\n",
      "Epoch 56/100\n",
      "242/242 [==============================] - 0s 837us/step - loss: 0.3481 - val_loss: 0.4165\n",
      "Epoch 57/100\n",
      "242/242 [==============================] - 0s 813us/step - loss: 0.3491 - val_loss: 0.3720\n",
      "Epoch 58/100\n",
      "242/242 [==============================] - 0s 848us/step - loss: 0.3481 - val_loss: 0.3491\n",
      "Epoch 59/100\n"
     ]
    },
    {
     "name": "stdout",
     "output_type": "stream",
     "text": [
      "242/242 [==============================] - 0s 818us/step - loss: 0.3462 - val_loss: 0.3852\n",
      "Epoch 60/100\n",
      "242/242 [==============================] - 0s 806us/step - loss: 0.3491 - val_loss: 0.3380\n",
      "Epoch 61/100\n",
      "242/242 [==============================] - 0s 826us/step - loss: 0.3465 - val_loss: 0.3955\n",
      "Epoch 62/100\n",
      "242/242 [==============================] - 0s 807us/step - loss: 0.3446 - val_loss: 0.3443\n",
      "Epoch 63/100\n",
      "242/242 [==============================] - 0s 830us/step - loss: 0.3445 - val_loss: 0.3244\n",
      "Epoch 64/100\n",
      "242/242 [==============================] - 0s 841us/step - loss: 0.3465 - val_loss: 0.3598\n",
      "Epoch 65/100\n",
      "242/242 [==============================] - 0s 802us/step - loss: 0.3443 - val_loss: 0.3527\n",
      "Epoch 66/100\n",
      "242/242 [==============================] - 0s 820us/step - loss: 0.3432 - val_loss: 0.5167\n",
      "Epoch 67/100\n",
      "242/242 [==============================] - 0s 816us/step - loss: 0.3449 - val_loss: 0.4255\n",
      "Epoch 68/100\n",
      "242/242 [==============================] - 0s 768us/step - loss: 0.3438 - val_loss: 0.5738\n",
      "Epoch 69/100\n",
      "242/242 [==============================] - 0s 821us/step - loss: 0.3432 - val_loss: 0.4092\n",
      "Epoch 70/100\n",
      "242/242 [==============================] - 0s 789us/step - loss: 0.3416 - val_loss: 0.5227\n",
      "Epoch 71/100\n",
      "242/242 [==============================] - 0s 824us/step - loss: 0.3427 - val_loss: 0.3623\n",
      "Epoch 72/100\n",
      "242/242 [==============================] - 0s 794us/step - loss: 0.3415 - val_loss: 0.3885\n",
      "Epoch 73/100\n",
      "242/242 [==============================] - 0s 890us/step - loss: 0.3428 - val_loss: 0.3479\n",
      "121/121 [==============================] - 0s 580us/step - loss: 0.3402\n",
      "[CV]  n_neurons=65, n_hidden=1, learning_rate=0.003895510903619824, total=  15.4s\n",
      "[CV] n_neurons=82, n_hidden=2, learning_rate=0.0009105229973597177 ...\n",
      "Epoch 1/100\n",
      "242/242 [==============================] - 0s 1ms/step - loss: 2.3145 - val_loss: 0.9786\n",
      "Epoch 2/100\n",
      "242/242 [==============================] - 0s 927us/step - loss: 0.8036 - val_loss: 0.6750\n",
      "Epoch 3/100\n",
      "242/242 [==============================] - 0s 826us/step - loss: 0.6525 - val_loss: 0.6050\n",
      "Epoch 4/100\n",
      "242/242 [==============================] - 0s 845us/step - loss: 0.6064 - val_loss: 0.5635\n",
      "Epoch 5/100\n",
      "242/242 [==============================] - 0s 874us/step - loss: 0.5756 - val_loss: 0.5346\n",
      "Epoch 6/100\n",
      "242/242 [==============================] - 0s 864us/step - loss: 0.5505 - val_loss: 0.5101\n",
      "Epoch 7/100\n",
      "242/242 [==============================] - 0s 837us/step - loss: 0.5291 - val_loss: 0.4907\n",
      "Epoch 8/100\n",
      "242/242 [==============================] - 0s 861us/step - loss: 0.5108 - val_loss: 0.4763\n",
      "Epoch 9/100\n",
      "242/242 [==============================] - 0s 892us/step - loss: 0.4946 - val_loss: 0.4728\n",
      "Epoch 10/100\n",
      "242/242 [==============================] - 0s 838us/step - loss: 0.4805 - val_loss: 0.4460\n",
      "Epoch 11/100\n",
      "242/242 [==============================] - 0s 950us/step - loss: 0.4684 - val_loss: 0.4345\n",
      "Epoch 12/100\n",
      "242/242 [==============================] - 0s 872us/step - loss: 0.4580 - val_loss: 0.4341\n",
      "Epoch 13/100\n",
      "242/242 [==============================] - 0s 924us/step - loss: 0.4485 - val_loss: 0.4168\n",
      "Epoch 14/100\n",
      "242/242 [==============================] - 0s 873us/step - loss: 0.4404 - val_loss: 0.4196\n",
      "Epoch 15/100\n",
      "242/242 [==============================] - 0s 875us/step - loss: 0.4333 - val_loss: 0.4156\n",
      "Epoch 16/100\n",
      "242/242 [==============================] - 0s 928us/step - loss: 0.4267 - val_loss: 0.4021\n",
      "Epoch 17/100\n",
      "242/242 [==============================] - 0s 847us/step - loss: 0.4211 - val_loss: 0.4038\n",
      "Epoch 18/100\n",
      "242/242 [==============================] - 0s 838us/step - loss: 0.4159 - val_loss: 0.3933\n",
      "Epoch 19/100\n",
      "242/242 [==============================] - 0s 896us/step - loss: 0.4109 - val_loss: 0.4053\n",
      "Epoch 20/100\n",
      "242/242 [==============================] - 0s 904us/step - loss: 0.4069 - val_loss: 0.3860\n",
      "Epoch 21/100\n",
      "242/242 [==============================] - 0s 951us/step - loss: 0.4028 - val_loss: 0.4030\n",
      "Epoch 22/100\n",
      "242/242 [==============================] - 0s 856us/step - loss: 0.3992 - val_loss: 0.3828\n",
      "Epoch 23/100\n",
      "242/242 [==============================] - 0s 865us/step - loss: 0.3958 - val_loss: 0.3803\n",
      "Epoch 24/100\n",
      "242/242 [==============================] - 0s 897us/step - loss: 0.3926 - val_loss: 0.3712\n",
      "Epoch 25/100\n",
      "242/242 [==============================] - 0s 882us/step - loss: 0.3899 - val_loss: 0.3868\n",
      "Epoch 26/100\n",
      "242/242 [==============================] - 0s 863us/step - loss: 0.3873 - val_loss: 0.3723\n",
      "Epoch 27/100\n",
      "242/242 [==============================] - 0s 866us/step - loss: 0.3849 - val_loss: 0.3769\n",
      "Epoch 28/100\n",
      "242/242 [==============================] - 0s 852us/step - loss: 0.3826 - val_loss: 0.3827\n",
      "Epoch 29/100\n",
      "242/242 [==============================] - 0s 896us/step - loss: 0.3800 - val_loss: 0.3816\n",
      "Epoch 30/100\n",
      "242/242 [==============================] - 0s 968us/step - loss: 0.3783 - val_loss: 0.3642\n",
      "Epoch 31/100\n",
      "242/242 [==============================] - 0s 839us/step - loss: 0.3762 - val_loss: 0.3598\n",
      "Epoch 32/100\n",
      "242/242 [==============================] - 0s 844us/step - loss: 0.3744 - val_loss: 0.3583\n",
      "Epoch 33/100\n",
      "242/242 [==============================] - 0s 857us/step - loss: 0.3725 - val_loss: 0.3747\n",
      "Epoch 34/100\n",
      "242/242 [==============================] - 0s 885us/step - loss: 0.3708 - val_loss: 0.3616\n",
      "Epoch 35/100\n",
      "242/242 [==============================] - 0s 877us/step - loss: 0.3693 - val_loss: 0.3522\n",
      "Epoch 36/100\n",
      "242/242 [==============================] - 0s 839us/step - loss: 0.3676 - val_loss: 0.3824\n",
      "Epoch 37/100\n",
      "242/242 [==============================] - 0s 845us/step - loss: 0.3664 - val_loss: 0.3498\n",
      "Epoch 38/100\n",
      "242/242 [==============================] - 0s 889us/step - loss: 0.3650 - val_loss: 0.3910\n",
      "Epoch 39/100\n",
      "242/242 [==============================] - 0s 943us/step - loss: 0.3637 - val_loss: 0.3474\n",
      "Epoch 40/100\n",
      "242/242 [==============================] - 0s 838us/step - loss: 0.3624 - val_loss: 0.3826\n",
      "Epoch 41/100\n",
      "242/242 [==============================] - 0s 780us/step - loss: 0.3613 - val_loss: 0.3539\n",
      "Epoch 42/100\n",
      "242/242 [==============================] - 0s 835us/step - loss: 0.3599 - val_loss: 0.3504\n",
      "Epoch 43/100\n",
      "242/242 [==============================] - 0s 1ms/step - loss: 0.3591 - val_loss: 0.3474\n",
      "Epoch 44/100\n",
      "242/242 [==============================] - 0s 986us/step - loss: 0.3578 - val_loss: 0.3766\n",
      "Epoch 45/100\n",
      "242/242 [==============================] - 0s 880us/step - loss: 0.3573 - val_loss: 0.3515\n",
      "Epoch 46/100\n",
      "242/242 [==============================] - 0s 835us/step - loss: 0.3560 - val_loss: 0.3610\n",
      "Epoch 47/100\n",
      "242/242 [==============================] - 0s 875us/step - loss: 0.3553 - val_loss: 0.3637\n",
      "Epoch 48/100\n",
      "242/242 [==============================] - 0s 901us/step - loss: 0.3544 - val_loss: 0.3496\n",
      "Epoch 49/100\n",
      "242/242 [==============================] - 0s 890us/step - loss: 0.3534 - val_loss: 0.3496\n",
      "121/121 [==============================] - 0s 598us/step - loss: 0.3692\n",
      "[CV]  n_neurons=82, n_hidden=2, learning_rate=0.0009105229973597177, total=  11.0s\n",
      "[CV] n_neurons=82, n_hidden=2, learning_rate=0.0009105229973597177 ...\n",
      "Epoch 1/100\n",
      "242/242 [==============================] - 0s 1ms/step - loss: 2.6913 - val_loss: 14.6810\n",
      "Epoch 2/100\n",
      "242/242 [==============================] - 0s 887us/step - loss: 1.1288 - val_loss: 13.0612\n",
      "Epoch 3/100\n",
      "242/242 [==============================] - 0s 900us/step - loss: 0.8345 - val_loss: 9.5266\n",
      "Epoch 4/100\n",
      "242/242 [==============================] - 0s 865us/step - loss: 0.7148 - val_loss: 6.1303\n",
      "Epoch 5/100\n",
      "242/242 [==============================] - 0s 876us/step - loss: 0.6479 - val_loss: 4.0720\n",
      "Epoch 6/100\n",
      "242/242 [==============================] - 0s 915us/step - loss: 0.6013 - val_loss: 2.7007\n",
      "Epoch 7/100\n",
      "242/242 [==============================] - 0s 907us/step - loss: 0.5657 - val_loss: 1.7312\n",
      "Epoch 8/100\n",
      "242/242 [==============================] - 0s 868us/step - loss: 0.5379 - val_loss: 1.0820\n",
      "Epoch 9/100\n",
      "242/242 [==============================] - 0s 868us/step - loss: 0.5151 - val_loss: 0.8000\n",
      "Epoch 10/100\n",
      "242/242 [==============================] - 0s 966us/step - loss: 0.4969 - val_loss: 0.5842\n",
      "Epoch 11/100\n",
      "242/242 [==============================] - 0s 946us/step - loss: 0.4815 - val_loss: 0.4959\n"
     ]
    },
    {
     "name": "stdout",
     "output_type": "stream",
     "text": [
      "Epoch 12/100\n",
      "242/242 [==============================] - 0s 885us/step - loss: 0.4687 - val_loss: 0.4342\n",
      "Epoch 13/100\n",
      "242/242 [==============================] - 0s 872us/step - loss: 0.4585 - val_loss: 0.4259\n",
      "Epoch 14/100\n",
      "242/242 [==============================] - 0s 924us/step - loss: 0.4498 - val_loss: 0.4199\n",
      "Epoch 15/100\n",
      "242/242 [==============================] - 0s 875us/step - loss: 0.4421 - val_loss: 0.4236\n",
      "Epoch 16/100\n",
      "242/242 [==============================] - 0s 902us/step - loss: 0.4356 - val_loss: 0.4241\n",
      "Epoch 17/100\n",
      "242/242 [==============================] - 0s 898us/step - loss: 0.4294 - val_loss: 0.4148\n",
      "Epoch 18/100\n",
      "242/242 [==============================] - 0s 908us/step - loss: 0.4247 - val_loss: 0.4083\n",
      "Epoch 19/100\n",
      "242/242 [==============================] - 0s 865us/step - loss: 0.4194 - val_loss: 0.4124\n",
      "Epoch 20/100\n",
      "242/242 [==============================] - 0s 907us/step - loss: 0.4154 - val_loss: 0.3992\n",
      "Epoch 21/100\n",
      "242/242 [==============================] - 0s 920us/step - loss: 0.4117 - val_loss: 0.3911\n",
      "Epoch 22/100\n",
      "242/242 [==============================] - 0s 883us/step - loss: 0.4080 - val_loss: 0.3837\n",
      "Epoch 23/100\n",
      "242/242 [==============================] - 0s 938us/step - loss: 0.4045 - val_loss: 0.3806\n",
      "Epoch 24/100\n",
      "242/242 [==============================] - 0s 939us/step - loss: 0.4014 - val_loss: 0.3784\n",
      "Epoch 25/100\n",
      "242/242 [==============================] - 0s 917us/step - loss: 0.3985 - val_loss: 0.3809\n",
      "Epoch 26/100\n",
      "242/242 [==============================] - 0s 871us/step - loss: 0.3958 - val_loss: 0.3856\n",
      "Epoch 27/100\n",
      "242/242 [==============================] - 0s 899us/step - loss: 0.3930 - val_loss: 0.3927\n",
      "Epoch 28/100\n",
      "242/242 [==============================] - 0s 902us/step - loss: 0.3908 - val_loss: 0.4039\n",
      "Epoch 29/100\n",
      "242/242 [==============================] - 0s 927us/step - loss: 0.3883 - val_loss: 0.4477\n",
      "Epoch 30/100\n",
      "242/242 [==============================] - 0s 874us/step - loss: 0.3870 - val_loss: 0.4464\n",
      "Epoch 31/100\n",
      "242/242 [==============================] - 0s 884us/step - loss: 0.3849 - val_loss: 0.4472\n",
      "Epoch 32/100\n",
      "242/242 [==============================] - 0s 841us/step - loss: 0.3831 - val_loss: 0.4728\n",
      "Epoch 33/100\n",
      "242/242 [==============================] - 0s 865us/step - loss: 0.3815 - val_loss: 0.4965\n",
      "Epoch 34/100\n",
      "242/242 [==============================] - 0s 882us/step - loss: 0.3800 - val_loss: 0.5376\n",
      "121/121 [==============================] - 0s 572us/step - loss: 0.3925\n",
      "[CV]  n_neurons=82, n_hidden=2, learning_rate=0.0009105229973597177, total=   7.8s\n",
      "[CV] n_neurons=82, n_hidden=2, learning_rate=0.0009105229973597177 ...\n",
      "Epoch 1/100\n",
      "242/242 [==============================] - 0s 1ms/step - loss: 1.9199 - val_loss: 0.9700\n",
      "Epoch 2/100\n",
      "242/242 [==============================] - 0s 876us/step - loss: 0.8493 - val_loss: 0.7607\n",
      "Epoch 3/100\n",
      "242/242 [==============================] - 0s 877us/step - loss: 0.7408 - val_loss: 0.6883\n",
      "Epoch 4/100\n",
      "242/242 [==============================] - 0s 870us/step - loss: 0.6857 - val_loss: 0.6321\n",
      "Epoch 5/100\n",
      "242/242 [==============================] - 0s 843us/step - loss: 0.6433 - val_loss: 0.6004\n",
      "Epoch 6/100\n",
      "242/242 [==============================] - 0s 907us/step - loss: 0.6078 - val_loss: 0.5643\n",
      "Epoch 7/100\n",
      "242/242 [==============================] - 0s 1ms/step - loss: 0.5773 - val_loss: 0.5328\n",
      "Epoch 8/100\n",
      "242/242 [==============================] - 0s 1ms/step - loss: 0.5517 - val_loss: 0.5091\n",
      "Epoch 9/100\n",
      "242/242 [==============================] - 0s 1ms/step - loss: 0.5297 - val_loss: 0.4998\n",
      "Epoch 10/100\n",
      "242/242 [==============================] - 0s 1ms/step - loss: 0.5104 - val_loss: 0.4803\n",
      "Epoch 11/100\n",
      "242/242 [==============================] - 0s 1ms/step - loss: 0.4935 - val_loss: 0.4680\n",
      "Epoch 12/100\n",
      "242/242 [==============================] - 0s 1ms/step - loss: 0.4790 - val_loss: 0.4587\n",
      "Epoch 13/100\n",
      "242/242 [==============================] - 0s 990us/step - loss: 0.4665 - val_loss: 0.4414\n",
      "Epoch 14/100\n",
      "242/242 [==============================] - 0s 931us/step - loss: 0.4558 - val_loss: 0.4559\n",
      "Epoch 15/100\n",
      "242/242 [==============================] - 0s 2ms/step - loss: 0.4463 - val_loss: 0.4340\n",
      "Epoch 16/100\n",
      "242/242 [==============================] - 0s 2ms/step - loss: 0.4382 - val_loss: 0.4267\n",
      "Epoch 17/100\n",
      "242/242 [==============================] - 0s 1ms/step - loss: 0.4307 - val_loss: 0.4151\n",
      "Epoch 18/100\n",
      "242/242 [==============================] - 0s 908us/step - loss: 0.4242 - val_loss: 0.4050\n",
      "Epoch 19/100\n",
      "242/242 [==============================] - 0s 942us/step - loss: 0.4188 - val_loss: 0.4113\n",
      "Epoch 20/100\n",
      "242/242 [==============================] - 0s 869us/step - loss: 0.4137 - val_loss: 0.4152\n",
      "Epoch 21/100\n",
      "242/242 [==============================] - 0s 859us/step - loss: 0.4094 - val_loss: 0.4062\n",
      "Epoch 22/100\n",
      "242/242 [==============================] - 0s 816us/step - loss: 0.4052 - val_loss: 0.4101\n",
      "Epoch 23/100\n",
      "242/242 [==============================] - 0s 823us/step - loss: 0.4018 - val_loss: 0.3922\n",
      "Epoch 24/100\n",
      "242/242 [==============================] - 0s 856us/step - loss: 0.3982 - val_loss: 0.4189\n",
      "Epoch 25/100\n",
      "242/242 [==============================] - 0s 2ms/step - loss: 0.3955 - val_loss: 0.3846\n",
      "Epoch 26/100\n",
      "242/242 [==============================] - 0s 2ms/step - loss: 0.3925 - val_loss: 0.3777\n",
      "Epoch 27/100\n",
      "242/242 [==============================] - 0s 2ms/step - loss: 0.3899 - val_loss: 0.4206\n",
      "Epoch 28/100\n",
      "242/242 [==============================] - 0s 1ms/step - loss: 0.3875 - val_loss: 0.3897\n",
      "Epoch 29/100\n",
      "242/242 [==============================] - 0s 1ms/step - loss: 0.3850 - val_loss: 0.4387\n",
      "Epoch 30/100\n",
      "242/242 [==============================] - 0s 1ms/step - loss: 0.3835 - val_loss: 0.3980\n",
      "Epoch 31/100\n",
      "242/242 [==============================] - 0s 908us/step - loss: 0.3815 - val_loss: 0.3899\n",
      "Epoch 32/100\n",
      "242/242 [==============================] - 0s 976us/step - loss: 0.3794 - val_loss: 0.4152\n",
      "Epoch 33/100\n",
      "242/242 [==============================] - 0s 932us/step - loss: 0.3777 - val_loss: 0.3959\n",
      "Epoch 34/100\n",
      "242/242 [==============================] - 0s 974us/step - loss: 0.3758 - val_loss: 0.4429\n",
      "Epoch 35/100\n",
      "242/242 [==============================] - 0s 928us/step - loss: 0.3748 - val_loss: 0.3877\n",
      "Epoch 36/100\n",
      "242/242 [==============================] - 0s 902us/step - loss: 0.3729 - val_loss: 0.3791\n",
      "121/121 [==============================] - 0s 599us/step - loss: 0.3722\n",
      "[CV]  n_neurons=82, n_hidden=2, learning_rate=0.0009105229973597177, total=   9.7s\n",
      "[CV] n_neurons=9, n_hidden=2, learning_rate=0.0015214544941632034 ....\n",
      "Epoch 1/100\n",
      "242/242 [==============================] - 0s 1ms/step - loss: 2.1737 - val_loss: 3.2576\n",
      "Epoch 2/100\n",
      "242/242 [==============================] - 0s 810us/step - loss: 0.9543 - val_loss: 1.1120\n",
      "Epoch 3/100\n",
      "242/242 [==============================] - 0s 795us/step - loss: 0.7953 - val_loss: 0.8323\n",
      "Epoch 4/100\n",
      "242/242 [==============================] - 0s 852us/step - loss: 0.7195 - val_loss: 0.7350\n",
      "Epoch 5/100\n",
      "242/242 [==============================] - 0s 805us/step - loss: 0.6740 - val_loss: 0.6958\n",
      "Epoch 6/100\n",
      "242/242 [==============================] - 0s 825us/step - loss: 0.6419 - val_loss: 0.7519\n",
      "Epoch 7/100\n",
      "242/242 [==============================] - 0s 823us/step - loss: 0.6153 - val_loss: 0.8437\n",
      "Epoch 8/100\n",
      "242/242 [==============================] - 0s 777us/step - loss: 0.5942 - val_loss: 0.6103\n",
      "Epoch 9/100\n",
      "242/242 [==============================] - 0s 784us/step - loss: 0.5733 - val_loss: 0.5927\n",
      "Epoch 10/100\n",
      "242/242 [==============================] - 0s 830us/step - loss: 0.5549 - val_loss: 0.6007\n",
      "Epoch 11/100\n",
      "242/242 [==============================] - 0s 856us/step - loss: 0.5398 - val_loss: 0.5512\n",
      "Epoch 12/100\n",
      "242/242 [==============================] - 0s 947us/step - loss: 0.5258 - val_loss: 0.4946\n",
      "Epoch 13/100\n",
      "242/242 [==============================] - 0s 799us/step - loss: 0.5122 - val_loss: 0.4801\n",
      "Epoch 14/100\n",
      "242/242 [==============================] - 0s 887us/step - loss: 0.5014 - val_loss: 0.4764\n",
      "Epoch 15/100\n",
      "242/242 [==============================] - 0s 806us/step - loss: 0.4924 - val_loss: 0.4620\n",
      "Epoch 16/100\n",
      "242/242 [==============================] - 0s 800us/step - loss: 0.4846 - val_loss: 0.4551\n"
     ]
    },
    {
     "name": "stdout",
     "output_type": "stream",
     "text": [
      "Epoch 17/100\n",
      "242/242 [==============================] - 0s 773us/step - loss: 0.4782 - val_loss: 0.4536\n",
      "Epoch 18/100\n",
      "242/242 [==============================] - 0s 877us/step - loss: 0.4721 - val_loss: 0.4458\n",
      "Epoch 19/100\n",
      "242/242 [==============================] - 0s 822us/step - loss: 0.4665 - val_loss: 0.4467\n",
      "Epoch 20/100\n",
      "242/242 [==============================] - 0s 853us/step - loss: 0.4619 - val_loss: 0.4427\n",
      "Epoch 21/100\n",
      "242/242 [==============================] - 0s 847us/step - loss: 0.4576 - val_loss: 0.4456\n",
      "Epoch 22/100\n",
      "242/242 [==============================] - 0s 814us/step - loss: 0.4539 - val_loss: 0.4412\n",
      "Epoch 23/100\n",
      "242/242 [==============================] - 0s 886us/step - loss: 0.4506 - val_loss: 0.4410\n",
      "Epoch 24/100\n",
      "242/242 [==============================] - 0s 864us/step - loss: 0.4472 - val_loss: 0.4284\n",
      "Epoch 25/100\n",
      "242/242 [==============================] - 0s 861us/step - loss: 0.4447 - val_loss: 0.4369\n",
      "Epoch 26/100\n",
      "242/242 [==============================] - 0s 787us/step - loss: 0.4420 - val_loss: 0.4235\n",
      "Epoch 27/100\n",
      "242/242 [==============================] - 0s 777us/step - loss: 0.4392 - val_loss: 0.4376\n",
      "Epoch 28/100\n",
      "242/242 [==============================] - 0s 791us/step - loss: 0.4368 - val_loss: 0.4375\n",
      "Epoch 29/100\n",
      "242/242 [==============================] - 0s 818us/step - loss: 0.4341 - val_loss: 0.4402\n",
      "Epoch 30/100\n",
      "242/242 [==============================] - 0s 843us/step - loss: 0.4323 - val_loss: 0.4276\n",
      "Epoch 31/100\n",
      "242/242 [==============================] - 0s 896us/step - loss: 0.4300 - val_loss: 0.4167\n",
      "Epoch 32/100\n",
      "242/242 [==============================] - 0s 857us/step - loss: 0.4280 - val_loss: 0.4137\n",
      "Epoch 33/100\n",
      "242/242 [==============================] - 0s 829us/step - loss: 0.4260 - val_loss: 0.4302\n",
      "Epoch 34/100\n",
      "242/242 [==============================] - 0s 819us/step - loss: 0.4241 - val_loss: 0.4322\n",
      "Epoch 35/100\n",
      "242/242 [==============================] - 0s 830us/step - loss: 0.4226 - val_loss: 0.4104\n",
      "Epoch 36/100\n",
      "242/242 [==============================] - 0s 826us/step - loss: 0.4208 - val_loss: 0.4327\n",
      "Epoch 37/100\n",
      "242/242 [==============================] - 0s 825us/step - loss: 0.4194 - val_loss: 0.4027\n",
      "Epoch 38/100\n",
      "242/242 [==============================] - 0s 811us/step - loss: 0.4178 - val_loss: 0.4315\n",
      "Epoch 39/100\n",
      "242/242 [==============================] - 0s 806us/step - loss: 0.4163 - val_loss: 0.4109\n",
      "Epoch 40/100\n",
      "242/242 [==============================] - 0s 834us/step - loss: 0.4146 - val_loss: 0.4241\n",
      "Epoch 41/100\n",
      "242/242 [==============================] - 0s 856us/step - loss: 0.4135 - val_loss: 0.4221\n",
      "Epoch 42/100\n",
      "242/242 [==============================] - 0s 813us/step - loss: 0.4122 - val_loss: 0.4105\n",
      "Epoch 43/100\n",
      "242/242 [==============================] - 0s 840us/step - loss: 0.4114 - val_loss: 0.4027\n",
      "Epoch 44/100\n",
      "242/242 [==============================] - 0s 764us/step - loss: 0.4097 - val_loss: 0.4339\n",
      "Epoch 45/100\n",
      "242/242 [==============================] - 0s 779us/step - loss: 0.4091 - val_loss: 0.4170\n",
      "Epoch 46/100\n",
      "242/242 [==============================] - 0s 773us/step - loss: 0.4076 - val_loss: 0.4122\n",
      "Epoch 47/100\n",
      "242/242 [==============================] - 0s 925us/step - loss: 0.4069 - val_loss: 0.4290\n",
      "121/121 [==============================] - 0s 570us/step - loss: 0.4126\n",
      "[CV]  n_neurons=9, n_hidden=2, learning_rate=0.0015214544941632034, total=  10.0s\n",
      "[CV] n_neurons=9, n_hidden=2, learning_rate=0.0015214544941632034 ....\n",
      "Epoch 1/100\n",
      "242/242 [==============================] - 0s 1ms/step - loss: 2.6195 - val_loss: 5.3518\n",
      "Epoch 2/100\n",
      "242/242 [==============================] - 0s 854us/step - loss: 0.9338 - val_loss: 5.0689\n",
      "Epoch 3/100\n",
      "242/242 [==============================] - 0s 898us/step - loss: 0.7625 - val_loss: 3.2900\n",
      "Epoch 4/100\n",
      "242/242 [==============================] - 0s 853us/step - loss: 0.6895 - val_loss: 2.6783\n",
      "Epoch 5/100\n",
      "242/242 [==============================] - 0s 918us/step - loss: 0.6389 - val_loss: 2.2480\n",
      "Epoch 6/100\n",
      "242/242 [==============================] - 0s 788us/step - loss: 0.5952 - val_loss: 1.8429\n",
      "Epoch 7/100\n",
      "242/242 [==============================] - 0s 867us/step - loss: 0.5551 - val_loss: 1.4714\n",
      "Epoch 8/100\n",
      "242/242 [==============================] - 0s 800us/step - loss: 0.5203 - val_loss: 1.1865\n",
      "Epoch 9/100\n",
      "242/242 [==============================] - 0s 850us/step - loss: 0.4912 - val_loss: 0.9161\n",
      "Epoch 10/100\n",
      "242/242 [==============================] - 0s 913us/step - loss: 0.4693 - val_loss: 0.7433\n",
      "Epoch 11/100\n",
      "242/242 [==============================] - 0s 782us/step - loss: 0.4537 - val_loss: 0.6224\n",
      "Epoch 12/100\n",
      "242/242 [==============================] - 0s 806us/step - loss: 0.4429 - val_loss: 0.5714\n",
      "Epoch 13/100\n",
      "242/242 [==============================] - 0s 796us/step - loss: 0.4350 - val_loss: 0.5481\n",
      "Epoch 14/100\n",
      "242/242 [==============================] - 0s 822us/step - loss: 0.4289 - val_loss: 0.5526\n",
      "Epoch 15/100\n",
      "242/242 [==============================] - 0s 778us/step - loss: 0.4240 - val_loss: 0.5537\n",
      "Epoch 16/100\n",
      "242/242 [==============================] - 0s 865us/step - loss: 0.4195 - val_loss: 0.5777\n",
      "Epoch 17/100\n",
      "242/242 [==============================] - 0s 790us/step - loss: 0.4159 - val_loss: 0.5901\n",
      "Epoch 18/100\n",
      "242/242 [==============================] - 0s 869us/step - loss: 0.4132 - val_loss: 0.6223\n",
      "Epoch 19/100\n",
      "242/242 [==============================] - 0s 812us/step - loss: 0.4103 - val_loss: 0.6407\n",
      "Epoch 20/100\n",
      "242/242 [==============================] - 0s 781us/step - loss: 0.4082 - val_loss: 0.6499\n",
      "Epoch 21/100\n",
      "242/242 [==============================] - 0s 934us/step - loss: 0.4063 - val_loss: 0.6526\n",
      "Epoch 22/100\n",
      "242/242 [==============================] - 0s 949us/step - loss: 0.4046 - val_loss: 0.6666\n",
      "Epoch 23/100\n",
      "242/242 [==============================] - 0s 895us/step - loss: 0.4029 - val_loss: 0.6919\n",
      "121/121 [==============================] - 0s 591us/step - loss: 0.4251\n",
      "[CV]  n_neurons=9, n_hidden=2, learning_rate=0.0015214544941632034, total=   5.3s\n",
      "[CV] n_neurons=9, n_hidden=2, learning_rate=0.0015214544941632034 ....\n",
      "Epoch 1/100\n",
      "242/242 [==============================] - 1s 1ms/step - loss: 2.5090 - val_loss: 1.0363\n",
      "Epoch 2/100\n",
      "242/242 [==============================] - 0s 854us/step - loss: 0.8852 - val_loss: 0.7957\n",
      "Epoch 3/100\n",
      "242/242 [==============================] - 0s 869us/step - loss: 0.6857 - val_loss: 0.6655\n",
      "Epoch 4/100\n",
      "242/242 [==============================] - 0s 841us/step - loss: 0.6293 - val_loss: 0.7535\n",
      "Epoch 5/100\n",
      "242/242 [==============================] - 0s 817us/step - loss: 0.5974 - val_loss: 0.7183\n",
      "Epoch 6/100\n",
      "242/242 [==============================] - 0s 771us/step - loss: 0.5769 - val_loss: 0.7543\n",
      "Epoch 7/100\n",
      "242/242 [==============================] - 0s 778us/step - loss: 0.5570 - val_loss: 0.5965\n",
      "Epoch 8/100\n",
      "242/242 [==============================] - 0s 827us/step - loss: 0.5407 - val_loss: 0.4920\n",
      "Epoch 9/100\n",
      "242/242 [==============================] - 0s 792us/step - loss: 0.5242 - val_loss: 0.5638\n",
      "Epoch 10/100\n",
      "242/242 [==============================] - 0s 747us/step - loss: 0.5108 - val_loss: 0.4697\n",
      "Epoch 11/100\n",
      "242/242 [==============================] - 0s 851us/step - loss: 0.5025 - val_loss: 0.5508\n",
      "Epoch 12/100\n",
      "242/242 [==============================] - 0s 878us/step - loss: 0.4914 - val_loss: 0.4576\n",
      "Epoch 13/100\n",
      "242/242 [==============================] - 0s 852us/step - loss: 0.4802 - val_loss: 0.4415\n",
      "Epoch 14/100\n",
      "242/242 [==============================] - 0s 773us/step - loss: 0.4750 - val_loss: 0.6606\n",
      "Epoch 15/100\n",
      "242/242 [==============================] - 0s 775us/step - loss: 0.4685 - val_loss: 0.5061\n",
      "Epoch 16/100\n",
      "242/242 [==============================] - 0s 848us/step - loss: 0.4629 - val_loss: 0.7429\n",
      "Epoch 17/100\n",
      "242/242 [==============================] - 0s 803us/step - loss: 0.4590 - val_loss: 0.6337\n",
      "Epoch 18/100\n",
      "242/242 [==============================] - 0s 834us/step - loss: 0.4541 - val_loss: 0.5146\n",
      "Epoch 19/100\n",
      "242/242 [==============================] - 0s 849us/step - loss: 0.4496 - val_loss: 0.4152\n",
      "Epoch 20/100\n",
      "242/242 [==============================] - 0s 883us/step - loss: 0.4431 - val_loss: 0.4617\n",
      "Epoch 21/100\n"
     ]
    },
    {
     "name": "stdout",
     "output_type": "stream",
     "text": [
      "242/242 [==============================] - 0s 897us/step - loss: 0.4409 - val_loss: 0.4397\n",
      "Epoch 22/100\n",
      "242/242 [==============================] - 0s 905us/step - loss: 0.4392 - val_loss: 0.4167\n",
      "Epoch 23/100\n",
      "242/242 [==============================] - 0s 790us/step - loss: 0.4367 - val_loss: 0.4238\n",
      "Epoch 24/100\n",
      "242/242 [==============================] - 0s 902us/step - loss: 0.4313 - val_loss: 0.4555\n",
      "Epoch 25/100\n",
      "242/242 [==============================] - 0s 965us/step - loss: 0.4305 - val_loss: 0.4154\n",
      "Epoch 26/100\n",
      "242/242 [==============================] - 0s 873us/step - loss: 0.4265 - val_loss: 0.4117\n",
      "Epoch 27/100\n",
      "242/242 [==============================] - 0s 833us/step - loss: 0.4237 - val_loss: 0.4611\n",
      "Epoch 28/100\n",
      "242/242 [==============================] - 0s 881us/step - loss: 0.4238 - val_loss: 0.4167\n",
      "Epoch 29/100\n",
      "242/242 [==============================] - 0s 882us/step - loss: 0.4203 - val_loss: 0.7739\n",
      "Epoch 30/100\n",
      "242/242 [==============================] - 0s 859us/step - loss: 0.4250 - val_loss: 0.4162\n",
      "Epoch 31/100\n",
      "242/242 [==============================] - 0s 880us/step - loss: 0.4156 - val_loss: 0.4284\n",
      "Epoch 32/100\n",
      "242/242 [==============================] - 0s 843us/step - loss: 0.4156 - val_loss: 0.4205\n",
      "Epoch 33/100\n",
      "242/242 [==============================] - 0s 821us/step - loss: 0.4117 - val_loss: 0.4325\n",
      "Epoch 34/100\n",
      "242/242 [==============================] - 0s 817us/step - loss: 0.4135 - val_loss: 0.4273\n",
      "Epoch 35/100\n",
      "242/242 [==============================] - 0s 876us/step - loss: 0.4127 - val_loss: 0.3832\n",
      "Epoch 36/100\n",
      "242/242 [==============================] - 0s 890us/step - loss: 0.4091 - val_loss: 0.4651\n",
      "Epoch 37/100\n",
      "242/242 [==============================] - 0s 851us/step - loss: 0.4089 - val_loss: 0.5137\n",
      "Epoch 38/100\n",
      "242/242 [==============================] - 0s 786us/step - loss: 0.4093 - val_loss: 0.8169\n",
      "Epoch 39/100\n",
      "242/242 [==============================] - 0s 825us/step - loss: 0.4106 - val_loss: 0.5596\n",
      "Epoch 40/100\n",
      "242/242 [==============================] - 0s 863us/step - loss: 0.4045 - val_loss: 0.7468\n",
      "Epoch 41/100\n",
      "242/242 [==============================] - 0s 824us/step - loss: 0.4075 - val_loss: 0.3808\n",
      "Epoch 42/100\n",
      "242/242 [==============================] - 0s 795us/step - loss: 0.4007 - val_loss: 0.5438\n",
      "Epoch 43/100\n",
      "242/242 [==============================] - 0s 917us/step - loss: 0.3989 - val_loss: 0.4925\n",
      "Epoch 44/100\n",
      "242/242 [==============================] - 0s 855us/step - loss: 0.3991 - val_loss: 0.5302\n",
      "Epoch 45/100\n",
      "242/242 [==============================] - 0s 842us/step - loss: 0.3985 - val_loss: 0.3868\n",
      "Epoch 46/100\n",
      "242/242 [==============================] - 0s 892us/step - loss: 0.3960 - val_loss: 0.5340\n",
      "Epoch 47/100\n",
      "242/242 [==============================] - 0s 847us/step - loss: 0.3953 - val_loss: 0.5178\n",
      "Epoch 48/100\n",
      "242/242 [==============================] - 0s 768us/step - loss: 0.3943 - val_loss: 0.3685\n",
      "Epoch 49/100\n",
      "242/242 [==============================] - 0s 977us/step - loss: 0.3922 - val_loss: 0.4276\n",
      "Epoch 50/100\n",
      "242/242 [==============================] - 0s 834us/step - loss: 0.3916 - val_loss: 0.3702\n",
      "Epoch 51/100\n",
      "242/242 [==============================] - 0s 865us/step - loss: 0.3896 - val_loss: 0.4039\n",
      "Epoch 52/100\n",
      "242/242 [==============================] - 0s 845us/step - loss: 0.3890 - val_loss: 0.3870\n",
      "Epoch 53/100\n",
      "242/242 [==============================] - 0s 939us/step - loss: 0.3881 - val_loss: 0.3895\n",
      "Epoch 54/100\n",
      "242/242 [==============================] - 0s 877us/step - loss: 0.3869 - val_loss: 0.3612\n",
      "Epoch 55/100\n",
      "242/242 [==============================] - 0s 929us/step - loss: 0.3853 - val_loss: 0.3585\n",
      "Epoch 56/100\n",
      "242/242 [==============================] - 0s 783us/step - loss: 0.3843 - val_loss: 0.3770\n",
      "Epoch 57/100\n",
      "242/242 [==============================] - 0s 820us/step - loss: 0.3840 - val_loss: 0.3649\n",
      "Epoch 58/100\n",
      "242/242 [==============================] - 0s 798us/step - loss: 0.3836 - val_loss: 0.3570\n",
      "Epoch 59/100\n",
      "242/242 [==============================] - 0s 853us/step - loss: 0.3822 - val_loss: 0.3779\n",
      "Epoch 60/100\n",
      "242/242 [==============================] - 0s 991us/step - loss: 0.3819 - val_loss: 0.4000\n",
      "Epoch 61/100\n",
      "242/242 [==============================] - 0s 860us/step - loss: 0.3807 - val_loss: 0.3699\n",
      "Epoch 62/100\n",
      "242/242 [==============================] - 0s 915us/step - loss: 0.3801 - val_loss: 0.3553\n",
      "Epoch 63/100\n",
      "242/242 [==============================] - 0s 816us/step - loss: 0.3795 - val_loss: 0.3531\n",
      "Epoch 64/100\n",
      "242/242 [==============================] - 0s 1ms/step - loss: 0.3787 - val_loss: 0.3527\n",
      "Epoch 65/100\n",
      "242/242 [==============================] - 0s 964us/step - loss: 0.3776 - val_loss: 0.3740\n",
      "Epoch 66/100\n",
      "242/242 [==============================] - 0s 894us/step - loss: 0.3776 - val_loss: 0.4745\n",
      "Epoch 67/100\n",
      "242/242 [==============================] - 0s 788us/step - loss: 0.3785 - val_loss: 0.5315\n",
      "Epoch 68/100\n",
      "242/242 [==============================] - 0s 843us/step - loss: 0.3780 - val_loss: 0.5628\n",
      "Epoch 69/100\n",
      "242/242 [==============================] - 0s 859us/step - loss: 0.3780 - val_loss: 0.6211\n",
      "Epoch 70/100\n",
      "242/242 [==============================] - 0s 921us/step - loss: 0.3780 - val_loss: 0.5759\n",
      "Epoch 71/100\n",
      "242/242 [==============================] - 0s 828us/step - loss: 0.3780 - val_loss: 0.6245\n",
      "Epoch 72/100\n",
      "242/242 [==============================] - 0s 833us/step - loss: 0.3767 - val_loss: 0.4733\n",
      "Epoch 73/100\n",
      "242/242 [==============================] - 0s 812us/step - loss: 0.3762 - val_loss: 0.5680\n",
      "Epoch 74/100\n",
      "242/242 [==============================] - 0s 772us/step - loss: 0.3744 - val_loss: 0.4084\n",
      "121/121 [==============================] - 0s 568us/step - loss: 0.3707\n",
      "[CV]  n_neurons=9, n_hidden=2, learning_rate=0.0015214544941632034, total=  16.0s\n",
      "[CV] n_neurons=89, n_hidden=2, learning_rate=0.0006874732424780455 ...\n",
      "Epoch 1/100\n",
      "242/242 [==============================] - 1s 1ms/step - loss: 2.8719 - val_loss: 3.0355\n",
      "Epoch 2/100\n",
      "242/242 [==============================] - 0s 949us/step - loss: 1.0644 - val_loss: 1.1482\n",
      "Epoch 3/100\n",
      "242/242 [==============================] - 0s 839us/step - loss: 0.8099 - val_loss: 0.7425\n",
      "Epoch 4/100\n",
      "242/242 [==============================] - 0s 860us/step - loss: 0.7276 - val_loss: 0.6643\n",
      "Epoch 5/100\n",
      "242/242 [==============================] - 0s 951us/step - loss: 0.6832 - val_loss: 0.6337\n",
      "Epoch 6/100\n",
      "242/242 [==============================] - 0s 966us/step - loss: 0.6518 - val_loss: 0.6164\n",
      "Epoch 7/100\n",
      "242/242 [==============================] - 0s 869us/step - loss: 0.6262 - val_loss: 0.6032\n",
      "Epoch 8/100\n",
      "242/242 [==============================] - 0s 863us/step - loss: 0.6039 - val_loss: 0.5740\n",
      "Epoch 9/100\n",
      "242/242 [==============================] - 0s 884us/step - loss: 0.5838 - val_loss: 0.5449\n",
      "Epoch 10/100\n",
      "242/242 [==============================] - 0s 880us/step - loss: 0.5650 - val_loss: 0.5339\n",
      "Epoch 11/100\n",
      "242/242 [==============================] - 0s 914us/step - loss: 0.5481 - val_loss: 0.5217\n",
      "Epoch 12/100\n",
      "242/242 [==============================] - 0s 904us/step - loss: 0.5329 - val_loss: 0.4982\n",
      "Epoch 13/100\n",
      "242/242 [==============================] - 0s 937us/step - loss: 0.5184 - val_loss: 0.4917\n",
      "Epoch 14/100\n",
      "242/242 [==============================] - 0s 927us/step - loss: 0.5053 - val_loss: 0.4739\n",
      "Epoch 15/100\n",
      "242/242 [==============================] - 0s 871us/step - loss: 0.4935 - val_loss: 0.4589\n",
      "Epoch 16/100\n",
      "242/242 [==============================] - 0s 884us/step - loss: 0.4821 - val_loss: 0.4508\n",
      "Epoch 17/100\n",
      "242/242 [==============================] - 0s 936us/step - loss: 0.4722 - val_loss: 0.4394\n",
      "Epoch 18/100\n",
      "242/242 [==============================] - 0s 889us/step - loss: 0.4629 - val_loss: 0.4317\n",
      "Epoch 19/100\n",
      "242/242 [==============================] - 0s 879us/step - loss: 0.4542 - val_loss: 0.4241\n",
      "Epoch 20/100\n",
      "242/242 [==============================] - 0s 968us/step - loss: 0.4466 - val_loss: 0.4173\n",
      "Epoch 21/100\n",
      "242/242 [==============================] - 0s 919us/step - loss: 0.4397 - val_loss: 0.4126\n",
      "Epoch 22/100\n",
      "242/242 [==============================] - 0s 870us/step - loss: 0.4332 - val_loss: 0.4061\n",
      "Epoch 23/100\n",
      "242/242 [==============================] - 0s 924us/step - loss: 0.4274 - val_loss: 0.4013\n"
     ]
    },
    {
     "name": "stdout",
     "output_type": "stream",
     "text": [
      "Epoch 24/100\n",
      "242/242 [==============================] - 0s 896us/step - loss: 0.4220 - val_loss: 0.3963\n",
      "Epoch 25/100\n",
      "242/242 [==============================] - 0s 875us/step - loss: 0.4175 - val_loss: 0.3953\n",
      "Epoch 26/100\n",
      "242/242 [==============================] - 0s 874us/step - loss: 0.4130 - val_loss: 0.3924\n",
      "Epoch 27/100\n",
      "242/242 [==============================] - 0s 837us/step - loss: 0.4092 - val_loss: 0.3896\n",
      "Epoch 28/100\n",
      "242/242 [==============================] - 0s 942us/step - loss: 0.4055 - val_loss: 0.3924\n",
      "Epoch 29/100\n",
      "242/242 [==============================] - 0s 880us/step - loss: 0.4021 - val_loss: 0.3893\n",
      "Epoch 30/100\n",
      "242/242 [==============================] - 0s 884us/step - loss: 0.3993 - val_loss: 0.3836\n",
      "Epoch 31/100\n",
      "242/242 [==============================] - 0s 872us/step - loss: 0.3964 - val_loss: 0.3783\n",
      "Epoch 32/100\n",
      "242/242 [==============================] - 0s 858us/step - loss: 0.3939 - val_loss: 0.3776\n",
      "Epoch 33/100\n",
      "242/242 [==============================] - 0s 874us/step - loss: 0.3915 - val_loss: 0.3814\n",
      "Epoch 34/100\n",
      "242/242 [==============================] - 0s 816us/step - loss: 0.3892 - val_loss: 0.3841\n",
      "Epoch 35/100\n",
      "242/242 [==============================] - 0s 894us/step - loss: 0.3873 - val_loss: 0.3739\n",
      "Epoch 36/100\n",
      "242/242 [==============================] - 0s 896us/step - loss: 0.3853 - val_loss: 0.3784\n",
      "Epoch 37/100\n",
      "242/242 [==============================] - 0s 951us/step - loss: 0.3836 - val_loss: 0.3702\n",
      "Epoch 38/100\n",
      "242/242 [==============================] - 0s 930us/step - loss: 0.3818 - val_loss: 0.3802\n",
      "Epoch 39/100\n",
      "242/242 [==============================] - 0s 906us/step - loss: 0.3802 - val_loss: 0.3700\n",
      "Epoch 40/100\n",
      "242/242 [==============================] - 0s 860us/step - loss: 0.3789 - val_loss: 0.3774\n",
      "Epoch 41/100\n",
      "242/242 [==============================] - 0s 911us/step - loss: 0.3774 - val_loss: 0.3725\n",
      "Epoch 42/100\n",
      "242/242 [==============================] - 0s 875us/step - loss: 0.3759 - val_loss: 0.3685\n",
      "Epoch 43/100\n",
      "242/242 [==============================] - 0s 1ms/step - loss: 0.3749 - val_loss: 0.3649\n",
      "Epoch 44/100\n",
      "242/242 [==============================] - 0s 907us/step - loss: 0.3734 - val_loss: 0.3799\n",
      "Epoch 45/100\n",
      "242/242 [==============================] - 0s 863us/step - loss: 0.3725 - val_loss: 0.3722\n",
      "Epoch 46/100\n",
      "242/242 [==============================] - 0s 867us/step - loss: 0.3712 - val_loss: 0.3642\n",
      "Epoch 47/100\n",
      "242/242 [==============================] - 0s 879us/step - loss: 0.3703 - val_loss: 0.3758\n",
      "Epoch 48/100\n",
      "242/242 [==============================] - 0s 881us/step - loss: 0.3692 - val_loss: 0.3686\n",
      "Epoch 49/100\n",
      "242/242 [==============================] - 0s 861us/step - loss: 0.3681 - val_loss: 0.3654\n",
      "Epoch 50/100\n",
      "242/242 [==============================] - 0s 885us/step - loss: 0.3671 - val_loss: 0.3740\n",
      "Epoch 51/100\n",
      "242/242 [==============================] - 0s 877us/step - loss: 0.3662 - val_loss: 0.3677\n",
      "Epoch 52/100\n",
      "242/242 [==============================] - 0s 864us/step - loss: 0.3654 - val_loss: 0.3655\n",
      "Epoch 53/100\n",
      "242/242 [==============================] - 0s 923us/step - loss: 0.3645 - val_loss: 0.3660\n",
      "Epoch 54/100\n",
      "242/242 [==============================] - 0s 878us/step - loss: 0.3636 - val_loss: 0.3581\n",
      "Epoch 55/100\n",
      "242/242 [==============================] - 0s 870us/step - loss: 0.3625 - val_loss: 0.3664\n",
      "Epoch 56/100\n",
      "242/242 [==============================] - 0s 892us/step - loss: 0.3620 - val_loss: 0.3625\n",
      "Epoch 57/100\n",
      "242/242 [==============================] - 0s 907us/step - loss: 0.3611 - val_loss: 0.3663\n",
      "Epoch 58/100\n",
      "242/242 [==============================] - 0s 900us/step - loss: 0.3602 - val_loss: 0.3710\n",
      "Epoch 59/100\n",
      "242/242 [==============================] - 0s 883us/step - loss: 0.3596 - val_loss: 0.3570\n",
      "Epoch 60/100\n",
      "242/242 [==============================] - 0s 880us/step - loss: 0.3587 - val_loss: 0.3564\n",
      "Epoch 61/100\n",
      "242/242 [==============================] - 0s 927us/step - loss: 0.3580 - val_loss: 0.3615\n",
      "Epoch 62/100\n",
      "242/242 [==============================] - 0s 852us/step - loss: 0.3573 - val_loss: 0.3699\n",
      "Epoch 63/100\n",
      "242/242 [==============================] - 0s 918us/step - loss: 0.3566 - val_loss: 0.3587\n",
      "Epoch 64/100\n",
      "242/242 [==============================] - 0s 891us/step - loss: 0.3560 - val_loss: 0.3727\n",
      "Epoch 65/100\n",
      "242/242 [==============================] - 0s 864us/step - loss: 0.3553 - val_loss: 0.3718\n",
      "Epoch 66/100\n",
      "242/242 [==============================] - 0s 917us/step - loss: 0.3547 - val_loss: 0.3567\n",
      "Epoch 67/100\n",
      "242/242 [==============================] - 0s 918us/step - loss: 0.3538 - val_loss: 0.3598\n",
      "Epoch 68/100\n",
      "242/242 [==============================] - 0s 880us/step - loss: 0.3533 - val_loss: 0.3626\n",
      "Epoch 69/100\n",
      "242/242 [==============================] - 0s 919us/step - loss: 0.3525 - val_loss: 0.3634\n",
      "Epoch 70/100\n",
      "242/242 [==============================] - 0s 888us/step - loss: 0.3519 - val_loss: 0.3581\n",
      "121/121 [==============================] - 0s 605us/step - loss: 0.3761\n",
      "[CV]  n_neurons=89, n_hidden=2, learning_rate=0.0006874732424780455, total=  15.7s\n",
      "[CV] n_neurons=89, n_hidden=2, learning_rate=0.0006874732424780455 ...\n",
      "Epoch 1/100\n",
      "242/242 [==============================] - 0s 1ms/step - loss: 2.5471 - val_loss: 9.4343\n",
      "Epoch 2/100\n",
      "242/242 [==============================] - 0s 874us/step - loss: 0.9661 - val_loss: 9.4892\n",
      "Epoch 3/100\n",
      "242/242 [==============================] - 0s 884us/step - loss: 0.7702 - val_loss: 7.1250\n",
      "Epoch 4/100\n",
      "242/242 [==============================] - 0s 907us/step - loss: 0.7039 - val_loss: 5.2965\n",
      "Epoch 5/100\n",
      "242/242 [==============================] - 0s 889us/step - loss: 0.6661 - val_loss: 4.0567\n",
      "Epoch 6/100\n",
      "242/242 [==============================] - 0s 872us/step - loss: 0.6378 - val_loss: 3.1710\n",
      "Epoch 7/100\n",
      "242/242 [==============================] - 0s 868us/step - loss: 0.6134 - val_loss: 2.4947\n",
      "Epoch 8/100\n",
      "242/242 [==============================] - 0s 871us/step - loss: 0.5914 - val_loss: 1.9285\n",
      "Epoch 9/100\n",
      "242/242 [==============================] - 0s 859us/step - loss: 0.5709 - val_loss: 1.5326\n",
      "Epoch 10/100\n",
      "242/242 [==============================] - 0s 871us/step - loss: 0.5522 - val_loss: 1.2208\n",
      "Epoch 11/100\n",
      "242/242 [==============================] - 0s 866us/step - loss: 0.5348 - val_loss: 0.9966\n",
      "Epoch 12/100\n",
      "242/242 [==============================] - 0s 910us/step - loss: 0.5190 - val_loss: 0.7961\n",
      "Epoch 13/100\n",
      "242/242 [==============================] - 0s 921us/step - loss: 0.5046 - val_loss: 0.6644\n",
      "Epoch 14/100\n",
      "242/242 [==============================] - 0s 876us/step - loss: 0.4916 - val_loss: 0.5990\n",
      "Epoch 15/100\n",
      "242/242 [==============================] - 0s 884us/step - loss: 0.4800 - val_loss: 0.5223\n",
      "Epoch 16/100\n",
      "242/242 [==============================] - 0s 879us/step - loss: 0.4696 - val_loss: 0.4872\n",
      "Epoch 17/100\n",
      "242/242 [==============================] - 0s 867us/step - loss: 0.4604 - val_loss: 0.4531\n",
      "Epoch 18/100\n",
      "242/242 [==============================] - 0s 875us/step - loss: 0.4523 - val_loss: 0.4356\n",
      "Epoch 19/100\n",
      "242/242 [==============================] - 0s 888us/step - loss: 0.4450 - val_loss: 0.4223\n",
      "Epoch 20/100\n",
      "242/242 [==============================] - 0s 879us/step - loss: 0.4388 - val_loss: 0.4147\n",
      "Epoch 21/100\n",
      "242/242 [==============================] - 0s 894us/step - loss: 0.4332 - val_loss: 0.4075\n",
      "Epoch 22/100\n",
      "242/242 [==============================] - 0s 880us/step - loss: 0.4282 - val_loss: 0.4033\n",
      "Epoch 23/100\n",
      "242/242 [==============================] - 0s 892us/step - loss: 0.4238 - val_loss: 0.3993\n",
      "Epoch 24/100\n",
      "242/242 [==============================] - 0s 874us/step - loss: 0.4198 - val_loss: 0.3952\n",
      "Epoch 25/100\n",
      "242/242 [==============================] - 0s 871us/step - loss: 0.4162 - val_loss: 0.3918\n",
      "Epoch 26/100\n",
      "242/242 [==============================] - 0s 863us/step - loss: 0.4130 - val_loss: 0.3889\n",
      "Epoch 27/100\n",
      "242/242 [==============================] - 0s 896us/step - loss: 0.4099 - val_loss: 0.3873\n",
      "Epoch 28/100\n",
      "242/242 [==============================] - 0s 908us/step - loss: 0.4072 - val_loss: 0.3848\n",
      "Epoch 29/100\n",
      "242/242 [==============================] - 0s 873us/step - loss: 0.4044 - val_loss: 0.3897\n",
      "Epoch 30/100\n"
     ]
    },
    {
     "name": "stdout",
     "output_type": "stream",
     "text": [
      "242/242 [==============================] - 0s 898us/step - loss: 0.4026 - val_loss: 0.3862\n",
      "Epoch 31/100\n",
      "242/242 [==============================] - 0s 869us/step - loss: 0.4002 - val_loss: 0.3842\n",
      "Epoch 32/100\n",
      "242/242 [==============================] - 0s 893us/step - loss: 0.3982 - val_loss: 0.3885\n",
      "Epoch 33/100\n",
      "242/242 [==============================] - 0s 857us/step - loss: 0.3964 - val_loss: 0.3944\n",
      "Epoch 34/100\n",
      "242/242 [==============================] - 0s 874us/step - loss: 0.3945 - val_loss: 0.4048\n",
      "Epoch 35/100\n",
      "242/242 [==============================] - 0s 868us/step - loss: 0.3929 - val_loss: 0.4139\n",
      "Epoch 36/100\n",
      "242/242 [==============================] - 0s 896us/step - loss: 0.3913 - val_loss: 0.4097\n",
      "Epoch 37/100\n",
      "242/242 [==============================] - 0s 884us/step - loss: 0.3898 - val_loss: 0.4281\n",
      "Epoch 38/100\n",
      "242/242 [==============================] - 0s 936us/step - loss: 0.3884 - val_loss: 0.4380\n",
      "Epoch 39/100\n",
      "242/242 [==============================] - 0s 885us/step - loss: 0.3870 - val_loss: 0.4454\n",
      "Epoch 40/100\n",
      "242/242 [==============================] - 0s 874us/step - loss: 0.3857 - val_loss: 0.4654\n",
      "Epoch 41/100\n",
      "242/242 [==============================] - 0s 906us/step - loss: 0.3843 - val_loss: 0.4849\n",
      "121/121 [==============================] - 0s 578us/step - loss: 0.3964\n",
      "[CV]  n_neurons=89, n_hidden=2, learning_rate=0.0006874732424780455, total=   9.3s\n",
      "[CV] n_neurons=89, n_hidden=2, learning_rate=0.0006874732424780455 ...\n",
      "Epoch 1/100\n",
      "242/242 [==============================] - 1s 1ms/step - loss: 2.3239 - val_loss: 2.2439\n",
      "Epoch 2/100\n",
      "242/242 [==============================] - 0s 862us/step - loss: 1.0095 - val_loss: 1.0865\n",
      "Epoch 3/100\n",
      "242/242 [==============================] - 0s 898us/step - loss: 0.8230 - val_loss: 0.8023\n",
      "Epoch 4/100\n",
      "242/242 [==============================] - 0s 897us/step - loss: 0.7696 - val_loss: 0.7280\n",
      "Epoch 5/100\n",
      "242/242 [==============================] - 0s 901us/step - loss: 0.7347 - val_loss: 0.6945\n",
      "Epoch 6/100\n",
      "242/242 [==============================] - 0s 1ms/step - loss: 0.7061 - val_loss: 0.6669\n",
      "Epoch 7/100\n",
      "242/242 [==============================] - 0s 1ms/step - loss: 0.6800 - val_loss: 0.6434\n",
      "Epoch 8/100\n",
      "242/242 [==============================] - 0s 882us/step - loss: 0.6568 - val_loss: 0.6317\n",
      "Epoch 9/100\n",
      "242/242 [==============================] - 0s 882us/step - loss: 0.6357 - val_loss: 0.6006\n",
      "Epoch 10/100\n",
      "242/242 [==============================] - 0s 986us/step - loss: 0.6158 - val_loss: 0.5807\n",
      "Epoch 11/100\n",
      "242/242 [==============================] - 0s 909us/step - loss: 0.5968 - val_loss: 0.5634\n",
      "Epoch 12/100\n",
      "242/242 [==============================] - 0s 873us/step - loss: 0.5796 - val_loss: 0.5449\n",
      "Epoch 13/100\n",
      "242/242 [==============================] - 0s 869us/step - loss: 0.5634 - val_loss: 0.5301\n",
      "Epoch 14/100\n",
      "242/242 [==============================] - 0s 879us/step - loss: 0.5482 - val_loss: 0.5171\n",
      "Epoch 15/100\n",
      "242/242 [==============================] - 0s 872us/step - loss: 0.5340 - val_loss: 0.5043\n",
      "Epoch 16/100\n",
      "242/242 [==============================] - 0s 896us/step - loss: 0.5211 - val_loss: 0.4881\n",
      "Epoch 17/100\n",
      "242/242 [==============================] - 0s 877us/step - loss: 0.5090 - val_loss: 0.4771\n",
      "Epoch 18/100\n",
      "242/242 [==============================] - 0s 887us/step - loss: 0.4977 - val_loss: 0.4658\n",
      "Epoch 19/100\n",
      "242/242 [==============================] - 0s 908us/step - loss: 0.4875 - val_loss: 0.4558\n",
      "Epoch 20/100\n",
      "242/242 [==============================] - 0s 896us/step - loss: 0.4783 - val_loss: 0.4463\n",
      "Epoch 21/100\n",
      "242/242 [==============================] - 0s 873us/step - loss: 0.4694 - val_loss: 0.4381\n",
      "Epoch 22/100\n",
      "242/242 [==============================] - 0s 923us/step - loss: 0.4615 - val_loss: 0.4315\n",
      "Epoch 23/100\n",
      "242/242 [==============================] - 0s 881us/step - loss: 0.4543 - val_loss: 0.4286\n",
      "Epoch 24/100\n",
      "242/242 [==============================] - 0s 902us/step - loss: 0.4475 - val_loss: 0.4320\n",
      "Epoch 25/100\n",
      "242/242 [==============================] - 0s 919us/step - loss: 0.4415 - val_loss: 0.4147\n",
      "Epoch 26/100\n",
      "242/242 [==============================] - 0s 852us/step - loss: 0.4359 - val_loss: 0.4114\n",
      "Epoch 27/100\n",
      "242/242 [==============================] - 0s 854us/step - loss: 0.4308 - val_loss: 0.4055\n",
      "Epoch 28/100\n",
      "242/242 [==============================] - 0s 871us/step - loss: 0.4261 - val_loss: 0.4040\n",
      "Epoch 29/100\n",
      "242/242 [==============================] - 0s 883us/step - loss: 0.4217 - val_loss: 0.4125\n",
      "Epoch 30/100\n",
      "242/242 [==============================] - 0s 877us/step - loss: 0.4182 - val_loss: 0.4025\n",
      "Epoch 31/100\n",
      "242/242 [==============================] - 0s 907us/step - loss: 0.4143 - val_loss: 0.3899\n",
      "Epoch 32/100\n",
      "242/242 [==============================] - 0s 872us/step - loss: 0.4111 - val_loss: 0.4014\n",
      "Epoch 33/100\n",
      "242/242 [==============================] - 0s 882us/step - loss: 0.4077 - val_loss: 0.3907\n",
      "Epoch 34/100\n",
      "242/242 [==============================] - 0s 884us/step - loss: 0.4049 - val_loss: 0.4181\n",
      "Epoch 35/100\n",
      "242/242 [==============================] - 0s 903us/step - loss: 0.4026 - val_loss: 0.3968\n",
      "Epoch 36/100\n",
      "242/242 [==============================] - 0s 887us/step - loss: 0.3999 - val_loss: 0.3910\n",
      "Epoch 37/100\n",
      "242/242 [==============================] - 0s 864us/step - loss: 0.3979 - val_loss: 0.3867\n",
      "Epoch 38/100\n",
      "242/242 [==============================] - 0s 905us/step - loss: 0.3956 - val_loss: 0.4084\n",
      "Epoch 39/100\n",
      "242/242 [==============================] - 0s 876us/step - loss: 0.3937 - val_loss: 0.3873\n",
      "Epoch 40/100\n",
      "242/242 [==============================] - 0s 868us/step - loss: 0.3917 - val_loss: 0.3867\n",
      "Epoch 41/100\n",
      "242/242 [==============================] - 0s 905us/step - loss: 0.3897 - val_loss: 0.4190\n",
      "Epoch 42/100\n",
      "242/242 [==============================] - 0s 892us/step - loss: 0.3884 - val_loss: 0.4135\n",
      "Epoch 43/100\n",
      "242/242 [==============================] - 0s 893us/step - loss: 0.3865 - val_loss: 0.3734\n",
      "Epoch 44/100\n",
      "242/242 [==============================] - 0s 915us/step - loss: 0.3854 - val_loss: 0.3958\n",
      "Epoch 45/100\n",
      "242/242 [==============================] - 0s 893us/step - loss: 0.3839 - val_loss: 0.3938\n",
      "Epoch 46/100\n",
      "242/242 [==============================] - 0s 904us/step - loss: 0.3826 - val_loss: 0.3920\n",
      "Epoch 47/100\n",
      "242/242 [==============================] - 0s 870us/step - loss: 0.3813 - val_loss: 0.3705\n",
      "Epoch 48/100\n",
      "242/242 [==============================] - 0s 882us/step - loss: 0.3803 - val_loss: 0.3746\n",
      "Epoch 49/100\n",
      "242/242 [==============================] - 0s 1ms/step - loss: 0.3788 - val_loss: 0.4072\n",
      "Epoch 50/100\n",
      "242/242 [==============================] - 0s 920us/step - loss: 0.3780 - val_loss: 0.4038\n",
      "Epoch 51/100\n",
      "242/242 [==============================] - 0s 866us/step - loss: 0.3767 - val_loss: 0.4065\n",
      "Epoch 52/100\n",
      "242/242 [==============================] - 0s 950us/step - loss: 0.3760 - val_loss: 0.4033\n",
      "Epoch 53/100\n",
      "242/242 [==============================] - 0s 1ms/step - loss: 0.3750 - val_loss: 0.3813\n",
      "Epoch 54/100\n",
      "242/242 [==============================] - 0s 2ms/step - loss: 0.3740 - val_loss: 0.3743\n",
      "Epoch 55/100\n",
      "242/242 [==============================] - 0s 1ms/step - loss: 0.3729 - val_loss: 0.3725\n",
      "Epoch 56/100\n",
      "242/242 [==============================] - 0s 1ms/step - loss: 0.3718 - val_loss: 0.3816\n",
      "Epoch 57/100\n",
      "242/242 [==============================] - 0s 2ms/step - loss: 0.3711 - val_loss: 0.3935\n",
      "121/121 [==============================] - 0s 1ms/step - loss: 0.3714\n",
      "[CV]  n_neurons=89, n_hidden=2, learning_rate=0.0006874732424780455, total=  13.7s\n",
      "[CV] n_neurons=9, n_hidden=0, learning_rate=0.0035153474977444085 ....\n",
      "Epoch 1/100\n",
      "242/242 [==============================] - 1s 3ms/step - loss: 2.0106 - val_loss: 1.1537\n",
      "Epoch 2/100\n",
      "242/242 [==============================] - 0s 2ms/step - loss: 0.5859 - val_loss: 0.5408\n",
      "Epoch 3/100\n",
      "242/242 [==============================] - 0s 2ms/step - loss: 0.5456 - val_loss: 0.5767\n",
      "Epoch 4/100\n",
      "242/242 [==============================] - 0s 2ms/step - loss: 0.5378 - val_loss: 0.5113\n",
      "Epoch 5/100\n",
      "242/242 [==============================] - 0s 1ms/step - loss: 0.5389 - val_loss: 0.5961\n",
      "Epoch 6/100\n",
      "242/242 [==============================] - 0s 2ms/step - loss: 0.5268 - val_loss: 1.3860\n",
      "Epoch 7/100\n"
     ]
    },
    {
     "name": "stdout",
     "output_type": "stream",
     "text": [
      "242/242 [==============================] - 0s 907us/step - loss: 0.5519 - val_loss: 0.5752\n",
      "Epoch 8/100\n",
      "242/242 [==============================] - 0s 1ms/step - loss: 0.5272 - val_loss: 1.0721\n",
      "Epoch 9/100\n",
      "242/242 [==============================] - 0s 2ms/step - loss: 0.5536 - val_loss: 1.4479\n",
      "Epoch 10/100\n",
      "242/242 [==============================] - 0s 2ms/step - loss: 0.5270 - val_loss: 2.4679\n",
      "Epoch 11/100\n",
      "242/242 [==============================] - 0s 2ms/step - loss: 0.5674 - val_loss: 0.6705\n",
      "Epoch 12/100\n",
      "242/242 [==============================] - 0s 1ms/step - loss: 0.5339 - val_loss: 0.5973\n",
      "Epoch 13/100\n",
      "242/242 [==============================] - 0s 1ms/step - loss: 0.5212 - val_loss: 1.8116\n",
      "Epoch 14/100\n",
      "242/242 [==============================] - 0s 1ms/step - loss: 0.5542 - val_loss: 0.5140\n",
      "121/121 [==============================] - 0s 701us/step - loss: 0.5408\n",
      "[CV]  n_neurons=9, n_hidden=0, learning_rate=0.0035153474977444085, total=   6.2s\n",
      "[CV] n_neurons=9, n_hidden=0, learning_rate=0.0035153474977444085 ....\n",
      "Epoch 1/100\n",
      "242/242 [==============================] - 1s 2ms/step - loss: 2.4174 - val_loss: 9.0787\n",
      "Epoch 2/100\n",
      "242/242 [==============================] - 0s 1ms/step - loss: 0.6604 - val_loss: 12.4212\n",
      "Epoch 3/100\n",
      "242/242 [==============================] - 0s 959us/step - loss: 0.5771 - val_loss: 15.5872\n",
      "Epoch 4/100\n",
      "242/242 [==============================] - 0s 1ms/step - loss: 0.5559 - val_loss: 17.7645\n",
      "Epoch 5/100\n",
      "242/242 [==============================] - 0s 1ms/step - loss: 0.5421 - val_loss: 19.3702\n",
      "Epoch 6/100\n",
      "242/242 [==============================] - 0s 1ms/step - loss: 0.5320 - val_loss: 20.5497\n",
      "Epoch 7/100\n",
      "242/242 [==============================] - 0s 963us/step - loss: 0.5242 - val_loss: 21.1989\n",
      "Epoch 8/100\n",
      "242/242 [==============================] - 0s 959us/step - loss: 0.5182 - val_loss: 21.7940\n",
      "Epoch 9/100\n",
      "242/242 [==============================] - 0s 1ms/step - loss: 0.5137 - val_loss: 21.9380\n",
      "Epoch 10/100\n",
      "242/242 [==============================] - 0s 862us/step - loss: 0.5104 - val_loss: 21.3542\n",
      "Epoch 11/100\n",
      "242/242 [==============================] - 0s 865us/step - loss: 0.5079 - val_loss: 21.6824\n",
      "121/121 [==============================] - 0s 643us/step - loss: 1.0214\n",
      "[CV]  n_neurons=9, n_hidden=0, learning_rate=0.0035153474977444085, total=   3.5s\n",
      "[CV] n_neurons=9, n_hidden=0, learning_rate=0.0035153474977444085 ....\n",
      "Epoch 1/100\n",
      "242/242 [==============================] - 0s 1ms/step - loss: 2.2962 - val_loss: 8.3689\n",
      "Epoch 2/100\n",
      "242/242 [==============================] - 0s 804us/step - loss: 0.7641 - val_loss: 4.3903\n",
      "Epoch 3/100\n",
      "242/242 [==============================] - 0s 831us/step - loss: 0.6098 - val_loss: 1.1380\n",
      "Epoch 4/100\n",
      "242/242 [==============================] - 0s 766us/step - loss: 0.5900 - val_loss: 0.6487\n",
      "Epoch 5/100\n",
      "242/242 [==============================] - 0s 839us/step - loss: 0.5752 - val_loss: 2.3869\n",
      "Epoch 6/100\n",
      "242/242 [==============================] - 0s 819us/step - loss: 0.5651 - val_loss: 1.0981\n",
      "Epoch 7/100\n",
      "242/242 [==============================] - 0s 832us/step - loss: 0.5678 - val_loss: 0.7782\n",
      "Epoch 8/100\n",
      "242/242 [==============================] - 0s 895us/step - loss: 0.5376 - val_loss: 2.3410\n",
      "Epoch 9/100\n",
      "242/242 [==============================] - 0s 896us/step - loss: 0.5800 - val_loss: 1.1243\n",
      "Epoch 10/100\n",
      "242/242 [==============================] - 0s 873us/step - loss: 0.5443 - val_loss: 0.7439\n",
      "Epoch 11/100\n",
      "242/242 [==============================] - 0s 830us/step - loss: 0.5307 - val_loss: 2.0203\n",
      "Epoch 12/100\n",
      "242/242 [==============================] - 0s 895us/step - loss: 0.5688 - val_loss: 1.8764\n",
      "Epoch 13/100\n",
      "242/242 [==============================] - 0s 961us/step - loss: 0.5414 - val_loss: 0.5434\n",
      "Epoch 14/100\n",
      "242/242 [==============================] - 0s 831us/step - loss: 0.5374 - val_loss: 0.5331\n",
      "Epoch 15/100\n",
      "242/242 [==============================] - 0s 987us/step - loss: 0.5427 - val_loss: 1.0313\n",
      "Epoch 16/100\n",
      "242/242 [==============================] - 0s 1ms/step - loss: 0.5276 - val_loss: 1.9058\n",
      "Epoch 17/100\n",
      "242/242 [==============================] - 0s 1ms/step - loss: 0.5658 - val_loss: 1.6695\n",
      "Epoch 18/100\n",
      "242/242 [==============================] - 0s 1ms/step - loss: 0.5385 - val_loss: 0.6100\n",
      "Epoch 19/100\n",
      "242/242 [==============================] - 0s 1ms/step - loss: 0.5318 - val_loss: 1.0669\n",
      "Epoch 20/100\n",
      "242/242 [==============================] - 0s 1ms/step - loss: 0.5532 - val_loss: 0.7236\n",
      "Epoch 21/100\n",
      "242/242 [==============================] - 0s 1ms/step - loss: 0.5336 - val_loss: 0.5902\n",
      "Epoch 22/100\n",
      "242/242 [==============================] - 0s 1ms/step - loss: 0.5395 - val_loss: 0.4940\n",
      "Epoch 23/100\n",
      "242/242 [==============================] - 0s 1ms/step - loss: 0.5400 - val_loss: 1.0749\n",
      "Epoch 24/100\n",
      "242/242 [==============================] - 0s 895us/step - loss: 0.5332 - val_loss: 0.6136\n",
      "Epoch 25/100\n",
      "242/242 [==============================] - 0s 951us/step - loss: 0.5417 - val_loss: 0.8811\n",
      "Epoch 26/100\n",
      "242/242 [==============================] - 0s 891us/step - loss: 0.5353 - val_loss: 0.9861\n",
      "Epoch 27/100\n",
      "242/242 [==============================] - 0s 894us/step - loss: 0.5219 - val_loss: 2.8543\n",
      "Epoch 28/100\n",
      "242/242 [==============================] - 0s 988us/step - loss: 0.5763 - val_loss: 1.6780\n",
      "Epoch 29/100\n",
      "242/242 [==============================] - 0s 961us/step - loss: 0.5289 - val_loss: 2.7898\n",
      "Epoch 30/100\n",
      "242/242 [==============================] - 0s 895us/step - loss: 0.5752 - val_loss: 1.3799\n",
      "Epoch 31/100\n",
      "242/242 [==============================] - 0s 965us/step - loss: 0.5271 - val_loss: 1.8520\n",
      "Epoch 32/100\n",
      "242/242 [==============================] - 0s 895us/step - loss: 0.5599 - val_loss: 0.4936\n",
      "Epoch 33/100\n",
      "242/242 [==============================] - 0s 959us/step - loss: 0.5268 - val_loss: 1.0867\n",
      "Epoch 34/100\n",
      "242/242 [==============================] - 0s 985us/step - loss: 0.5439 - val_loss: 0.6853\n",
      "Epoch 35/100\n",
      "242/242 [==============================] - 0s 882us/step - loss: 0.5339 - val_loss: 0.9132\n",
      "Epoch 36/100\n",
      "242/242 [==============================] - 0s 896us/step - loss: 0.5481 - val_loss: 1.4207\n",
      "Epoch 37/100\n",
      "242/242 [==============================] - 0s 896us/step - loss: 0.5381 - val_loss: 0.6756\n",
      "Epoch 38/100\n",
      "242/242 [==============================] - 0s 961us/step - loss: 0.5252 - val_loss: 1.7260\n",
      "Epoch 39/100\n",
      "242/242 [==============================] - 0s 951us/step - loss: 0.5626 - val_loss: 1.0404\n",
      "Epoch 40/100\n",
      "242/242 [==============================] - 0s 897us/step - loss: 0.5313 - val_loss: 0.9749\n",
      "Epoch 41/100\n",
      "242/242 [==============================] - 0s 1ms/step - loss: 0.5383 - val_loss: 0.8129\n",
      "Epoch 42/100\n",
      "242/242 [==============================] - 0s 987us/step - loss: 0.5439 - val_loss: 0.5044\n",
      "121/121 [==============================] - 0s 499us/step - loss: 0.5389\n",
      "[CV]  n_neurons=9, n_hidden=0, learning_rate=0.0035153474977444085, total=  10.4s\n",
      "[CV] n_neurons=19, n_hidden=0, learning_rate=0.003604479243301911 ....\n",
      "Epoch 1/100\n",
      "242/242 [==============================] - 0s 1ms/step - loss: 3.1232 - val_loss: 31.9633\n",
      "Epoch 2/100\n",
      "242/242 [==============================] - 0s 922us/step - loss: 0.8941 - val_loss: 17.4781\n",
      "Epoch 3/100\n",
      "242/242 [==============================] - 0s 857us/step - loss: 0.7839 - val_loss: 12.4281\n",
      "Epoch 4/100\n",
      "242/242 [==============================] - 0s 898us/step - loss: 0.6304 - val_loss: 6.4232\n",
      "Epoch 5/100\n",
      "242/242 [==============================] - 0s 987us/step - loss: 0.6394 - val_loss: 6.2430\n",
      "Epoch 6/100\n",
      "242/242 [==============================] - 0s 983us/step - loss: 0.5827 - val_loss: 7.6907\n",
      "Epoch 7/100\n",
      "242/242 [==============================] - 0s 935us/step - loss: 0.6492 - val_loss: 3.3433\n",
      "Epoch 8/100\n",
      "242/242 [==============================] - 0s 1ms/step - loss: 0.5500 - val_loss: 4.2178\n",
      "Epoch 9/100\n",
      "242/242 [==============================] - 0s 931us/step - loss: 0.6102 - val_loss: 4.3542\n",
      "Epoch 10/100\n",
      "242/242 [==============================] - 0s 962us/step - loss: 0.5551 - val_loss: 5.7173\n",
      "Epoch 11/100\n",
      "242/242 [==============================] - 0s 883us/step - loss: 0.6193 - val_loss: 1.8225\n",
      "Epoch 12/100\n",
      "242/242 [==============================] - 0s 1ms/step - loss: 0.5403 - val_loss: 0.5553\n",
      "Epoch 13/100\n"
     ]
    },
    {
     "name": "stdout",
     "output_type": "stream",
     "text": [
      "242/242 [==============================] - 0s 1ms/step - loss: 0.5303 - val_loss: 1.0297\n",
      "Epoch 14/100\n",
      "242/242 [==============================] - 0s 1ms/step - loss: 0.5410 - val_loss: 0.7255\n",
      "Epoch 15/100\n",
      "242/242 [==============================] - 0s 1ms/step - loss: 0.5459 - val_loss: 0.7824\n",
      "Epoch 16/100\n",
      "242/242 [==============================] - 0s 1ms/step - loss: 0.5261 - val_loss: 1.4996\n",
      "Epoch 17/100\n",
      "242/242 [==============================] - 0s 1ms/step - loss: 0.5550 - val_loss: 0.5147\n",
      "Epoch 18/100\n",
      "242/242 [==============================] - 0s 922us/step - loss: 0.5227 - val_loss: 1.6235\n",
      "Epoch 19/100\n",
      "242/242 [==============================] - 0s 987us/step - loss: 0.5512 - val_loss: 0.5209\n",
      "Epoch 20/100\n",
      "242/242 [==============================] - 0s 1ms/step - loss: 0.5268 - val_loss: 1.1727\n",
      "Epoch 21/100\n",
      "242/242 [==============================] - 0s 1ms/step - loss: 0.5550 - val_loss: 1.4014\n",
      "Epoch 22/100\n",
      "242/242 [==============================] - 0s 1ms/step - loss: 0.5234 - val_loss: 2.9468\n",
      "Epoch 23/100\n",
      "242/242 [==============================] - 0s 1ms/step - loss: 0.5793 - val_loss: 0.8160\n",
      "Epoch 24/100\n",
      "242/242 [==============================] - 0s 1ms/step - loss: 0.5235 - val_loss: 1.7675\n",
      "Epoch 25/100\n",
      "242/242 [==============================] - 0s 1ms/step - loss: 0.5634 - val_loss: 1.0897\n",
      "Epoch 26/100\n",
      "242/242 [==============================] - 0s 960us/step - loss: 0.5332 - val_loss: 0.4941\n",
      "Epoch 27/100\n",
      "242/242 [==============================] - 0s 1ms/step - loss: 0.5220 - val_loss: 1.6318\n",
      "Epoch 28/100\n",
      "242/242 [==============================] - 0s 1ms/step - loss: 0.5624 - val_loss: 2.6225\n",
      "Epoch 29/100\n",
      "242/242 [==============================] - 0s 1ms/step - loss: 0.5344 - val_loss: 3.5425\n",
      "Epoch 30/100\n",
      "242/242 [==============================] - 0s 1ms/step - loss: 0.5860 - val_loss: 2.6600\n",
      "Epoch 31/100\n",
      "242/242 [==============================] - 0s 1ms/step - loss: 0.5361 - val_loss: 1.7029\n",
      "Epoch 32/100\n",
      "242/242 [==============================] - 0s 972us/step - loss: 0.5589 - val_loss: 2.8320\n",
      "Epoch 33/100\n",
      "242/242 [==============================] - 0s 1ms/step - loss: 0.5365 - val_loss: 2.9705\n",
      "Epoch 34/100\n",
      "242/242 [==============================] - 0s 899us/step - loss: 0.5838 - val_loss: 1.6655\n",
      "Epoch 35/100\n",
      "242/242 [==============================] - 0s 896us/step - loss: 0.5356 - val_loss: 0.4973\n",
      "Epoch 36/100\n",
      "242/242 [==============================] - 0s 960us/step - loss: 0.5258 - val_loss: 1.0255\n",
      "121/121 [==============================] - 0s 672us/step - loss: 0.5293\n",
      "[CV]  n_neurons=19, n_hidden=0, learning_rate=0.003604479243301911, total=   9.6s\n",
      "[CV] n_neurons=19, n_hidden=0, learning_rate=0.003604479243301911 ....\n",
      "Epoch 1/100\n",
      "242/242 [==============================] - 1s 2ms/step - loss: 2.1102 - val_loss: 8.2763\n",
      "Epoch 2/100\n",
      "242/242 [==============================] - 0s 897us/step - loss: 0.6771 - val_loss: 0.9840\n",
      "Epoch 3/100\n",
      "242/242 [==============================] - 0s 896us/step - loss: 0.5788 - val_loss: 1.3243\n",
      "Epoch 4/100\n",
      "242/242 [==============================] - 0s 2ms/step - loss: 0.5472 - val_loss: 4.4309\n",
      "Epoch 5/100\n",
      "242/242 [==============================] - 0s 871us/step - loss: 0.5297 - val_loss: 8.1015\n",
      "Epoch 6/100\n",
      "242/242 [==============================] - 0s 860us/step - loss: 0.5195 - val_loss: 11.5027\n",
      "Epoch 7/100\n",
      "242/242 [==============================] - 0s 933us/step - loss: 0.5131 - val_loss: 14.1835\n",
      "Epoch 8/100\n",
      "242/242 [==============================] - 0s 895us/step - loss: 0.5088 - val_loss: 16.4150\n",
      "Epoch 9/100\n",
      "242/242 [==============================] - 0s 873us/step - loss: 0.5060 - val_loss: 17.8815\n",
      "Epoch 10/100\n",
      "242/242 [==============================] - 0s 927us/step - loss: 0.5044 - val_loss: 18.3358\n",
      "Epoch 11/100\n",
      "242/242 [==============================] - 0s 877us/step - loss: 0.5031 - val_loss: 19.4128\n",
      "Epoch 12/100\n",
      "242/242 [==============================] - 0s 840us/step - loss: 0.5018 - val_loss: 20.2276\n",
      "121/121 [==============================] - 0s 623us/step - loss: 0.9868\n",
      "[CV]  n_neurons=19, n_hidden=0, learning_rate=0.003604479243301911, total=   3.3s\n",
      "[CV] n_neurons=19, n_hidden=0, learning_rate=0.003604479243301911 ....\n",
      "Epoch 1/100\n",
      "242/242 [==============================] - 0s 1ms/step - loss: 2.7264 - val_loss: 35.1691\n",
      "Epoch 2/100\n",
      "242/242 [==============================] - 0s 844us/step - loss: 0.8952 - val_loss: 17.1344\n",
      "Epoch 3/100\n",
      "242/242 [==============================] - 0s 852us/step - loss: 0.7639 - val_loss: 12.0601\n",
      "Epoch 4/100\n",
      "242/242 [==============================] - 0s 877us/step - loss: 0.6935 - val_loss: 11.1307\n",
      "Epoch 5/100\n",
      "242/242 [==============================] - 0s 890us/step - loss: 0.6679 - val_loss: 11.8566\n",
      "Epoch 6/100\n",
      "242/242 [==============================] - 0s 886us/step - loss: 0.6406 - val_loss: 5.5397\n",
      "Epoch 7/100\n",
      "242/242 [==============================] - 0s 935us/step - loss: 0.6248 - val_loss: 2.9884\n",
      "Epoch 8/100\n",
      "242/242 [==============================] - 0s 889us/step - loss: 0.5643 - val_loss: 4.8900\n",
      "Epoch 9/100\n",
      "242/242 [==============================] - 0s 919us/step - loss: 0.6204 - val_loss: 2.3173\n",
      "Epoch 10/100\n",
      "242/242 [==============================] - 0s 993us/step - loss: 0.5533 - val_loss: 0.5048\n",
      "Epoch 11/100\n",
      "242/242 [==============================] - 0s 973us/step - loss: 0.5423 - val_loss: 1.3974\n",
      "Epoch 12/100\n",
      "242/242 [==============================] - 0s 856us/step - loss: 0.5660 - val_loss: 1.4768\n",
      "Epoch 13/100\n",
      "242/242 [==============================] - 0s 877us/step - loss: 0.5431 - val_loss: 0.5981\n",
      "Epoch 14/100\n",
      "242/242 [==============================] - 0s 902us/step - loss: 0.5425 - val_loss: 0.5667\n",
      "Epoch 15/100\n",
      "242/242 [==============================] - 0s 924us/step - loss: 0.5487 - val_loss: 1.1032\n",
      "Epoch 16/100\n",
      "242/242 [==============================] - 0s 900us/step - loss: 0.5315 - val_loss: 2.0416\n",
      "Epoch 17/100\n",
      "242/242 [==============================] - 0s 913us/step - loss: 0.5719 - val_loss: 1.8471\n",
      "Epoch 18/100\n",
      "242/242 [==============================] - 0s 931us/step - loss: 0.5427 - val_loss: 0.6718\n",
      "Epoch 19/100\n",
      "242/242 [==============================] - 0s 938us/step - loss: 0.5373 - val_loss: 0.9934\n",
      "Epoch 20/100\n",
      "242/242 [==============================] - 0s 942us/step - loss: 0.5539 - val_loss: 0.7141\n",
      "121/121 [==============================] - 0s 599us/step - loss: 0.5436\n",
      "[CV]  n_neurons=19, n_hidden=0, learning_rate=0.003604479243301911, total=   4.8s\n",
      "[CV] n_neurons=84, n_hidden=0, learning_rate=0.001384886175649522 ....\n",
      "Epoch 1/100\n",
      "242/242 [==============================] - 0s 1ms/step - loss: 4.1949 - val_loss: 4.3415\n",
      "Epoch 2/100\n",
      "242/242 [==============================] - 0s 896us/step - loss: 1.4197 - val_loss: 1.2720\n",
      "Epoch 3/100\n",
      "242/242 [==============================] - 0s 820us/step - loss: 0.7992 - val_loss: 0.8331\n",
      "Epoch 4/100\n",
      "242/242 [==============================] - 0s 850us/step - loss: 0.6368 - val_loss: 0.6975\n",
      "Epoch 5/100\n",
      "242/242 [==============================] - 0s 829us/step - loss: 0.5903 - val_loss: 0.6526\n",
      "Epoch 6/100\n",
      "242/242 [==============================] - 0s 835us/step - loss: 0.5730 - val_loss: 0.8077\n",
      "Epoch 7/100\n",
      "242/242 [==============================] - 0s 905us/step - loss: 0.5677 - val_loss: 0.7828\n",
      "Epoch 8/100\n",
      "242/242 [==============================] - 0s 887us/step - loss: 0.5632 - val_loss: 0.7871\n",
      "Epoch 9/100\n",
      "242/242 [==============================] - 0s 908us/step - loss: 0.5609 - val_loss: 0.6307\n",
      "Epoch 10/100\n",
      "242/242 [==============================] - 0s 1ms/step - loss: 0.5551 - val_loss: 0.7632\n",
      "Epoch 11/100\n",
      "242/242 [==============================] - 0s 1ms/step - loss: 0.5533 - val_loss: 0.7965\n",
      "Epoch 12/100\n",
      "242/242 [==============================] - 0s 1ms/step - loss: 0.5525 - val_loss: 0.5988\n",
      "Epoch 13/100\n",
      "242/242 [==============================] - 0s 1ms/step - loss: 0.5467 - val_loss: 0.7944\n",
      "Epoch 14/100\n",
      "242/242 [==============================] - 0s 981us/step - loss: 0.5459 - val_loss: 0.8712\n",
      "Epoch 15/100\n",
      "242/242 [==============================] - 0s 1ms/step - loss: 0.5469 - val_loss: 0.6575\n",
      "Epoch 16/100\n",
      "242/242 [==============================] - 0s 1ms/step - loss: 0.5424 - val_loss: 0.7393\n",
      "Epoch 17/100\n",
      "242/242 [==============================] - 0s 1ms/step - loss: 0.5414 - val_loss: 0.7640\n",
      "Epoch 18/100\n"
     ]
    },
    {
     "name": "stdout",
     "output_type": "stream",
     "text": [
      "242/242 [==============================] - 0s 1ms/step - loss: 0.5396 - val_loss: 0.8240\n",
      "Epoch 19/100\n",
      "242/242 [==============================] - 0s 1ms/step - loss: 0.5386 - val_loss: 0.8504\n",
      "Epoch 20/100\n",
      "242/242 [==============================] - 0s 931us/step - loss: 0.5380 - val_loss: 0.8374\n",
      "Epoch 21/100\n",
      "242/242 [==============================] - 0s 968us/step - loss: 0.5388 - val_loss: 0.6320\n",
      "Epoch 22/100\n",
      "242/242 [==============================] - 0s 956us/step - loss: 0.5344 - val_loss: 0.7588\n",
      "121/121 [==============================] - 0s 590us/step - loss: 0.5347\n",
      "[CV]  n_neurons=84, n_hidden=0, learning_rate=0.001384886175649522, total=   5.7s\n",
      "[CV] n_neurons=84, n_hidden=0, learning_rate=0.001384886175649522 ....\n",
      "Epoch 1/100\n",
      "242/242 [==============================] - 0s 1ms/step - loss: 5.1426 - val_loss: 13.1288\n",
      "Epoch 2/100\n",
      "242/242 [==============================] - 0s 940us/step - loss: 1.6529 - val_loss: 14.3075\n",
      "Epoch 3/100\n",
      "242/242 [==============================] - 0s 868us/step - loss: 0.8714 - val_loss: 15.6450\n",
      "Epoch 4/100\n",
      "242/242 [==============================] - 0s 935us/step - loss: 0.6675 - val_loss: 16.7645\n",
      "Epoch 5/100\n",
      "242/242 [==============================] - 0s 938us/step - loss: 0.6062 - val_loss: 17.7236\n",
      "Epoch 6/100\n",
      "242/242 [==============================] - 0s 885us/step - loss: 0.5832 - val_loss: 18.5697\n",
      "Epoch 7/100\n",
      "242/242 [==============================] - 0s 911us/step - loss: 0.5712 - val_loss: 19.2793\n",
      "Epoch 8/100\n",
      "242/242 [==============================] - 0s 1ms/step - loss: 0.5628 - val_loss: 19.9352\n",
      "Epoch 9/100\n",
      "242/242 [==============================] - 0s 1ms/step - loss: 0.5559 - val_loss: 20.4607\n",
      "Epoch 10/100\n",
      "242/242 [==============================] - 0s 1ms/step - loss: 0.5500 - val_loss: 20.8043\n",
      "Epoch 11/100\n",
      "242/242 [==============================] - 0s 1ms/step - loss: 0.5447 - val_loss: 21.2378\n",
      "121/121 [==============================] - 0s 706us/step - loss: 1.0409\n",
      "[CV]  n_neurons=84, n_hidden=0, learning_rate=0.001384886175649522, total=   3.2s\n",
      "[CV] n_neurons=84, n_hidden=0, learning_rate=0.001384886175649522 ....\n",
      "Epoch 1/100\n",
      "242/242 [==============================] - 1s 1ms/step - loss: 5.6940 - val_loss: 4.5619\n",
      "Epoch 2/100\n",
      "242/242 [==============================] - 0s 1ms/step - loss: 1.6302 - val_loss: 1.3337\n",
      "Epoch 3/100\n",
      "242/242 [==============================] - 0s 1ms/step - loss: 0.8717 - val_loss: 0.8277\n",
      "Epoch 4/100\n",
      "242/242 [==============================] - 0s 1ms/step - loss: 0.6836 - val_loss: 0.9260\n",
      "Epoch 5/100\n",
      "242/242 [==============================] - 0s 1ms/step - loss: 0.6331 - val_loss: 0.6435\n",
      "Epoch 6/100\n",
      "242/242 [==============================] - 0s 1ms/step - loss: 0.6132 - val_loss: 0.6942\n",
      "Epoch 7/100\n",
      "242/242 [==============================] - 0s 1ms/step - loss: 0.6027 - val_loss: 0.7179\n",
      "Epoch 8/100\n",
      "242/242 [==============================] - 0s 1ms/step - loss: 0.5942 - val_loss: 0.8952\n",
      "Epoch 9/100\n",
      "242/242 [==============================] - 0s 1ms/step - loss: 0.5908 - val_loss: 0.7503\n",
      "Epoch 10/100\n",
      "242/242 [==============================] - 0s 1ms/step - loss: 0.5840 - val_loss: 0.5917\n",
      "Epoch 11/100\n",
      "242/242 [==============================] - 0s 1ms/step - loss: 0.5772 - val_loss: 0.8204\n",
      "Epoch 12/100\n",
      "242/242 [==============================] - 0s 1ms/step - loss: 0.5760 - val_loss: 0.6576\n",
      "Epoch 13/100\n",
      "242/242 [==============================] - 0s 1ms/step - loss: 0.5704 - val_loss: 0.5787\n",
      "Epoch 14/100\n",
      "242/242 [==============================] - 0s 1ms/step - loss: 0.5668 - val_loss: 0.6574\n",
      "Epoch 15/100\n",
      "242/242 [==============================] - 0s 1ms/step - loss: 0.5640 - val_loss: 0.5963\n",
      "Epoch 16/100\n",
      "242/242 [==============================] - 0s 1ms/step - loss: 0.5589 - val_loss: 0.7571\n",
      "Epoch 17/100\n",
      "242/242 [==============================] - 0s 981us/step - loss: 0.5588 - val_loss: 0.6341\n",
      "Epoch 18/100\n",
      "242/242 [==============================] - 0s 1ms/step - loss: 0.5556 - val_loss: 0.6009\n",
      "Epoch 19/100\n",
      "242/242 [==============================] - 0s 977us/step - loss: 0.5511 - val_loss: 0.8087\n",
      "Epoch 20/100\n",
      "242/242 [==============================] - 0s 927us/step - loss: 0.5523 - val_loss: 0.6778\n",
      "Epoch 21/100\n",
      "242/242 [==============================] - 0s 927us/step - loss: 0.5493 - val_loss: 0.6544\n",
      "Epoch 22/100\n",
      "242/242 [==============================] - 0s 935us/step - loss: 0.5473 - val_loss: 0.6750\n",
      "Epoch 23/100\n",
      "242/242 [==============================] - 0s 935us/step - loss: 0.5468 - val_loss: 0.5674\n",
      "Epoch 24/100\n",
      "242/242 [==============================] - 0s 923us/step - loss: 0.5441 - val_loss: 0.5981\n",
      "Epoch 25/100\n",
      "242/242 [==============================] - 0s 927us/step - loss: 0.5433 - val_loss: 0.5847\n",
      "Epoch 26/100\n",
      "242/242 [==============================] - 0s 906us/step - loss: 0.5419 - val_loss: 0.5285\n",
      "Epoch 27/100\n",
      "242/242 [==============================] - 0s 894us/step - loss: 0.5378 - val_loss: 0.7756\n",
      "Epoch 28/100\n",
      "242/242 [==============================] - 0s 894us/step - loss: 0.5412 - val_loss: 0.6428\n",
      "Epoch 29/100\n",
      "242/242 [==============================] - 0s 963us/step - loss: 0.5376 - val_loss: 0.7517\n",
      "Epoch 30/100\n",
      "242/242 [==============================] - 0s 921us/step - loss: 0.5393 - val_loss: 0.6557\n",
      "Epoch 31/100\n",
      "242/242 [==============================] - 0s 968us/step - loss: 0.5362 - val_loss: 0.7029\n",
      "Epoch 32/100\n",
      "242/242 [==============================] - 0s 919us/step - loss: 0.5363 - val_loss: 0.7681\n",
      "Epoch 33/100\n",
      "242/242 [==============================] - 0s 939us/step - loss: 0.5358 - val_loss: 0.7714\n",
      "Epoch 34/100\n",
      "242/242 [==============================] - 0s 973us/step - loss: 0.5356 - val_loss: 0.8088\n",
      "Epoch 35/100\n",
      "242/242 [==============================] - 0s 925us/step - loss: 0.5353 - val_loss: 0.8063\n",
      "Epoch 36/100\n",
      "242/242 [==============================] - 0s 898us/step - loss: 0.5363 - val_loss: 0.5774\n",
      "121/121 [==============================] - 0s 565us/step - loss: 0.5343\n",
      "[CV]  n_neurons=84, n_hidden=0, learning_rate=0.001384886175649522, total=   9.5s\n",
      "[CV] n_neurons=60, n_hidden=1, learning_rate=0.000407717619148505 ....\n",
      "Epoch 1/100\n",
      "242/242 [==============================] - 1s 1ms/step - loss: 3.9199 - val_loss: 5.9893\n",
      "Epoch 2/100\n",
      "242/242 [==============================] - 0s 1ms/step - loss: 1.9491 - val_loss: 4.6896\n",
      "Epoch 3/100\n",
      "242/242 [==============================] - 0s 1ms/step - loss: 1.2752 - val_loss: 2.8706\n",
      "Epoch 4/100\n",
      "242/242 [==============================] - 0s 977us/step - loss: 0.9744 - val_loss: 1.6622\n",
      "Epoch 5/100\n",
      "242/242 [==============================] - 0s 960us/step - loss: 0.8264 - val_loss: 1.0527\n",
      "Epoch 6/100\n",
      "242/242 [==============================] - 0s 919us/step - loss: 0.7494 - val_loss: 0.8011\n",
      "Epoch 7/100\n",
      "242/242 [==============================] - 0s 919us/step - loss: 0.7067 - val_loss: 0.6886\n",
      "Epoch 8/100\n",
      "242/242 [==============================] - 0s 1ms/step - loss: 0.6809 - val_loss: 0.6421\n",
      "Epoch 9/100\n",
      "242/242 [==============================] - 0s 926us/step - loss: 0.6635 - val_loss: 0.6232\n",
      "Epoch 10/100\n",
      "242/242 [==============================] - 0s 796us/step - loss: 0.6501 - val_loss: 0.6100\n",
      "Epoch 11/100\n",
      "242/242 [==============================] - 0s 1ms/step - loss: 0.6390 - val_loss: 0.6017\n",
      "Epoch 12/100\n",
      "242/242 [==============================] - 0s 1ms/step - loss: 0.6293 - val_loss: 0.5906\n",
      "Epoch 13/100\n",
      "242/242 [==============================] - 0s 920us/step - loss: 0.6202 - val_loss: 0.5848\n",
      "Epoch 14/100\n",
      "242/242 [==============================] - 0s 796us/step - loss: 0.6119 - val_loss: 0.5777\n",
      "Epoch 15/100\n",
      "242/242 [==============================] - 0s 828us/step - loss: 0.6041 - val_loss: 0.5675\n",
      "Epoch 16/100\n",
      "242/242 [==============================] - 0s 866us/step - loss: 0.5964 - val_loss: 0.5628\n",
      "Epoch 17/100\n",
      "242/242 [==============================] - 0s 863us/step - loss: 0.5893 - val_loss: 0.5550\n",
      "Epoch 18/100\n",
      "242/242 [==============================] - 0s 813us/step - loss: 0.5823 - val_loss: 0.5501\n",
      "Epoch 19/100\n",
      "242/242 [==============================] - 0s 823us/step - loss: 0.5758 - val_loss: 0.5435\n",
      "Epoch 20/100\n",
      "242/242 [==============================] - 0s 795us/step - loss: 0.5695 - val_loss: 0.5390\n",
      "Epoch 21/100\n",
      "242/242 [==============================] - 0s 811us/step - loss: 0.5636 - val_loss: 0.5297\n",
      "Epoch 22/100\n"
     ]
    },
    {
     "name": "stdout",
     "output_type": "stream",
     "text": [
      "242/242 [==============================] - 0s 770us/step - loss: 0.5578 - val_loss: 0.5255\n",
      "Epoch 23/100\n",
      "242/242 [==============================] - 0s 799us/step - loss: 0.5522 - val_loss: 0.5210\n",
      "Epoch 24/100\n",
      "242/242 [==============================] - 0s 829us/step - loss: 0.5469 - val_loss: 0.5169\n",
      "Epoch 25/100\n",
      "242/242 [==============================] - 0s 807us/step - loss: 0.5420 - val_loss: 0.5096\n",
      "Epoch 26/100\n",
      "242/242 [==============================] - 0s 794us/step - loss: 0.5371 - val_loss: 0.5019\n",
      "Epoch 27/100\n",
      "242/242 [==============================] - 0s 773us/step - loss: 0.5323 - val_loss: 0.5000\n",
      "Epoch 28/100\n",
      "242/242 [==============================] - 0s 1ms/step - loss: 0.5281 - val_loss: 0.4928\n",
      "Epoch 29/100\n",
      "242/242 [==============================] - 0s 1ms/step - loss: 0.5236 - val_loss: 0.4890\n",
      "Epoch 30/100\n",
      "242/242 [==============================] - 0s 786us/step - loss: 0.5195 - val_loss: 0.4849\n",
      "Epoch 31/100\n",
      "242/242 [==============================] - 0s 789us/step - loss: 0.5156 - val_loss: 0.4815\n",
      "Epoch 32/100\n",
      "242/242 [==============================] - 0s 1ms/step - loss: 0.5118 - val_loss: 0.4767\n",
      "Epoch 33/100\n",
      "242/242 [==============================] - 0s 985us/step - loss: 0.5081 - val_loss: 0.4731\n",
      "Epoch 34/100\n",
      "242/242 [==============================] - 0s 847us/step - loss: 0.5046 - val_loss: 0.4693\n",
      "Epoch 35/100\n",
      "242/242 [==============================] - 0s 809us/step - loss: 0.5012 - val_loss: 0.4657\n",
      "Epoch 36/100\n",
      "242/242 [==============================] - 0s 895us/step - loss: 0.4979 - val_loss: 0.4630\n",
      "Epoch 37/100\n",
      "242/242 [==============================] - 0s 770us/step - loss: 0.4948 - val_loss: 0.4591\n",
      "Epoch 38/100\n",
      "242/242 [==============================] - 0s 762us/step - loss: 0.4917 - val_loss: 0.4566\n",
      "Epoch 39/100\n",
      "242/242 [==============================] - 0s 833us/step - loss: 0.4887 - val_loss: 0.4534\n",
      "Epoch 40/100\n",
      "242/242 [==============================] - 0s 964us/step - loss: 0.4859 - val_loss: 0.4506\n",
      "Epoch 41/100\n",
      "242/242 [==============================] - 0s 855us/step - loss: 0.4831 - val_loss: 0.4483\n",
      "Epoch 42/100\n",
      "242/242 [==============================] - 0s 895us/step - loss: 0.4804 - val_loss: 0.4454\n",
      "Epoch 43/100\n",
      "242/242 [==============================] - 0s 776us/step - loss: 0.4778 - val_loss: 0.4429\n",
      "Epoch 44/100\n",
      "242/242 [==============================] - 0s 789us/step - loss: 0.4752 - val_loss: 0.4405\n",
      "Epoch 45/100\n",
      "242/242 [==============================] - 0s 813us/step - loss: 0.4728 - val_loss: 0.4383\n",
      "Epoch 46/100\n",
      "242/242 [==============================] - 0s 784us/step - loss: 0.4704 - val_loss: 0.4360\n",
      "Epoch 47/100\n",
      "242/242 [==============================] - 0s 836us/step - loss: 0.4682 - val_loss: 0.4337\n",
      "Epoch 48/100\n",
      "242/242 [==============================] - 0s 784us/step - loss: 0.4659 - val_loss: 0.4316\n",
      "Epoch 49/100\n",
      "242/242 [==============================] - 0s 831us/step - loss: 0.4638 - val_loss: 0.4295\n",
      "Epoch 50/100\n",
      "242/242 [==============================] - 0s 765us/step - loss: 0.4617 - val_loss: 0.4275\n",
      "Epoch 51/100\n",
      "242/242 [==============================] - 0s 895us/step - loss: 0.4597 - val_loss: 0.4256\n",
      "Epoch 52/100\n",
      "242/242 [==============================] - 0s 769us/step - loss: 0.4577 - val_loss: 0.4237\n",
      "Epoch 53/100\n",
      "242/242 [==============================] - 0s 869us/step - loss: 0.4558 - val_loss: 0.4221\n",
      "Epoch 54/100\n",
      "242/242 [==============================] - 0s 855us/step - loss: 0.4538 - val_loss: 0.4201\n",
      "Epoch 55/100\n",
      "242/242 [==============================] - 0s 749us/step - loss: 0.4520 - val_loss: 0.4185\n",
      "Epoch 56/100\n",
      "242/242 [==============================] - 0s 753us/step - loss: 0.4501 - val_loss: 0.4171\n",
      "Epoch 57/100\n",
      "242/242 [==============================] - 0s 829us/step - loss: 0.4484 - val_loss: 0.4150\n",
      "Epoch 58/100\n",
      "242/242 [==============================] - 0s 735us/step - loss: 0.4466 - val_loss: 0.4138\n",
      "Epoch 59/100\n",
      "242/242 [==============================] - 0s 831us/step - loss: 0.4450 - val_loss: 0.4121\n",
      "Epoch 60/100\n",
      "242/242 [==============================] - 0s 762us/step - loss: 0.4433 - val_loss: 0.4107\n",
      "Epoch 61/100\n",
      "242/242 [==============================] - 0s 761us/step - loss: 0.4418 - val_loss: 0.4095\n",
      "Epoch 62/100\n",
      "242/242 [==============================] - 0s 762us/step - loss: 0.4402 - val_loss: 0.4081\n",
      "Epoch 63/100\n",
      "242/242 [==============================] - 0s 808us/step - loss: 0.4388 - val_loss: 0.4068\n",
      "Epoch 64/100\n",
      "242/242 [==============================] - 0s 804us/step - loss: 0.4373 - val_loss: 0.4063\n",
      "Epoch 65/100\n",
      "242/242 [==============================] - 0s 761us/step - loss: 0.4359 - val_loss: 0.4052\n",
      "Epoch 66/100\n",
      "242/242 [==============================] - 0s 756us/step - loss: 0.4345 - val_loss: 0.4033\n",
      "Epoch 67/100\n",
      "242/242 [==============================] - 0s 788us/step - loss: 0.4332 - val_loss: 0.4026\n",
      "Epoch 68/100\n",
      "242/242 [==============================] - 0s 846us/step - loss: 0.4319 - val_loss: 0.4025\n",
      "Epoch 69/100\n",
      "242/242 [==============================] - 0s 830us/step - loss: 0.4307 - val_loss: 0.4009\n",
      "Epoch 70/100\n",
      "242/242 [==============================] - 0s 765us/step - loss: 0.4294 - val_loss: 0.3996\n",
      "Epoch 71/100\n",
      "242/242 [==============================] - 0s 764us/step - loss: 0.4283 - val_loss: 0.3994\n",
      "Epoch 72/100\n",
      "242/242 [==============================] - 0s 884us/step - loss: 0.4273 - val_loss: 0.3987\n",
      "Epoch 73/100\n",
      "242/242 [==============================] - 0s 766us/step - loss: 0.4262 - val_loss: 0.3971\n",
      "Epoch 74/100\n",
      "242/242 [==============================] - 0s 825us/step - loss: 0.4252 - val_loss: 0.3967\n",
      "Epoch 75/100\n",
      "242/242 [==============================] - 0s 812us/step - loss: 0.4242 - val_loss: 0.3963\n",
      "Epoch 76/100\n",
      "242/242 [==============================] - 0s 896us/step - loss: 0.4232 - val_loss: 0.3949\n",
      "Epoch 77/100\n",
      "242/242 [==============================] - 0s 790us/step - loss: 0.4224 - val_loss: 0.3944\n",
      "Epoch 78/100\n",
      "242/242 [==============================] - 0s 830us/step - loss: 0.4215 - val_loss: 0.3942\n",
      "Epoch 79/100\n",
      "242/242 [==============================] - 0s 831us/step - loss: 0.4206 - val_loss: 0.3940\n",
      "Epoch 80/100\n",
      "242/242 [==============================] - 0s 830us/step - loss: 0.4197 - val_loss: 0.3924\n",
      "Epoch 81/100\n",
      "242/242 [==============================] - 0s 768us/step - loss: 0.4189 - val_loss: 0.3928\n",
      "Epoch 82/100\n",
      "242/242 [==============================] - 0s 766us/step - loss: 0.4181 - val_loss: 0.3934\n",
      "Epoch 83/100\n",
      "242/242 [==============================] - 0s 836us/step - loss: 0.4173 - val_loss: 0.3922\n",
      "Epoch 84/100\n",
      "242/242 [==============================] - 0s 810us/step - loss: 0.4165 - val_loss: 0.3924\n",
      "Epoch 85/100\n",
      "242/242 [==============================] - 0s 845us/step - loss: 0.4158 - val_loss: 0.3909\n",
      "Epoch 86/100\n",
      "242/242 [==============================] - 0s 831us/step - loss: 0.4150 - val_loss: 0.3920\n",
      "Epoch 87/100\n",
      "242/242 [==============================] - 0s 767us/step - loss: 0.4144 - val_loss: 0.3898\n",
      "Epoch 88/100\n",
      "242/242 [==============================] - 0s 833us/step - loss: 0.4136 - val_loss: 0.3883\n",
      "Epoch 89/100\n",
      "242/242 [==============================] - 0s 831us/step - loss: 0.4129 - val_loss: 0.3878\n",
      "Epoch 90/100\n",
      "242/242 [==============================] - 0s 765us/step - loss: 0.4122 - val_loss: 0.3887\n",
      "Epoch 91/100\n",
      "242/242 [==============================] - 0s 808us/step - loss: 0.4116 - val_loss: 0.3868\n",
      "Epoch 92/100\n",
      "242/242 [==============================] - 0s 775us/step - loss: 0.4110 - val_loss: 0.3861\n",
      "Epoch 93/100\n",
      "242/242 [==============================] - 0s 772us/step - loss: 0.4103 - val_loss: 0.3860\n",
      "Epoch 94/100\n",
      "242/242 [==============================] - 0s 863us/step - loss: 0.4097 - val_loss: 0.3854\n",
      "Epoch 95/100\n",
      "242/242 [==============================] - 0s 777us/step - loss: 0.4091 - val_loss: 0.3850\n",
      "Epoch 96/100\n",
      "242/242 [==============================] - 0s 762us/step - loss: 0.4085 - val_loss: 0.3849\n",
      "Epoch 97/100\n",
      "242/242 [==============================] - 0s 845us/step - loss: 0.4079 - val_loss: 0.3835\n",
      "Epoch 98/100\n",
      "242/242 [==============================] - 0s 738us/step - loss: 0.4073 - val_loss: 0.3826\n",
      "Epoch 99/100\n",
      "242/242 [==============================] - 0s 748us/step - loss: 0.4067 - val_loss: 0.3851\n",
      "Epoch 100/100\n",
      "242/242 [==============================] - 0s 831us/step - loss: 0.4062 - val_loss: 0.3830\n"
     ]
    },
    {
     "name": "stdout",
     "output_type": "stream",
     "text": [
      "121/121 [==============================] - 0s 493us/step - loss: 0.4154\n",
      "[CV]  n_neurons=60, n_hidden=1, learning_rate=0.000407717619148505, total=  21.1s\n",
      "[CV] n_neurons=60, n_hidden=1, learning_rate=0.000407717619148505 ....\n",
      "Epoch 1/100\n",
      "242/242 [==============================] - 0s 1ms/step - loss: 2.9746 - val_loss: 11.6793\n",
      "Epoch 2/100\n",
      "242/242 [==============================] - 0s 853us/step - loss: 1.5661 - val_loss: 14.3838\n",
      "Epoch 3/100\n",
      "242/242 [==============================] - 0s 839us/step - loss: 1.0865 - val_loss: 14.6046\n",
      "Epoch 4/100\n",
      "242/242 [==============================] - 0s 753us/step - loss: 0.9061 - val_loss: 13.4416\n",
      "Epoch 5/100\n",
      "242/242 [==============================] - 0s 830us/step - loss: 0.8234 - val_loss: 11.7722\n",
      "Epoch 6/100\n",
      "242/242 [==============================] - 0s 831us/step - loss: 0.7760 - val_loss: 10.1187\n",
      "Epoch 7/100\n",
      "242/242 [==============================] - 0s 766us/step - loss: 0.7437 - val_loss: 8.6227\n",
      "Epoch 8/100\n",
      "242/242 [==============================] - 0s 765us/step - loss: 0.7192 - val_loss: 7.2713\n",
      "Epoch 9/100\n",
      "242/242 [==============================] - 0s 834us/step - loss: 0.6993 - val_loss: 6.1399\n",
      "Epoch 10/100\n",
      "242/242 [==============================] - 0s 792us/step - loss: 0.6822 - val_loss: 5.1610\n",
      "Epoch 11/100\n",
      "242/242 [==============================] - 0s 829us/step - loss: 0.6671 - val_loss: 4.3269\n",
      "Epoch 12/100\n",
      "242/242 [==============================] - 0s 795us/step - loss: 0.6534 - val_loss: 3.5769\n",
      "Epoch 13/100\n",
      "242/242 [==============================] - 0s 832us/step - loss: 0.6408 - val_loss: 2.9610\n",
      "Epoch 14/100\n",
      "242/242 [==============================] - 0s 751us/step - loss: 0.6292 - val_loss: 2.4599\n",
      "Epoch 15/100\n",
      "242/242 [==============================] - 0s 790us/step - loss: 0.6183 - val_loss: 2.0285\n",
      "Epoch 16/100\n",
      "242/242 [==============================] - 0s 765us/step - loss: 0.6081 - val_loss: 1.7114\n",
      "Epoch 17/100\n",
      "242/242 [==============================] - 0s 832us/step - loss: 0.5984 - val_loss: 1.4459\n",
      "Epoch 18/100\n",
      "242/242 [==============================] - 0s 744us/step - loss: 0.5893 - val_loss: 1.2270\n",
      "Epoch 19/100\n",
      "242/242 [==============================] - 0s 775us/step - loss: 0.5806 - val_loss: 1.0478\n",
      "Epoch 20/100\n",
      "242/242 [==============================] - 0s 811us/step - loss: 0.5724 - val_loss: 0.9035\n",
      "Epoch 21/100\n",
      "242/242 [==============================] - 0s 796us/step - loss: 0.5645 - val_loss: 0.7848\n",
      "Epoch 22/100\n",
      "242/242 [==============================] - 0s 822us/step - loss: 0.5570 - val_loss: 0.6973\n",
      "Epoch 23/100\n",
      "242/242 [==============================] - 0s 789us/step - loss: 0.5498 - val_loss: 0.6277\n",
      "Epoch 24/100\n",
      "242/242 [==============================] - 0s 753us/step - loss: 0.5428 - val_loss: 0.5774\n",
      "Epoch 25/100\n",
      "242/242 [==============================] - 0s 730us/step - loss: 0.5362 - val_loss: 0.5409\n",
      "Epoch 26/100\n",
      "242/242 [==============================] - 0s 737us/step - loss: 0.5299 - val_loss: 0.5181\n",
      "Epoch 27/100\n",
      "242/242 [==============================] - 0s 830us/step - loss: 0.5239 - val_loss: 0.5061\n",
      "Epoch 28/100\n",
      "242/242 [==============================] - 0s 757us/step - loss: 0.5183 - val_loss: 0.5030\n",
      "Epoch 29/100\n",
      "242/242 [==============================] - 0s 1ms/step - loss: 0.5127 - val_loss: 0.5055\n",
      "Epoch 30/100\n",
      "242/242 [==============================] - 0s 832us/step - loss: 0.5077 - val_loss: 0.5151\n",
      "Epoch 31/100\n",
      "242/242 [==============================] - 0s 795us/step - loss: 0.5028 - val_loss: 0.5313\n",
      "Epoch 32/100\n",
      "242/242 [==============================] - 0s 771us/step - loss: 0.4982 - val_loss: 0.5479\n",
      "Epoch 33/100\n",
      "242/242 [==============================] - 0s 833us/step - loss: 0.4938 - val_loss: 0.5686\n",
      "Epoch 34/100\n",
      "242/242 [==============================] - 0s 820us/step - loss: 0.4896 - val_loss: 0.5852\n",
      "Epoch 35/100\n",
      "242/242 [==============================] - 0s 824us/step - loss: 0.4858 - val_loss: 0.6042\n",
      "Epoch 36/100\n",
      "242/242 [==============================] - 0s 782us/step - loss: 0.4821 - val_loss: 0.6286\n",
      "Epoch 37/100\n",
      "242/242 [==============================] - 0s 844us/step - loss: 0.4787 - val_loss: 0.6481\n",
      "Epoch 38/100\n",
      "242/242 [==============================] - 0s 850us/step - loss: 0.4754 - val_loss: 0.6695\n",
      "121/121 [==============================] - 0s 489us/step - loss: 0.4851\n",
      "[CV]  n_neurons=60, n_hidden=1, learning_rate=0.000407717619148505, total=   7.9s\n",
      "[CV] n_neurons=60, n_hidden=1, learning_rate=0.000407717619148505 ....\n",
      "Epoch 1/100\n",
      "242/242 [==============================] - 0s 1ms/step - loss: 3.4932 - val_loss: 2.3588\n",
      "Epoch 2/100\n",
      "242/242 [==============================] - 0s 811us/step - loss: 1.5759 - val_loss: 1.5891\n",
      "Epoch 3/100\n",
      "242/242 [==============================] - 0s 800us/step - loss: 1.0011 - val_loss: 1.1398\n",
      "Epoch 4/100\n",
      "242/242 [==============================] - 0s 796us/step - loss: 0.8090 - val_loss: 0.8897\n",
      "Epoch 5/100\n",
      "242/242 [==============================] - 0s 831us/step - loss: 0.7367 - val_loss: 0.7626\n",
      "Epoch 6/100\n",
      "242/242 [==============================] - 0s 782us/step - loss: 0.7027 - val_loss: 0.6935\n",
      "Epoch 7/100\n",
      "242/242 [==============================] - 0s 801us/step - loss: 0.6816 - val_loss: 0.6550\n",
      "Epoch 8/100\n",
      "242/242 [==============================] - 0s 819us/step - loss: 0.6657 - val_loss: 0.6298\n",
      "Epoch 9/100\n",
      "242/242 [==============================] - 0s 814us/step - loss: 0.6523 - val_loss: 0.6149\n",
      "Epoch 10/100\n",
      "242/242 [==============================] - 0s 785us/step - loss: 0.6404 - val_loss: 0.6024\n",
      "Epoch 11/100\n",
      "242/242 [==============================] - 0s 765us/step - loss: 0.6293 - val_loss: 0.5909\n",
      "Epoch 12/100\n",
      "242/242 [==============================] - 0s 831us/step - loss: 0.6190 - val_loss: 0.5805\n",
      "Epoch 13/100\n",
      "242/242 [==============================] - 0s 776us/step - loss: 0.6093 - val_loss: 0.5711\n",
      "Epoch 14/100\n",
      "242/242 [==============================] - 0s 788us/step - loss: 0.6000 - val_loss: 0.5626\n",
      "Epoch 15/100\n",
      "242/242 [==============================] - 0s 802us/step - loss: 0.5912 - val_loss: 0.5544\n",
      "Epoch 16/100\n",
      "242/242 [==============================] - 0s 849us/step - loss: 0.5828 - val_loss: 0.5459\n",
      "Epoch 17/100\n",
      "242/242 [==============================] - 0s 778us/step - loss: 0.5748 - val_loss: 0.5388\n",
      "Epoch 18/100\n",
      "242/242 [==============================] - 0s 801us/step - loss: 0.5672 - val_loss: 0.5318\n",
      "Epoch 19/100\n",
      "242/242 [==============================] - 0s 756us/step - loss: 0.5599 - val_loss: 0.5242\n",
      "Epoch 20/100\n",
      "242/242 [==============================] - 0s 761us/step - loss: 0.5530 - val_loss: 0.5181\n",
      "Epoch 21/100\n",
      "242/242 [==============================] - 0s 830us/step - loss: 0.5462 - val_loss: 0.5116\n",
      "Epoch 22/100\n",
      "242/242 [==============================] - 0s 829us/step - loss: 0.5398 - val_loss: 0.5057\n",
      "Epoch 23/100\n",
      "242/242 [==============================] - 0s 849us/step - loss: 0.5337 - val_loss: 0.5005\n",
      "Epoch 24/100\n",
      "242/242 [==============================] - 0s 811us/step - loss: 0.5278 - val_loss: 0.4963\n",
      "Epoch 25/100\n",
      "242/242 [==============================] - 0s 863us/step - loss: 0.5222 - val_loss: 0.4907\n",
      "Epoch 26/100\n",
      "242/242 [==============================] - 0s 795us/step - loss: 0.5168 - val_loss: 0.4858\n",
      "Epoch 27/100\n",
      "242/242 [==============================] - 0s 926us/step - loss: 0.5117 - val_loss: 0.4804\n",
      "Epoch 28/100\n",
      "242/242 [==============================] - 0s 858us/step - loss: 0.5069 - val_loss: 0.4762\n",
      "Epoch 29/100\n",
      "242/242 [==============================] - 0s 828us/step - loss: 0.5022 - val_loss: 0.4727\n",
      "Epoch 30/100\n",
      "242/242 [==============================] - 0s 818us/step - loss: 0.4978 - val_loss: 0.4687\n",
      "Epoch 31/100\n",
      "242/242 [==============================] - 0s 815us/step - loss: 0.4935 - val_loss: 0.4638\n",
      "Epoch 32/100\n",
      "242/242 [==============================] - 0s 831us/step - loss: 0.4895 - val_loss: 0.4607\n",
      "Epoch 33/100\n",
      "242/242 [==============================] - 0s 840us/step - loss: 0.4856 - val_loss: 0.4568\n",
      "Epoch 34/100\n",
      "242/242 [==============================] - 0s 807us/step - loss: 0.4821 - val_loss: 0.4549\n",
      "Epoch 35/100\n",
      "242/242 [==============================] - 0s 826us/step - loss: 0.4786 - val_loss: 0.4520\n",
      "Epoch 36/100\n",
      "242/242 [==============================] - 0s 822us/step - loss: 0.4753 - val_loss: 0.4497\n",
      "Epoch 37/100\n"
     ]
    },
    {
     "name": "stdout",
     "output_type": "stream",
     "text": [
      "242/242 [==============================] - 0s 831us/step - loss: 0.4723 - val_loss: 0.4475\n",
      "Epoch 38/100\n",
      "242/242 [==============================] - 0s 890us/step - loss: 0.4693 - val_loss: 0.4454\n",
      "Epoch 39/100\n",
      "242/242 [==============================] - 0s 827us/step - loss: 0.4665 - val_loss: 0.4429\n",
      "Epoch 40/100\n",
      "242/242 [==============================] - 0s 888us/step - loss: 0.4638 - val_loss: 0.4405\n",
      "Epoch 41/100\n",
      "242/242 [==============================] - 0s 849us/step - loss: 0.4612 - val_loss: 0.4402\n",
      "Epoch 42/100\n",
      "242/242 [==============================] - 0s 873us/step - loss: 0.4589 - val_loss: 0.4388\n",
      "Epoch 43/100\n",
      "242/242 [==============================] - 0s 1ms/step - loss: 0.4566 - val_loss: 0.4353\n",
      "Epoch 44/100\n",
      "242/242 [==============================] - 0s 1ms/step - loss: 0.4545 - val_loss: 0.4343\n",
      "Epoch 45/100\n",
      "242/242 [==============================] - 0s 1ms/step - loss: 0.4524 - val_loss: 0.4324\n",
      "Epoch 46/100\n",
      "242/242 [==============================] - 0s 869us/step - loss: 0.4504 - val_loss: 0.4306\n",
      "Epoch 47/100\n",
      "242/242 [==============================] - 0s 1ms/step - loss: 0.4485 - val_loss: 0.4297\n",
      "Epoch 48/100\n",
      "242/242 [==============================] - 0s 1ms/step - loss: 0.4468 - val_loss: 0.4283\n",
      "Epoch 49/100\n",
      "242/242 [==============================] - 0s 1ms/step - loss: 0.4450 - val_loss: 0.4285\n",
      "Epoch 50/100\n",
      "242/242 [==============================] - 0s 1ms/step - loss: 0.4434 - val_loss: 0.4278\n",
      "Epoch 51/100\n",
      "242/242 [==============================] - 0s 1ms/step - loss: 0.4417 - val_loss: 0.4273\n",
      "Epoch 52/100\n",
      "242/242 [==============================] - 0s 1ms/step - loss: 0.4402 - val_loss: 0.4261\n",
      "Epoch 53/100\n",
      "242/242 [==============================] - 0s 1ms/step - loss: 0.4387 - val_loss: 0.4253\n",
      "Epoch 54/100\n",
      "242/242 [==============================] - 0s 904us/step - loss: 0.4374 - val_loss: 0.4239\n",
      "Epoch 55/100\n",
      "242/242 [==============================] - 0s 2ms/step - loss: 0.4360 - val_loss: 0.4228\n",
      "Epoch 56/100\n",
      "242/242 [==============================] - 0s 1ms/step - loss: 0.4346 - val_loss: 0.4228\n",
      "Epoch 57/100\n",
      "242/242 [==============================] - 0s 1ms/step - loss: 0.4334 - val_loss: 0.4223\n",
      "Epoch 58/100\n",
      "242/242 [==============================] - 0s 1ms/step - loss: 0.4323 - val_loss: 0.4221\n",
      "Epoch 59/100\n",
      "242/242 [==============================] - 0s 1ms/step - loss: 0.4310 - val_loss: 0.4221\n",
      "Epoch 60/100\n",
      "242/242 [==============================] - 0s 1ms/step - loss: 0.4299 - val_loss: 0.4194\n",
      "Epoch 61/100\n",
      "242/242 [==============================] - 0s 1ms/step - loss: 0.4288 - val_loss: 0.4198\n",
      "Epoch 62/100\n",
      "242/242 [==============================] - 0s 1ms/step - loss: 0.4277 - val_loss: 0.4218\n",
      "Epoch 63/100\n",
      "242/242 [==============================] - 0s 1ms/step - loss: 0.4268 - val_loss: 0.4191\n",
      "Epoch 64/100\n",
      "242/242 [==============================] - 0s 1ms/step - loss: 0.4257 - val_loss: 0.4172\n",
      "Epoch 65/100\n",
      "242/242 [==============================] - 0s 1ms/step - loss: 0.4248 - val_loss: 0.4166\n",
      "Epoch 66/100\n",
      "242/242 [==============================] - 0s 1ms/step - loss: 0.4238 - val_loss: 0.4169\n",
      "Epoch 67/100\n",
      "242/242 [==============================] - 0s 1ms/step - loss: 0.4229 - val_loss: 0.4139\n",
      "Epoch 68/100\n",
      "242/242 [==============================] - 0s 1ms/step - loss: 0.4219 - val_loss: 0.4152\n",
      "Epoch 69/100\n",
      "242/242 [==============================] - 0s 1ms/step - loss: 0.4211 - val_loss: 0.4157\n",
      "Epoch 70/100\n",
      "242/242 [==============================] - 0s 1ms/step - loss: 0.4202 - val_loss: 0.4141\n",
      "Epoch 71/100\n",
      "242/242 [==============================] - 0s 2ms/step - loss: 0.4193 - val_loss: 0.4123\n",
      "Epoch 72/100\n",
      "242/242 [==============================] - 0s 1ms/step - loss: 0.4185 - val_loss: 0.4132\n",
      "Epoch 73/100\n",
      "242/242 [==============================] - 0s 1ms/step - loss: 0.4177 - val_loss: 0.4126\n",
      "Epoch 74/100\n",
      "242/242 [==============================] - 0s 1ms/step - loss: 0.4169 - val_loss: 0.4126\n",
      "Epoch 75/100\n",
      "242/242 [==============================] - 0s 1ms/step - loss: 0.4162 - val_loss: 0.4137\n",
      "Epoch 76/100\n",
      "242/242 [==============================] - 0s 1ms/step - loss: 0.4154 - val_loss: 0.4146\n",
      "Epoch 77/100\n",
      "242/242 [==============================] - 0s 987us/step - loss: 0.4147 - val_loss: 0.4136\n",
      "Epoch 78/100\n",
      "242/242 [==============================] - 0s 1ms/step - loss: 0.4140 - val_loss: 0.4131\n",
      "Epoch 79/100\n",
      "242/242 [==============================] - 0s 1ms/step - loss: 0.4133 - val_loss: 0.4134\n",
      "Epoch 80/100\n",
      "242/242 [==============================] - 0s 854us/step - loss: 0.4126 - val_loss: 0.4150\n",
      "Epoch 81/100\n",
      "242/242 [==============================] - 0s 770us/step - loss: 0.4119 - val_loss: 0.4139\n",
      "121/121 [==============================] - 0s 580us/step - loss: 0.4128\n",
      "[CV]  n_neurons=60, n_hidden=1, learning_rate=0.000407717619148505, total=  20.3s\n",
      "[CV] n_neurons=15, n_hidden=0, learning_rate=0.005554415729949388 ....\n",
      "Epoch 1/100\n",
      "242/242 [==============================] - 0s 1ms/step - loss: 1.8880 - val_loss: 3.4724\n",
      "Epoch 2/100\n",
      "242/242 [==============================] - 0s 753us/step - loss: 0.6700 - val_loss: 16.0061\n",
      "Epoch 3/100\n",
      "242/242 [==============================] - 0s 852us/step - loss: 0.6084 - val_loss: 20.1360\n",
      "Epoch 4/100\n",
      "242/242 [==============================] - 0s 787us/step - loss: 0.8189 - val_loss: 62.9899\n",
      "Epoch 5/100\n",
      "242/242 [==============================] - 0s 850us/step - loss: 0.8725 - val_loss: 86.3107\n",
      "Epoch 6/100\n",
      "242/242 [==============================] - 0s 809us/step - loss: 2.0493 - val_loss: 151.3087\n",
      "Epoch 7/100\n",
      "242/242 [==============================] - 0s 710us/step - loss: 1.7593 - val_loss: 302.1398\n",
      "Epoch 8/100\n",
      "242/242 [==============================] - 0s 830us/step - loss: 5.3568 - val_loss: 579.6380\n",
      "Epoch 9/100\n",
      "242/242 [==============================] - 0s 736us/step - loss: 6.1436 - val_loss: 1036.4474\n",
      "Epoch 10/100\n",
      "242/242 [==============================] - 0s 728us/step - loss: 17.4949 - val_loss: 2086.1848\n",
      "Epoch 11/100\n",
      "242/242 [==============================] - 0s 905us/step - loss: 23.5016 - val_loss: 4177.9810\n",
      "121/121 [==============================] - 0s 651us/step - loss: 10.6348\n",
      "[CV]  n_neurons=15, n_hidden=0, learning_rate=0.005554415729949388, total=   2.5s\n",
      "[CV] n_neurons=15, n_hidden=0, learning_rate=0.005554415729949388 ....\n",
      "Epoch 1/100\n",
      "242/242 [==============================] - 0s 1ms/step - loss: 1.7634 - val_loss: 13.6236\n",
      "Epoch 2/100\n",
      "242/242 [==============================] - 0s 813us/step - loss: 0.6304 - val_loss: 18.1901\n",
      "Epoch 3/100\n",
      "242/242 [==============================] - 0s 886us/step - loss: 0.5817 - val_loss: 21.4699\n",
      "Epoch 4/100\n",
      "242/242 [==============================] - 0s 783us/step - loss: 0.5538 - val_loss: 22.5485\n",
      "Epoch 5/100\n",
      "242/242 [==============================] - 0s 718us/step - loss: 0.5359 - val_loss: 22.9386\n",
      "Epoch 6/100\n",
      "242/242 [==============================] - 0s 715us/step - loss: 0.5241 - val_loss: 23.0319\n",
      "Epoch 7/100\n",
      "242/242 [==============================] - 0s 722us/step - loss: 0.5162 - val_loss: 22.6285\n",
      "Epoch 8/100\n",
      "242/242 [==============================] - 0s 717us/step - loss: 0.5108 - val_loss: 22.6868\n",
      "Epoch 9/100\n",
      "242/242 [==============================] - 0s 775us/step - loss: 0.5069 - val_loss: 22.1119\n",
      "Epoch 10/100\n",
      "242/242 [==============================] - 0s 713us/step - loss: 0.5049 - val_loss: 20.3187\n",
      "Epoch 11/100\n",
      "242/242 [==============================] - 0s 831us/step - loss: 0.5036 - val_loss: 20.9132\n",
      "121/121 [==============================] - 0s 585us/step - loss: 0.9985\n",
      "[CV]  n_neurons=15, n_hidden=0, learning_rate=0.005554415729949388, total=   2.5s\n",
      "[CV] n_neurons=15, n_hidden=0, learning_rate=0.005554415729949388 ....\n",
      "Epoch 1/100\n",
      "242/242 [==============================] - 0s 1ms/step - loss: 1.4817 - val_loss: 1.1587\n",
      "Epoch 2/100\n",
      "242/242 [==============================] - 0s 986us/step - loss: 0.5929 - val_loss: 0.5331\n",
      "Epoch 3/100\n",
      "242/242 [==============================] - 0s 783us/step - loss: 0.5891 - val_loss: 4.6909\n",
      "Epoch 4/100\n",
      "242/242 [==============================] - 0s 742us/step - loss: 0.5758 - val_loss: 11.2856\n",
      "Epoch 5/100\n",
      "242/242 [==============================] - 0s 743us/step - loss: 0.6477 - val_loss: 49.4999\n",
      "Epoch 6/100\n",
      "242/242 [==============================] - 0s 751us/step - loss: 0.8309 - val_loss: 46.9622\n",
      "Epoch 7/100\n"
     ]
    },
    {
     "name": "stdout",
     "output_type": "stream",
     "text": [
      "242/242 [==============================] - 0s 726us/step - loss: 0.9991 - val_loss: 71.9378\n",
      "Epoch 8/100\n",
      "242/242 [==============================] - 0s 798us/step - loss: 1.3957 - val_loss: 117.6742\n",
      "Epoch 9/100\n",
      "242/242 [==============================] - 0s 717us/step - loss: 1.8979 - val_loss: 160.9355\n",
      "Epoch 10/100\n",
      "242/242 [==============================] - 0s 740us/step - loss: 1.1749 - val_loss: 130.7724\n",
      "Epoch 11/100\n",
      "242/242 [==============================] - 0s 761us/step - loss: 3.0708 - val_loss: 141.0030\n",
      "Epoch 12/100\n",
      "242/242 [==============================] - 0s 763us/step - loss: 1.3530 - val_loss: 144.6364\n",
      "121/121 [==============================] - 0s 973us/step - loss: 0.5010\n",
      "[CV]  n_neurons=15, n_hidden=0, learning_rate=0.005554415729949388, total=   2.7s\n",
      "[CV] n_neurons=42, n_hidden=0, learning_rate=0.002455785301566658 ....\n",
      "Epoch 1/100\n",
      "242/242 [==============================] - 0s 1ms/step - loss: 3.1705 - val_loss: 1.2371\n",
      "Epoch 2/100\n",
      "242/242 [==============================] - 0s 839us/step - loss: 0.9091 - val_loss: 0.7084\n",
      "Epoch 3/100\n",
      "242/242 [==============================] - 0s 866us/step - loss: 0.7186 - val_loss: 0.7023\n",
      "Epoch 4/100\n",
      "242/242 [==============================] - 0s 704us/step - loss: 0.6779 - val_loss: 0.6216\n",
      "Epoch 5/100\n",
      "242/242 [==============================] - 0s 714us/step - loss: 0.6525 - val_loss: 0.6051\n",
      "Epoch 6/100\n",
      "242/242 [==============================] - 0s 759us/step - loss: 0.6273 - val_loss: 1.0461\n",
      "Epoch 7/100\n",
      "242/242 [==============================] - 0s 707us/step - loss: 0.6189 - val_loss: 0.6779\n",
      "Epoch 8/100\n",
      "242/242 [==============================] - 0s 965us/step - loss: 0.6005 - val_loss: 0.7904\n",
      "Epoch 9/100\n",
      "242/242 [==============================] - 0s 925us/step - loss: 0.5949 - val_loss: 0.5496\n",
      "Epoch 10/100\n",
      "242/242 [==============================] - 0s 792us/step - loss: 0.5746 - val_loss: 1.0000\n",
      "Epoch 11/100\n",
      "242/242 [==============================] - 0s 1ms/step - loss: 0.5759 - val_loss: 0.7072\n",
      "Epoch 12/100\n",
      "242/242 [==============================] - 0s 823us/step - loss: 0.5689 - val_loss: 0.5602\n",
      "Epoch 13/100\n",
      "242/242 [==============================] - 0s 711us/step - loss: 0.5519 - val_loss: 1.2283\n",
      "Epoch 14/100\n",
      "242/242 [==============================] - 0s 881us/step - loss: 0.5602 - val_loss: 0.8209\n",
      "Epoch 15/100\n",
      "242/242 [==============================] - 0s 738us/step - loss: 0.5560 - val_loss: 0.5075\n",
      "Epoch 16/100\n",
      "242/242 [==============================] - 0s 745us/step - loss: 0.5435 - val_loss: 0.8351\n",
      "Epoch 17/100\n",
      "242/242 [==============================] - 0s 813us/step - loss: 0.5469 - val_loss: 0.6751\n",
      "Epoch 18/100\n",
      "242/242 [==============================] - 0s 820us/step - loss: 0.5398 - val_loss: 0.8833\n",
      "Epoch 19/100\n",
      "242/242 [==============================] - 0s 854us/step - loss: 0.5406 - val_loss: 0.8433\n",
      "Epoch 20/100\n",
      "242/242 [==============================] - 0s 721us/step - loss: 0.5394 - val_loss: 0.8071\n",
      "Epoch 21/100\n",
      "242/242 [==============================] - 0s 830us/step - loss: 0.5432 - val_loss: 0.5009\n",
      "Epoch 22/100\n",
      "242/242 [==============================] - 0s 785us/step - loss: 0.5297 - val_loss: 0.9748\n",
      "Epoch 23/100\n",
      "242/242 [==============================] - 0s 809us/step - loss: 0.5398 - val_loss: 0.6420\n",
      "Epoch 24/100\n",
      "242/242 [==============================] - 0s 759us/step - loss: 0.5333 - val_loss: 0.7134\n",
      "Epoch 25/100\n",
      "242/242 [==============================] - 0s 826us/step - loss: 0.5368 - val_loss: 0.5242\n",
      "Epoch 26/100\n",
      "242/242 [==============================] - 0s 907us/step - loss: 0.5341 - val_loss: 0.5015\n",
      "Epoch 27/100\n",
      "242/242 [==============================] - 0s 1ms/step - loss: 0.5247 - val_loss: 1.2132\n",
      "Epoch 28/100\n",
      "242/242 [==============================] - 0s 1ms/step - loss: 0.5439 - val_loss: 0.6014\n",
      "Epoch 29/100\n",
      "242/242 [==============================] - 0s 933us/step - loss: 0.5274 - val_loss: 0.9235\n",
      "Epoch 30/100\n",
      "242/242 [==============================] - 0s 875us/step - loss: 0.5382 - val_loss: 0.4927\n",
      "Epoch 31/100\n",
      "242/242 [==============================] - 0s 755us/step - loss: 0.5302 - val_loss: 0.5394\n",
      "Epoch 32/100\n",
      "242/242 [==============================] - 0s 819us/step - loss: 0.5327 - val_loss: 0.5084\n",
      "Epoch 33/100\n",
      "242/242 [==============================] - 0s 738us/step - loss: 0.5277 - val_loss: 0.7077\n",
      "Epoch 34/100\n",
      "242/242 [==============================] - 0s 743us/step - loss: 0.5335 - val_loss: 0.5253\n",
      "Epoch 35/100\n",
      "242/242 [==============================] - 0s 835us/step - loss: 0.5323 - val_loss: 0.5625\n",
      "Epoch 36/100\n",
      "242/242 [==============================] - 0s 744us/step - loss: 0.5252 - val_loss: 0.9521\n",
      "Epoch 37/100\n",
      "242/242 [==============================] - 0s 815us/step - loss: 0.5375 - val_loss: 1.2315\n",
      "Epoch 38/100\n",
      "242/242 [==============================] - 0s 995us/step - loss: 0.5277 - val_loss: 1.5773\n",
      "Epoch 39/100\n",
      "242/242 [==============================] - 0s 811us/step - loss: 0.5457 - val_loss: 0.7030\n",
      "Epoch 40/100\n",
      "242/242 [==============================] - 0s 930us/step - loss: 0.5292 - val_loss: 0.6318\n",
      "121/121 [==============================] - 0s 610us/step - loss: 0.5342\n",
      "[CV]  n_neurons=42, n_hidden=0, learning_rate=0.002455785301566658, total=   8.6s\n",
      "[CV] n_neurons=42, n_hidden=0, learning_rate=0.002455785301566658 ....\n",
      "Epoch 1/100\n",
      "242/242 [==============================] - 0s 1ms/step - loss: 3.3491 - val_loss: 8.2241\n",
      "Epoch 2/100\n",
      "242/242 [==============================] - 0s 821us/step - loss: 0.8778 - val_loss: 1.8516\n",
      "Epoch 3/100\n",
      "242/242 [==============================] - 0s 721us/step - loss: 0.6339 - val_loss: 0.5595\n",
      "Epoch 4/100\n",
      "242/242 [==============================] - 0s 778us/step - loss: 0.5854 - val_loss: 1.5264\n",
      "Epoch 5/100\n",
      "242/242 [==============================] - 0s 793us/step - loss: 0.5625 - val_loss: 3.5132\n",
      "Epoch 6/100\n",
      "242/242 [==============================] - 0s 789us/step - loss: 0.5474 - val_loss: 5.8909\n",
      "Epoch 7/100\n",
      "242/242 [==============================] - 0s 816us/step - loss: 0.5367 - val_loss: 8.2332\n",
      "Epoch 8/100\n",
      "242/242 [==============================] - 0s 757us/step - loss: 0.5286 - val_loss: 10.4715\n",
      "Epoch 9/100\n",
      "242/242 [==============================] - 0s 759us/step - loss: 0.5226 - val_loss: 12.3809\n",
      "Epoch 10/100\n",
      "242/242 [==============================] - 0s 857us/step - loss: 0.5182 - val_loss: 13.7505\n",
      "Epoch 11/100\n",
      "242/242 [==============================] - 0s 752us/step - loss: 0.5148 - val_loss: 15.2376\n",
      "Epoch 12/100\n",
      "242/242 [==============================] - 0s 745us/step - loss: 0.5117 - val_loss: 16.4695\n",
      "Epoch 13/100\n",
      "242/242 [==============================] - 0s 764us/step - loss: 0.5097 - val_loss: 17.5432\n",
      "121/121 [==============================] - 0s 602us/step - loss: 0.9282\n",
      "[CV]  n_neurons=42, n_hidden=0, learning_rate=0.002455785301566658, total=   2.9s\n",
      "[CV] n_neurons=42, n_hidden=0, learning_rate=0.002455785301566658 ....\n",
      "Epoch 1/100\n",
      "242/242 [==============================] - 0s 1ms/step - loss: 3.1443 - val_loss: 1.1240\n",
      "Epoch 2/100\n",
      "242/242 [==============================] - 0s 833us/step - loss: 0.8145 - val_loss: 0.6299\n",
      "Epoch 3/100\n",
      "242/242 [==============================] - 0s 794us/step - loss: 0.6309 - val_loss: 0.5688\n",
      "Epoch 4/100\n",
      "242/242 [==============================] - 0s 811us/step - loss: 0.5963 - val_loss: 1.0951\n",
      "Epoch 5/100\n",
      "242/242 [==============================] - 0s 734us/step - loss: 0.5953 - val_loss: 0.8192\n",
      "Epoch 6/100\n",
      "242/242 [==============================] - 0s 760us/step - loss: 0.5799 - val_loss: 0.6602\n",
      "Epoch 7/100\n",
      "242/242 [==============================] - 0s 851us/step - loss: 0.5726 - val_loss: 0.5532\n",
      "Epoch 8/100\n",
      "242/242 [==============================] - 0s 807us/step - loss: 0.5593 - val_loss: 1.0841\n",
      "Epoch 9/100\n",
      "242/242 [==============================] - 0s 718us/step - loss: 0.5668 - val_loss: 0.5253\n",
      "Epoch 10/100\n",
      "242/242 [==============================] - 0s 814us/step - loss: 0.5544 - val_loss: 0.6049\n",
      "Epoch 11/100\n",
      "242/242 [==============================] - 0s 756us/step - loss: 0.5449 - val_loss: 1.2077\n",
      "Epoch 12/100\n",
      "242/242 [==============================] - 0s 714us/step - loss: 0.5578 - val_loss: 0.5418\n",
      "Epoch 13/100\n",
      "242/242 [==============================] - 0s 757us/step - loss: 0.5446 - val_loss: 0.5392\n",
      "Epoch 14/100\n"
     ]
    },
    {
     "name": "stdout",
     "output_type": "stream",
     "text": [
      "242/242 [==============================] - 0s 820us/step - loss: 0.5419 - val_loss: 0.6093\n",
      "Epoch 15/100\n",
      "242/242 [==============================] - 0s 805us/step - loss: 0.5438 - val_loss: 0.5298\n",
      "Epoch 16/100\n",
      "242/242 [==============================] - 0s 712us/step - loss: 0.5343 - val_loss: 0.9416\n",
      "Epoch 17/100\n",
      "242/242 [==============================] - 0s 790us/step - loss: 0.5457 - val_loss: 0.5120\n",
      "Epoch 18/100\n",
      "242/242 [==============================] - 0s 803us/step - loss: 0.5375 - val_loss: 0.5010\n",
      "Epoch 19/100\n",
      "242/242 [==============================] - 0s 779us/step - loss: 0.5307 - val_loss: 1.0572\n",
      "Epoch 20/100\n",
      "242/242 [==============================] - 0s 787us/step - loss: 0.5451 - val_loss: 0.4956\n",
      "Epoch 21/100\n",
      "242/242 [==============================] - 0s 787us/step - loss: 0.5346 - val_loss: 0.5485\n",
      "Epoch 22/100\n",
      "242/242 [==============================] - 0s 982us/step - loss: 0.5347 - val_loss: 0.5744\n",
      "Epoch 23/100\n",
      "242/242 [==============================] - 0s 1ms/step - loss: 0.5372 - val_loss: 0.5486\n",
      "Epoch 24/100\n",
      "242/242 [==============================] - 0s 881us/step - loss: 0.5327 - val_loss: 0.5357\n",
      "Epoch 25/100\n",
      "242/242 [==============================] - 0s 831us/step - loss: 0.5349 - val_loss: 0.4942\n",
      "Epoch 26/100\n",
      "242/242 [==============================] - 0s 954us/step - loss: 0.5333 - val_loss: 0.5995\n",
      "Epoch 27/100\n",
      "242/242 [==============================] - 0s 823us/step - loss: 0.5249 - val_loss: 1.3036\n",
      "Epoch 28/100\n",
      "242/242 [==============================] - 0s 868us/step - loss: 0.5450 - val_loss: 0.4988\n",
      "Epoch 29/100\n",
      "242/242 [==============================] - 0s 1ms/step - loss: 0.5271 - val_loss: 0.9339\n",
      "Epoch 30/100\n",
      "242/242 [==============================] - 0s 1ms/step - loss: 0.5397 - val_loss: 0.4966\n",
      "Epoch 31/100\n",
      "242/242 [==============================] - 0s 948us/step - loss: 0.5283 - val_loss: 0.7244\n",
      "Epoch 32/100\n",
      "242/242 [==============================] - 0s 1ms/step - loss: 0.5331 - val_loss: 0.7556\n",
      "Epoch 33/100\n",
      "242/242 [==============================] - 0s 1ms/step - loss: 0.5325 - val_loss: 0.7263\n",
      "Epoch 34/100\n",
      "242/242 [==============================] - 0s 1ms/step - loss: 0.5324 - val_loss: 0.8366\n",
      "Epoch 35/100\n",
      "242/242 [==============================] - 0s 989us/step - loss: 0.5337 - val_loss: 0.7853\n",
      "121/121 [==============================] - 0s 557us/step - loss: 0.5272\n",
      "[CV]  n_neurons=42, n_hidden=0, learning_rate=0.002455785301566658, total=   7.9s\n",
      "Epoch 1/100\n"
     ]
    },
    {
     "name": "stderr",
     "output_type": "stream",
     "text": [
      "[Parallel(n_jobs=1)]: Done  30 out of  30 | elapsed:  4.3min finished\n"
     ]
    },
    {
     "name": "stdout",
     "output_type": "stream",
     "text": [
      "363/363 [==============================] - 1s 1ms/step - loss: 1.9492 - val_loss: 1.9438\n",
      "Epoch 2/100\n",
      "363/363 [==============================] - 0s 1ms/step - loss: 0.7052 - val_loss: 0.6583\n",
      "Epoch 3/100\n",
      "363/363 [==============================] - 0s 809us/step - loss: 0.6343 - val_loss: 0.6086\n",
      "Epoch 4/100\n",
      "363/363 [==============================] - 0s 852us/step - loss: 0.5924 - val_loss: 0.5458\n",
      "Epoch 5/100\n",
      "363/363 [==============================] - 0s 842us/step - loss: 0.5580 - val_loss: 0.5166\n",
      "Epoch 6/100\n",
      "363/363 [==============================] - 0s 969us/step - loss: 0.5281 - val_loss: 0.4838\n",
      "Epoch 7/100\n",
      "363/363 [==============================] - 0s 911us/step - loss: 0.5042 - val_loss: 0.4784\n",
      "Epoch 8/100\n",
      "363/363 [==============================] - 0s 772us/step - loss: 0.4847 - val_loss: 0.4683\n",
      "Epoch 9/100\n",
      "363/363 [==============================] - 0s 787us/step - loss: 0.4668 - val_loss: 0.4281\n",
      "Epoch 10/100\n",
      "363/363 [==============================] - 0s 823us/step - loss: 0.4527 - val_loss: 0.4157\n",
      "Epoch 11/100\n",
      "363/363 [==============================] - 0s 803us/step - loss: 0.4413 - val_loss: 0.4523\n",
      "Epoch 12/100\n",
      "363/363 [==============================] - 0s 852us/step - loss: 0.4316 - val_loss: 0.4000\n",
      "Epoch 13/100\n",
      "363/363 [==============================] - 0s 780us/step - loss: 0.4235 - val_loss: 0.4106\n",
      "Epoch 14/100\n",
      "363/363 [==============================] - 0s 808us/step - loss: 0.4168 - val_loss: 0.3924\n",
      "Epoch 15/100\n",
      "363/363 [==============================] - 0s 775us/step - loss: 0.4112 - val_loss: 0.3990\n",
      "Epoch 16/100\n",
      "363/363 [==============================] - 0s 992us/step - loss: 0.4064 - val_loss: 0.3801\n",
      "Epoch 17/100\n",
      "363/363 [==============================] - 0s 1ms/step - loss: 0.4022 - val_loss: 0.4281\n",
      "Epoch 18/100\n",
      "363/363 [==============================] - 0s 868us/step - loss: 0.3989 - val_loss: 0.3899\n",
      "Epoch 19/100\n",
      "363/363 [==============================] - 0s 790us/step - loss: 0.3949 - val_loss: 0.3737\n",
      "Epoch 20/100\n",
      "363/363 [==============================] - 0s 761us/step - loss: 0.3922 - val_loss: 0.4573\n",
      "Epoch 21/100\n",
      "363/363 [==============================] - 0s 764us/step - loss: 0.3896 - val_loss: 0.3827\n",
      "Epoch 22/100\n",
      "363/363 [==============================] - 0s 819us/step - loss: 0.3867 - val_loss: 0.4528\n",
      "Epoch 23/100\n",
      "363/363 [==============================] - 0s 831us/step - loss: 0.3846 - val_loss: 0.3620\n",
      "Epoch 24/100\n",
      "363/363 [==============================] - 0s 804us/step - loss: 0.3822 - val_loss: 0.4100\n",
      "Epoch 25/100\n",
      "363/363 [==============================] - 0s 797us/step - loss: 0.3800 - val_loss: 0.4129\n",
      "Epoch 26/100\n",
      "363/363 [==============================] - 0s 918us/step - loss: 0.3781 - val_loss: 0.4082\n",
      "Epoch 27/100\n",
      "363/363 [==============================] - 0s 789us/step - loss: 0.3767 - val_loss: 0.3536\n",
      "Epoch 28/100\n",
      "363/363 [==============================] - 0s 944us/step - loss: 0.3748 - val_loss: 0.4175\n",
      "Epoch 29/100\n",
      "363/363 [==============================] - 0s 789us/step - loss: 0.3733 - val_loss: 0.3545\n",
      "Epoch 30/100\n",
      "363/363 [==============================] - 0s 970us/step - loss: 0.3713 - val_loss: 0.4364\n",
      "Epoch 31/100\n",
      "363/363 [==============================] - 0s 1ms/step - loss: 0.3699 - val_loss: 0.3564\n",
      "Epoch 32/100\n",
      "363/363 [==============================] - 0s 1ms/step - loss: 0.3682 - val_loss: 0.4321\n",
      "Epoch 33/100\n",
      "363/363 [==============================] - 0s 1ms/step - loss: 0.3677 - val_loss: 0.3435\n",
      "Epoch 34/100\n",
      "363/363 [==============================] - 0s 1ms/step - loss: 0.3657 - val_loss: 0.3542\n",
      "Epoch 35/100\n",
      "363/363 [==============================] - 0s 1ms/step - loss: 0.3645 - val_loss: 0.4329\n",
      "Epoch 36/100\n",
      "363/363 [==============================] - 0s 1ms/step - loss: 0.3636 - val_loss: 0.3459\n",
      "Epoch 37/100\n",
      "363/363 [==============================] - 1s 1ms/step - loss: 0.3623 - val_loss: 0.3998\n",
      "Epoch 38/100\n",
      "363/363 [==============================] - 1s 1ms/step - loss: 0.3612 - val_loss: 0.3385\n",
      "Epoch 39/100\n",
      "363/363 [==============================] - 1s 1ms/step - loss: 0.3600 - val_loss: 0.3503\n",
      "Epoch 40/100\n",
      "363/363 [==============================] - 0s 1ms/step - loss: 0.3588 - val_loss: 0.3608\n",
      "Epoch 41/100\n",
      "363/363 [==============================] - 0s 1ms/step - loss: 0.3582 - val_loss: 0.3705\n",
      "Epoch 42/100\n",
      "363/363 [==============================] - 0s 1ms/step - loss: 0.3573 - val_loss: 0.3937\n",
      "Epoch 43/100\n",
      "363/363 [==============================] - 0s 808us/step - loss: 0.3560 - val_loss: 0.3773\n",
      "Epoch 44/100\n",
      "363/363 [==============================] - 0s 820us/step - loss: 0.3550 - val_loss: 0.4034\n",
      "Epoch 45/100\n",
      "363/363 [==============================] - 0s 739us/step - loss: 0.3547 - val_loss: 0.3337\n",
      "Epoch 46/100\n",
      "363/363 [==============================] - 0s 770us/step - loss: 0.3533 - val_loss: 0.3435\n",
      "Epoch 47/100\n",
      "363/363 [==============================] - 0s 792us/step - loss: 0.3526 - val_loss: 0.3541\n",
      "Epoch 48/100\n",
      "363/363 [==============================] - 0s 867us/step - loss: 0.3518 - val_loss: 0.3872\n",
      "Epoch 49/100\n",
      "363/363 [==============================] - 0s 820us/step - loss: 0.3516 - val_loss: 0.3333\n",
      "Epoch 50/100\n",
      "363/363 [==============================] - 0s 812us/step - loss: 0.3503 - val_loss: 0.3309\n",
      "Epoch 51/100\n",
      "363/363 [==============================] - 0s 1ms/step - loss: 0.3495 - val_loss: 0.3667\n",
      "Epoch 52/100\n",
      "363/363 [==============================] - 0s 824us/step - loss: 0.3490 - val_loss: 0.3410\n",
      "Epoch 53/100\n",
      "363/363 [==============================] - 0s 808us/step - loss: 0.3481 - val_loss: 0.4665\n",
      "Epoch 54/100\n",
      "363/363 [==============================] - 0s 856us/step - loss: 0.3481 - val_loss: 0.3454\n",
      "Epoch 55/100\n",
      "363/363 [==============================] - 0s 836us/step - loss: 0.3469 - val_loss: 0.3474\n",
      "Epoch 56/100\n",
      "363/363 [==============================] - 0s 819us/step - loss: 0.3461 - val_loss: 0.3275\n",
      "Epoch 57/100\n",
      "363/363 [==============================] - 0s 802us/step - loss: 0.3453 - val_loss: 0.3276\n",
      "Epoch 58/100\n",
      "363/363 [==============================] - 0s 802us/step - loss: 0.3445 - val_loss: 0.3772\n",
      "Epoch 59/100\n",
      "363/363 [==============================] - 0s 802us/step - loss: 0.3445 - val_loss: 0.3438\n",
      "Epoch 60/100\n",
      "363/363 [==============================] - 0s 810us/step - loss: 0.3436 - val_loss: 0.3279\n",
      "Epoch 61/100\n",
      "363/363 [==============================] - 0s 932us/step - loss: 0.3426 - val_loss: 0.3696\n",
      "Epoch 62/100\n",
      "363/363 [==============================] - 0s 967us/step - loss: 0.3425 - val_loss: 0.3422\n",
      "Epoch 63/100\n",
      "363/363 [==============================] - 0s 1ms/step - loss: 0.3411 - val_loss: 0.3320\n",
      "Epoch 64/100\n",
      "363/363 [==============================] - 0s 1ms/step - loss: 0.3413 - val_loss: 0.3242\n",
      "Epoch 65/100\n",
      "363/363 [==============================] - 0s 865us/step - loss: 0.3405 - val_loss: 0.3288\n",
      "Epoch 66/100\n",
      "363/363 [==============================] - 0s 958us/step - loss: 0.3398 - val_loss: 0.3349\n",
      "Epoch 67/100\n",
      "363/363 [==============================] - 0s 842us/step - loss: 0.3391 - val_loss: 0.3367\n",
      "Epoch 68/100\n",
      "363/363 [==============================] - 0s 1000us/step - loss: 0.3386 - val_loss: 0.3352\n",
      "Epoch 69/100\n",
      "363/363 [==============================] - 0s 864us/step - loss: 0.3380 - val_loss: 0.3326\n",
      "Epoch 70/100\n",
      "363/363 [==============================] - 0s 957us/step - loss: 0.3372 - val_loss: 0.4049\n",
      "Epoch 71/100\n",
      "363/363 [==============================] - 0s 1ms/step - loss: 0.3373 - val_loss: 0.3433\n",
      "Epoch 72/100\n",
      "363/363 [==============================] - 0s 808us/step - loss: 0.3363 - val_loss: 0.3315\n",
      "Epoch 73/100\n",
      "363/363 [==============================] - 0s 1ms/step - loss: 0.3354 - val_loss: 0.3204\n",
      "Epoch 74/100\n",
      "363/363 [==============================] - 0s 795us/step - loss: 0.3354 - val_loss: 0.3938\n",
      "Epoch 75/100\n",
      "363/363 [==============================] - 0s 784us/step - loss: 0.3348 - val_loss: 0.3611\n",
      "Epoch 76/100\n",
      "363/363 [==============================] - 0s 801us/step - loss: 0.3344 - val_loss: 0.3244\n",
      "Epoch 77/100\n",
      "363/363 [==============================] - 0s 853us/step - loss: 0.3333 - val_loss: 0.4165\n",
      "Epoch 78/100\n",
      "363/363 [==============================] - 0s 890us/step - loss: 0.3333 - val_loss: 0.3417\n",
      "Epoch 79/100\n",
      "363/363 [==============================] - 0s 824us/step - loss: 0.3325 - val_loss: 0.3606\n",
      "Epoch 80/100\n"
     ]
    },
    {
     "name": "stdout",
     "output_type": "stream",
     "text": [
      "363/363 [==============================] - 0s 857us/step - loss: 0.3322 - val_loss: 0.3503\n",
      "Epoch 81/100\n",
      "363/363 [==============================] - 0s 873us/step - loss: 0.3317 - val_loss: 0.3371\n",
      "Epoch 82/100\n",
      "363/363 [==============================] - 0s 962us/step - loss: 0.3312 - val_loss: 0.3265\n",
      "Epoch 83/100\n",
      "363/363 [==============================] - 0s 955us/step - loss: 0.3308 - val_loss: 0.3444\n"
     ]
    },
    {
     "data": {
      "text/plain": [
       "RandomizedSearchCV(cv=3, error_score=nan,\n",
       "                   estimator=<tensorflow.python.keras.wrappers.scikit_learn.KerasRegressor object at 0x0000027E59FA9E48>,\n",
       "                   iid='deprecated', n_iter=10, n_jobs=None,\n",
       "                   param_distributions={'learning_rate': [0.00037192261022352417,\n",
       "                                                          0.026584732357599207,\n",
       "                                                          0.0008763224455697141,\n",
       "                                                          0.0004553382391952247,\n",
       "                                                          0.0051747964719537,\n",
       "                                                          0.0017460040118129545,\n",
       "                                                          0.027...\n",
       "                                                          0.009723980412586881,\n",
       "                                                          0.002125362451575068,\n",
       "                                                          0.00078163604837412,\n",
       "                                                          0.00409752781511476,\n",
       "                                                          0.0003465355862919297,\n",
       "                                                          0.014510781542046656, ...],\n",
       "                                        'n_hidden': [0, 1, 2, 3],\n",
       "                                        'n_neurons': [1, 2, 3, 4, 5, 6, 7, 8, 9,\n",
       "                                                      10, 11, 12, 13, 14, 15,\n",
       "                                                      16, 17, 18, 19, 20, 21,\n",
       "                                                      22, 23, 24, 25, 26, 27,\n",
       "                                                      28, 29, 30, ...]},\n",
       "                   pre_dispatch='2*n_jobs', random_state=None, refit=True,\n",
       "                   return_train_score=False, scoring=None, verbose=2)"
      ]
     },
     "execution_count": 192,
     "metadata": {},
     "output_type": "execute_result"
    }
   ],
   "source": [
    "from scipy.stats import reciprocal\n",
    "from sklearn.model_selection import RandomizedSearchCV\n",
    "\n",
    "param_distribs = {\n",
    "    \"n_hidden\": [0, 1, 2, 3],\n",
    "    \"n_neurons\": np.arange(1, 100)               .tolist(),\n",
    "    \"learning_rate\": reciprocal(3e-4, 3e-2)      .rvs(1000).tolist(),\n",
    "}\n",
    "\n",
    "rnd_search_cv = RandomizedSearchCV(keras_reg, param_distribs, n_iter=10, cv=3, verbose=2)\n",
    "rnd_search_cv.fit(X_train, y_train, epochs=100,\n",
    "                  validation_data=(X_valid, y_valid),\n",
    "                  callbacks=[keras.callbacks.EarlyStopping(patience=10)])"
   ]
  },
  {
   "cell_type": "code",
   "execution_count": 193,
   "metadata": {},
   "outputs": [
    {
     "data": {
      "text/plain": [
       "{'n_neurons': 82, 'n_hidden': 2, 'learning_rate': 0.0009105229973597177}"
      ]
     },
     "execution_count": 193,
     "metadata": {},
     "output_type": "execute_result"
    }
   ],
   "source": [
    "rnd_search_cv.best_params_"
   ]
  },
  {
   "cell_type": "code",
   "execution_count": 194,
   "metadata": {},
   "outputs": [
    {
     "data": {
      "text/plain": [
       "-0.3779635230700175"
      ]
     },
     "execution_count": 194,
     "metadata": {},
     "output_type": "execute_result"
    }
   ],
   "source": [
    "rnd_search_cv.best_score_"
   ]
  },
  {
   "cell_type": "code",
   "execution_count": 195,
   "metadata": {},
   "outputs": [
    {
     "data": {
      "text/plain": [
       "<tensorflow.python.keras.wrappers.scikit_learn.KerasRegressor at 0x27e5e3d7088>"
      ]
     },
     "execution_count": 195,
     "metadata": {},
     "output_type": "execute_result"
    }
   ],
   "source": [
    "rnd_search_cv.best_estimator_"
   ]
  },
  {
   "cell_type": "code",
   "execution_count": 196,
   "metadata": {},
   "outputs": [
    {
     "name": "stdout",
     "output_type": "stream",
     "text": [
      "162/162 [==============================] - 0s 818us/step - loss: 0.3353\n"
     ]
    },
    {
     "data": {
      "text/plain": [
       "-0.3353423476219177"
      ]
     },
     "execution_count": 196,
     "metadata": {},
     "output_type": "execute_result"
    }
   ],
   "source": [
    "rnd_search_cv.score(X_test, y_test)"
   ]
  },
  {
   "cell_type": "code",
   "execution_count": 198,
   "metadata": {},
   "outputs": [
    {
     "data": {
      "text/plain": [
       "<tensorflow.python.keras.engine.sequential.Sequential at 0x27e62f71a48>"
      ]
     },
     "execution_count": 198,
     "metadata": {},
     "output_type": "execute_result"
    }
   ],
   "source": [
    "model12 = rnd_search_cv.best_estimator_.model\n",
    "model12"
   ]
  },
  {
   "cell_type": "code",
   "execution_count": 199,
   "metadata": {},
   "outputs": [
    {
     "name": "stdout",
     "output_type": "stream",
     "text": [
      "162/162 [==============================] - 0s 719us/step - loss: 0.3353\n"
     ]
    },
    {
     "data": {
      "text/plain": [
       "0.3353423476219177"
      ]
     },
     "execution_count": 199,
     "metadata": {},
     "output_type": "execute_result"
    }
   ],
   "source": [
    "model12.evaluate(X_test, y_test)"
   ]
  },
  {
   "cell_type": "code",
   "execution_count": null,
   "metadata": {},
   "outputs": [],
   "source": []
  }
 ],
 "metadata": {
  "kernelspec": {
   "display_name": "Python 3",
   "language": "python",
   "name": "python3"
  },
  "language_info": {
   "codemirror_mode": {
    "name": "ipython",
    "version": 3
   },
   "file_extension": ".py",
   "mimetype": "text/x-python",
   "name": "python",
   "nbconvert_exporter": "python",
   "pygments_lexer": "ipython3",
   "version": "3.7.6"
  }
 },
 "nbformat": 4,
 "nbformat_minor": 4
}
